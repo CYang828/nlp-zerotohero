{
 "cells": [
  {
   "cell_type": "markdown",
   "metadata": {},
   "source": [
    "# 问答摘要与推理\n",
    "\n",
    "## 问题描述\n",
    "项目一是由百度AI技术生态部门提供，题目为“汽车大师问答摘要与推理”。\n",
    "\n",
    "要求大家使用汽车大师提供的11万条（技师与用户的多轮对话与诊断建议报告数据）建立模型，模型需基于对话文本、用户问题、车型与车系，输出包含摘要与推断的报告文本，综合考验模型的归纳总结与推断能力。该解决方案可以节省大量人工时间，提高用户获取回答和解决方案的效率。\n",
    "\n",
    "## 数据说明\n",
    "对于每个用户问题\"QID\"，有对应文本形式的文本集合 D = \"Brand\", \"Collection\", \"Problem\", \"Conversation\"，要求阅读理解系统自动对D进行分析，输出相应的报告文本\"Report\"，其中包含摘要与推理。目标是\"Report\"可以正确、完整、简洁、清晰、连贯地对D中的信息作归纳总结与推理。\n",
    "\n",
    "训练：所提供的训练集（82943条记录）建立模型，基于汽车品牌、车系、问题内容与问答对话的文本，输出建议报告文本\n",
    "\n",
    "输出结果：对所提供的测试集（20000条记录）使用训练好的模型，输出建议报告的结果文件，通过最终测评得到评价分数\n",
    "\n",
    "请提交一个CSV文件，包含QID和Prediction两个字段，分隔符为逗号(',')，请注意区分大小写。参考样例如下：\n",
    "\n",
    "|QID|Prediction|\n",
    "|-|-|\n",
    "|Q103432|你的预测|\n",
    "|Q100965|你的预测|\n",
    "\n",
    "训练、测试数据\n"
   ]
  },
  {
   "cell_type": "code",
   "execution_count": 32,
   "metadata": {},
   "outputs": [],
   "source": [
    "import pandas as pd\n",
    "\n",
    "train_path = \"/Users/zn-nlp/Documents/project1_auto_master_qa/datasets/AutoMaster_TrainSet.csv\"\n",
    "test_path = \"/Users/zn-nlp/Documents/project1_auto_master_qa/datasets/AutoMaster_TestSet.csv\""
   ]
  },
  {
   "cell_type": "code",
   "execution_count": 33,
   "metadata": {},
   "outputs": [
    {
     "ename": "FileNotFoundError",
     "evalue": "[Errno 2] No such file or directory: '/Users/zn-nlp/Documents/project1_auto_master_qa/datasets/AutoMaster_TrainSet.csv'",
     "output_type": "error",
     "traceback": [
      "\u001b[0;31m---------------------------------------------------------------------------\u001b[0m",
      "\u001b[0;31mFileNotFoundError\u001b[0m                         Traceback (most recent call last)",
      "\u001b[0;32m<ipython-input-33-4ec64aebfa58>\u001b[0m in \u001b[0;36m<module>\u001b[0;34m\u001b[0m\n\u001b[0;32m----> 1\u001b[0;31m \u001b[0mdf\u001b[0m \u001b[0;34m=\u001b[0m \u001b[0mpd\u001b[0m\u001b[0;34m.\u001b[0m\u001b[0mread_csv\u001b[0m\u001b[0;34m(\u001b[0m\u001b[0mtrain_path\u001b[0m\u001b[0;34m,\u001b[0m \u001b[0mencoding\u001b[0m\u001b[0;34m=\u001b[0m\u001b[0;34m'utf-8'\u001b[0m\u001b[0;34m)\u001b[0m\u001b[0;34m\u001b[0m\u001b[0;34m\u001b[0m\u001b[0m\n\u001b[0m",
      "\u001b[0;32m~/opt/anaconda3/lib/python3.8/site-packages/pandas/io/parsers.py\u001b[0m in \u001b[0;36mread_csv\u001b[0;34m(filepath_or_buffer, sep, delimiter, header, names, index_col, usecols, squeeze, prefix, mangle_dupe_cols, dtype, engine, converters, true_values, false_values, skipinitialspace, skiprows, skipfooter, nrows, na_values, keep_default_na, na_filter, verbose, skip_blank_lines, parse_dates, infer_datetime_format, keep_date_col, date_parser, dayfirst, cache_dates, iterator, chunksize, compression, thousands, decimal, lineterminator, quotechar, quoting, doublequote, escapechar, comment, encoding, dialect, error_bad_lines, warn_bad_lines, delim_whitespace, low_memory, memory_map, float_precision, storage_options)\u001b[0m\n\u001b[1;32m    608\u001b[0m     \u001b[0mkwds\u001b[0m\u001b[0;34m.\u001b[0m\u001b[0mupdate\u001b[0m\u001b[0;34m(\u001b[0m\u001b[0mkwds_defaults\u001b[0m\u001b[0;34m)\u001b[0m\u001b[0;34m\u001b[0m\u001b[0;34m\u001b[0m\u001b[0m\n\u001b[1;32m    609\u001b[0m \u001b[0;34m\u001b[0m\u001b[0m\n\u001b[0;32m--> 610\u001b[0;31m     \u001b[0;32mreturn\u001b[0m \u001b[0m_read\u001b[0m\u001b[0;34m(\u001b[0m\u001b[0mfilepath_or_buffer\u001b[0m\u001b[0;34m,\u001b[0m \u001b[0mkwds\u001b[0m\u001b[0;34m)\u001b[0m\u001b[0;34m\u001b[0m\u001b[0;34m\u001b[0m\u001b[0m\n\u001b[0m\u001b[1;32m    611\u001b[0m \u001b[0;34m\u001b[0m\u001b[0m\n\u001b[1;32m    612\u001b[0m \u001b[0;34m\u001b[0m\u001b[0m\n",
      "\u001b[0;32m~/opt/anaconda3/lib/python3.8/site-packages/pandas/io/parsers.py\u001b[0m in \u001b[0;36m_read\u001b[0;34m(filepath_or_buffer, kwds)\u001b[0m\n\u001b[1;32m    460\u001b[0m \u001b[0;34m\u001b[0m\u001b[0m\n\u001b[1;32m    461\u001b[0m     \u001b[0;31m# Create the parser.\u001b[0m\u001b[0;34m\u001b[0m\u001b[0;34m\u001b[0m\u001b[0;34m\u001b[0m\u001b[0m\n\u001b[0;32m--> 462\u001b[0;31m     \u001b[0mparser\u001b[0m \u001b[0;34m=\u001b[0m \u001b[0mTextFileReader\u001b[0m\u001b[0;34m(\u001b[0m\u001b[0mfilepath_or_buffer\u001b[0m\u001b[0;34m,\u001b[0m \u001b[0;34m**\u001b[0m\u001b[0mkwds\u001b[0m\u001b[0;34m)\u001b[0m\u001b[0;34m\u001b[0m\u001b[0;34m\u001b[0m\u001b[0m\n\u001b[0m\u001b[1;32m    463\u001b[0m \u001b[0;34m\u001b[0m\u001b[0m\n\u001b[1;32m    464\u001b[0m     \u001b[0;32mif\u001b[0m \u001b[0mchunksize\u001b[0m \u001b[0;32mor\u001b[0m \u001b[0miterator\u001b[0m\u001b[0;34m:\u001b[0m\u001b[0;34m\u001b[0m\u001b[0;34m\u001b[0m\u001b[0m\n",
      "\u001b[0;32m~/opt/anaconda3/lib/python3.8/site-packages/pandas/io/parsers.py\u001b[0m in \u001b[0;36m__init__\u001b[0;34m(self, f, engine, **kwds)\u001b[0m\n\u001b[1;32m    817\u001b[0m             \u001b[0mself\u001b[0m\u001b[0;34m.\u001b[0m\u001b[0moptions\u001b[0m\u001b[0;34m[\u001b[0m\u001b[0;34m\"has_index_names\"\u001b[0m\u001b[0;34m]\u001b[0m \u001b[0;34m=\u001b[0m \u001b[0mkwds\u001b[0m\u001b[0;34m[\u001b[0m\u001b[0;34m\"has_index_names\"\u001b[0m\u001b[0;34m]\u001b[0m\u001b[0;34m\u001b[0m\u001b[0;34m\u001b[0m\u001b[0m\n\u001b[1;32m    818\u001b[0m \u001b[0;34m\u001b[0m\u001b[0m\n\u001b[0;32m--> 819\u001b[0;31m         \u001b[0mself\u001b[0m\u001b[0;34m.\u001b[0m\u001b[0m_engine\u001b[0m \u001b[0;34m=\u001b[0m \u001b[0mself\u001b[0m\u001b[0;34m.\u001b[0m\u001b[0m_make_engine\u001b[0m\u001b[0;34m(\u001b[0m\u001b[0mself\u001b[0m\u001b[0;34m.\u001b[0m\u001b[0mengine\u001b[0m\u001b[0;34m)\u001b[0m\u001b[0;34m\u001b[0m\u001b[0;34m\u001b[0m\u001b[0m\n\u001b[0m\u001b[1;32m    820\u001b[0m \u001b[0;34m\u001b[0m\u001b[0m\n\u001b[1;32m    821\u001b[0m     \u001b[0;32mdef\u001b[0m \u001b[0mclose\u001b[0m\u001b[0;34m(\u001b[0m\u001b[0mself\u001b[0m\u001b[0;34m)\u001b[0m\u001b[0;34m:\u001b[0m\u001b[0;34m\u001b[0m\u001b[0;34m\u001b[0m\u001b[0m\n",
      "\u001b[0;32m~/opt/anaconda3/lib/python3.8/site-packages/pandas/io/parsers.py\u001b[0m in \u001b[0;36m_make_engine\u001b[0;34m(self, engine)\u001b[0m\n\u001b[1;32m   1048\u001b[0m             )\n\u001b[1;32m   1049\u001b[0m         \u001b[0;31m# error: Too many arguments for \"ParserBase\"\u001b[0m\u001b[0;34m\u001b[0m\u001b[0;34m\u001b[0m\u001b[0;34m\u001b[0m\u001b[0m\n\u001b[0;32m-> 1050\u001b[0;31m         \u001b[0;32mreturn\u001b[0m \u001b[0mmapping\u001b[0m\u001b[0;34m[\u001b[0m\u001b[0mengine\u001b[0m\u001b[0;34m]\u001b[0m\u001b[0;34m(\u001b[0m\u001b[0mself\u001b[0m\u001b[0;34m.\u001b[0m\u001b[0mf\u001b[0m\u001b[0;34m,\u001b[0m \u001b[0;34m**\u001b[0m\u001b[0mself\u001b[0m\u001b[0;34m.\u001b[0m\u001b[0moptions\u001b[0m\u001b[0;34m)\u001b[0m  \u001b[0;31m# type: ignore[call-arg]\u001b[0m\u001b[0;34m\u001b[0m\u001b[0;34m\u001b[0m\u001b[0m\n\u001b[0m\u001b[1;32m   1051\u001b[0m \u001b[0;34m\u001b[0m\u001b[0m\n\u001b[1;32m   1052\u001b[0m     \u001b[0;32mdef\u001b[0m \u001b[0m_failover_to_python\u001b[0m\u001b[0;34m(\u001b[0m\u001b[0mself\u001b[0m\u001b[0;34m)\u001b[0m\u001b[0;34m:\u001b[0m\u001b[0;34m\u001b[0m\u001b[0;34m\u001b[0m\u001b[0m\n",
      "\u001b[0;32m~/opt/anaconda3/lib/python3.8/site-packages/pandas/io/parsers.py\u001b[0m in \u001b[0;36m__init__\u001b[0;34m(self, src, **kwds)\u001b[0m\n\u001b[1;32m   1865\u001b[0m \u001b[0;34m\u001b[0m\u001b[0m\n\u001b[1;32m   1866\u001b[0m         \u001b[0;31m# open handles\u001b[0m\u001b[0;34m\u001b[0m\u001b[0;34m\u001b[0m\u001b[0;34m\u001b[0m\u001b[0m\n\u001b[0;32m-> 1867\u001b[0;31m         \u001b[0mself\u001b[0m\u001b[0;34m.\u001b[0m\u001b[0m_open_handles\u001b[0m\u001b[0;34m(\u001b[0m\u001b[0msrc\u001b[0m\u001b[0;34m,\u001b[0m \u001b[0mkwds\u001b[0m\u001b[0;34m)\u001b[0m\u001b[0;34m\u001b[0m\u001b[0;34m\u001b[0m\u001b[0m\n\u001b[0m\u001b[1;32m   1868\u001b[0m         \u001b[0;32massert\u001b[0m \u001b[0mself\u001b[0m\u001b[0;34m.\u001b[0m\u001b[0mhandles\u001b[0m \u001b[0;32mis\u001b[0m \u001b[0;32mnot\u001b[0m \u001b[0;32mNone\u001b[0m\u001b[0;34m\u001b[0m\u001b[0;34m\u001b[0m\u001b[0m\n\u001b[1;32m   1869\u001b[0m         \u001b[0;32mfor\u001b[0m \u001b[0mkey\u001b[0m \u001b[0;32min\u001b[0m \u001b[0;34m(\u001b[0m\u001b[0;34m\"storage_options\"\u001b[0m\u001b[0;34m,\u001b[0m \u001b[0;34m\"encoding\"\u001b[0m\u001b[0;34m,\u001b[0m \u001b[0;34m\"memory_map\"\u001b[0m\u001b[0;34m,\u001b[0m \u001b[0;34m\"compression\"\u001b[0m\u001b[0;34m)\u001b[0m\u001b[0;34m:\u001b[0m\u001b[0;34m\u001b[0m\u001b[0;34m\u001b[0m\u001b[0m\n",
      "\u001b[0;32m~/opt/anaconda3/lib/python3.8/site-packages/pandas/io/parsers.py\u001b[0m in \u001b[0;36m_open_handles\u001b[0;34m(self, src, kwds)\u001b[0m\n\u001b[1;32m   1360\u001b[0m         \u001b[0mLet\u001b[0m \u001b[0mthe\u001b[0m \u001b[0mreaders\u001b[0m \u001b[0mopen\u001b[0m \u001b[0mIOHanldes\u001b[0m \u001b[0mafter\u001b[0m \u001b[0mthey\u001b[0m \u001b[0mare\u001b[0m \u001b[0mdone\u001b[0m \u001b[0;32mwith\u001b[0m \u001b[0mtheir\u001b[0m \u001b[0mpotential\u001b[0m \u001b[0mraises\u001b[0m\u001b[0;34m.\u001b[0m\u001b[0;34m\u001b[0m\u001b[0;34m\u001b[0m\u001b[0m\n\u001b[1;32m   1361\u001b[0m         \"\"\"\n\u001b[0;32m-> 1362\u001b[0;31m         self.handles = get_handle(\n\u001b[0m\u001b[1;32m   1363\u001b[0m             \u001b[0msrc\u001b[0m\u001b[0;34m,\u001b[0m\u001b[0;34m\u001b[0m\u001b[0;34m\u001b[0m\u001b[0m\n\u001b[1;32m   1364\u001b[0m             \u001b[0;34m\"r\"\u001b[0m\u001b[0;34m,\u001b[0m\u001b[0;34m\u001b[0m\u001b[0;34m\u001b[0m\u001b[0m\n",
      "\u001b[0;32m~/opt/anaconda3/lib/python3.8/site-packages/pandas/io/common.py\u001b[0m in \u001b[0;36mget_handle\u001b[0;34m(path_or_buf, mode, encoding, compression, memory_map, is_text, errors, storage_options)\u001b[0m\n\u001b[1;32m    640\u001b[0m                 \u001b[0merrors\u001b[0m \u001b[0;34m=\u001b[0m \u001b[0;34m\"replace\"\u001b[0m\u001b[0;34m\u001b[0m\u001b[0;34m\u001b[0m\u001b[0m\n\u001b[1;32m    641\u001b[0m             \u001b[0;31m# Encoding\u001b[0m\u001b[0;34m\u001b[0m\u001b[0;34m\u001b[0m\u001b[0;34m\u001b[0m\u001b[0m\n\u001b[0;32m--> 642\u001b[0;31m             handle = open(\n\u001b[0m\u001b[1;32m    643\u001b[0m                 \u001b[0mhandle\u001b[0m\u001b[0;34m,\u001b[0m\u001b[0;34m\u001b[0m\u001b[0;34m\u001b[0m\u001b[0m\n\u001b[1;32m    644\u001b[0m                 \u001b[0mioargs\u001b[0m\u001b[0;34m.\u001b[0m\u001b[0mmode\u001b[0m\u001b[0;34m,\u001b[0m\u001b[0;34m\u001b[0m\u001b[0;34m\u001b[0m\u001b[0m\n",
      "\u001b[0;31mFileNotFoundError\u001b[0m: [Errno 2] No such file or directory: '/Users/zn-nlp/Documents/project1_auto_master_qa/datasets/AutoMaster_TrainSet.csv'"
     ]
    }
   ],
   "source": [
    "df = pd.read_csv(train_path, encoding='utf-8')"
   ]
  },
  {
   "cell_type": "code",
   "execution_count": 3,
   "metadata": {},
   "outputs": [
    {
     "name": "stdout",
     "output_type": "stream",
     "text": [
      "<class 'pandas.core.frame.DataFrame'>\n",
      "RangeIndex: 82943 entries, 0 to 82942\n",
      "Data columns (total 6 columns):\n",
      "QID         82943 non-null object\n",
      "Brand       81642 non-null object\n",
      "Model       81642 non-null object\n",
      "Question    82943 non-null object\n",
      "Dialogue    82941 non-null object\n",
      "Report      82873 non-null object\n",
      "dtypes: object(6)\n",
      "memory usage: 3.8+ MB\n"
     ]
    }
   ],
   "source": [
    "df.info()"
   ]
  },
  {
   "cell_type": "code",
   "execution_count": 4,
   "metadata": {},
   "outputs": [
    {
     "data": {
      "text/html": [
       "<div>\n",
       "<style scoped>\n",
       "    .dataframe tbody tr th:only-of-type {\n",
       "        vertical-align: middle;\n",
       "    }\n",
       "\n",
       "    .dataframe tbody tr th {\n",
       "        vertical-align: top;\n",
       "    }\n",
       "\n",
       "    .dataframe thead th {\n",
       "        text-align: right;\n",
       "    }\n",
       "</style>\n",
       "<table border=\"1\" class=\"dataframe\">\n",
       "  <thead>\n",
       "    <tr style=\"text-align: right;\">\n",
       "      <th></th>\n",
       "      <th>QID</th>\n",
       "      <th>Brand</th>\n",
       "      <th>Model</th>\n",
       "      <th>Question</th>\n",
       "      <th>Dialogue</th>\n",
       "      <th>Report</th>\n",
       "    </tr>\n",
       "  </thead>\n",
       "  <tbody>\n",
       "    <tr>\n",
       "      <th>0</th>\n",
       "      <td>Q1</td>\n",
       "      <td>奔驰</td>\n",
       "      <td>奔驰GL级</td>\n",
       "      <td>方向机重，助力泵，方向机都换了还是一样</td>\n",
       "      <td>技师说：[语音]|车主说：新的都换了|车主说：助力泵，方向机|技师说：[语音]|车主说：换了...</td>\n",
       "      <td>随时联系</td>\n",
       "    </tr>\n",
       "    <tr>\n",
       "      <th>1</th>\n",
       "      <td>Q2</td>\n",
       "      <td>奔驰</td>\n",
       "      <td>奔驰M级</td>\n",
       "      <td>奔驰ML500排气凸轮轴调节错误</td>\n",
       "      <td>技师说：你这个有没有电脑检测故障代码。|车主说：有|技师说：发一下|车主说：发动机之前亮故障...</td>\n",
       "      <td>随时联系</td>\n",
       "    </tr>\n",
       "    <tr>\n",
       "      <th>2</th>\n",
       "      <td>Q3</td>\n",
       "      <td>宝马</td>\n",
       "      <td>宝马X1(进口)</td>\n",
       "      <td>2010款宝马X1，2011年出厂，2.0排量，通用6L45变速箱，原地换挡位PRND车辆闯...</td>\n",
       "      <td>技师说：你好，4缸自然吸气发动机N46是吧，先挂空档再挂其他档有没有闯动呢，变速箱油液位是否...</td>\n",
       "      <td>行驶没有顿挫的感觉，原地换挡有闯动，刹车踩重没有，这是力的限制的作用，应该没有问题</td>\n",
       "    </tr>\n",
       "    <tr>\n",
       "      <th>3</th>\n",
       "      <td>Q4</td>\n",
       "      <td>Jeep</td>\n",
       "      <td>牧马人</td>\n",
       "      <td>3.0V6发动机号在什么位置，有照片最好！</td>\n",
       "      <td>技师说：右侧排气管上方，缸体上靠近变速箱|车主说：[图片]|车主说：是不是这个？|车主说：这...</td>\n",
       "      <td>举起车辆，在左前轮这边的缸体上</td>\n",
       "    </tr>\n",
       "    <tr>\n",
       "      <th>4</th>\n",
       "      <td>Q5</td>\n",
       "      <td>奔驰</td>\n",
       "      <td>奔驰C级</td>\n",
       "      <td>2012款奔驰c180怎么样，维修保养，动力，值得拥有吗</td>\n",
       "      <td>技师说：家庭用车的话，还是可以入手的|技师说：维修保养费用不高|车主说：12年的180市场价...</td>\n",
       "      <td>家庭用车可以入手的，维修保养价格还可以。车况好，价格合理可以入手</td>\n",
       "    </tr>\n",
       "  </tbody>\n",
       "</table>\n",
       "</div>"
      ],
      "text/plain": [
       "  QID Brand     Model                                           Question  \\\n",
       "0  Q1    奔驰     奔驰GL级                                方向机重，助力泵，方向机都换了还是一样   \n",
       "1  Q2    奔驰      奔驰M级                                   奔驰ML500排气凸轮轴调节错误   \n",
       "2  Q3    宝马  宝马X1(进口)  2010款宝马X1，2011年出厂，2.0排量，通用6L45变速箱，原地换挡位PRND车辆闯...   \n",
       "3  Q4  Jeep       牧马人                              3.0V6发动机号在什么位置，有照片最好！   \n",
       "4  Q5    奔驰      奔驰C级                       2012款奔驰c180怎么样，维修保养，动力，值得拥有吗   \n",
       "\n",
       "                                            Dialogue  \\\n",
       "0  技师说：[语音]|车主说：新的都换了|车主说：助力泵，方向机|技师说：[语音]|车主说：换了...   \n",
       "1  技师说：你这个有没有电脑检测故障代码。|车主说：有|技师说：发一下|车主说：发动机之前亮故障...   \n",
       "2  技师说：你好，4缸自然吸气发动机N46是吧，先挂空档再挂其他档有没有闯动呢，变速箱油液位是否...   \n",
       "3  技师说：右侧排气管上方，缸体上靠近变速箱|车主说：[图片]|车主说：是不是这个？|车主说：这...   \n",
       "4  技师说：家庭用车的话，还是可以入手的|技师说：维修保养费用不高|车主说：12年的180市场价...   \n",
       "\n",
       "                                      Report  \n",
       "0                                       随时联系  \n",
       "1                                       随时联系  \n",
       "2  行驶没有顿挫的感觉，原地换挡有闯动，刹车踩重没有，这是力的限制的作用，应该没有问题  \n",
       "3                            举起车辆，在左前轮这边的缸体上  \n",
       "4           家庭用车可以入手的，维修保养价格还可以。车况好，价格合理可以入手  "
      ]
     },
     "execution_count": 4,
     "metadata": {},
     "output_type": "execute_result"
    }
   ],
   "source": [
    "df.head()"
   ]
  },
  {
   "cell_type": "code",
   "execution_count": 5,
   "metadata": {},
   "outputs": [
    {
     "data": {
      "text/plain": [
       "QID                                                        Q1\n",
       "Brand                                                      奔驰\n",
       "Model                                                   奔驰GL级\n",
       "Question                                  方向机重，助力泵，方向机都换了还是一样\n",
       "Dialogue    技师说：[语音]|车主说：新的都换了|车主说：助力泵，方向机|技师说：[语音]|车主说：换了...\n",
       "Report                                                   随时联系\n",
       "Name: 0, dtype: object"
      ]
     },
     "execution_count": 5,
     "metadata": {},
     "output_type": "execute_result"
    }
   ],
   "source": [
    "df.iloc[0]"
   ]
  },
  {
   "cell_type": "markdown",
   "metadata": {},
   "source": [
    "# 如何完成项目\n",
    "\n",
    "## Tensorflow and PyTorch\n",
    "\n",
    "## Github\n",
    "\n",
    "## 每周提交作业\n",
    "\n",
    "## 多在群里讨论"
   ]
  },
  {
   "cell_type": "markdown",
   "metadata": {},
   "source": [
    "# 分词\n",
    "\n",
    "## jieba\n",
    "\n",
    "+ jieba.cut 方法接受三个输入参数: 需要分词的字符串；cut_all 参数用来控制是否采用全模式；HMM 参数用来控制是否使用 HMM 模型\n",
    "+ jieba.cut_for_search 方法接受两个参数：需要分词的字符串；是否使用 HMM 模型。该方法适合用于搜索引擎构建倒排索引的分词，粒度比较细待分词的字符串可以是 unicode 或 UTF-8 字符串、GBK 字符串。注意：不建议直接输入 GBK 字符串，可能无法预料地错误解码成 UTF-8\n",
    "+ jieba.cut 以及 jieba.cut_for_search 返回的结构都是一个可迭代的 generator，可以使用 for 循环来获得分词后得到的每一个词语(unicode)，或者用\n",
    "+ jieba.lcut 以及 jieba.lcut_for_search 直接返回 list\n",
    "+ jieba.Tokenizer(dictionary=DEFAULT_DICT) 新建自定义分词器，可用于同时使用不同词典。jieba.dt 为默认分词器，所有全局分词相关函数都是该分词器的映射。\n"
   ]
  },
  {
   "cell_type": "code",
   "execution_count": 6,
   "metadata": {},
   "outputs": [],
   "source": [
    "import jieba\n",
    "import jieba.posseg as pseg"
   ]
  },
  {
   "cell_type": "code",
   "execution_count": 7,
   "metadata": {},
   "outputs": [
    {
     "name": "stderr",
     "output_type": "stream",
     "text": [
      "Building prefix dict from the default dictionary ...\n",
      "Loading model from cache /var/folders/sj/8mpjzv0n0y9ddyrkwd7zj8540000gn/T/jieba.cache\n",
      "Loading model cost 0.682 seconds.\n",
      "Prefix dict has been built succesfully.\n"
     ]
    },
    {
     "name": "stdout",
     "output_type": "stream",
     "text": [
      "Full Mode:我/来到/北京/清华/清华大学/华大/大学\n",
      "Default Mode:我/来到/北京/清华大学\n",
      "我, 来到, 北京, 清华大学\n",
      "Search Engin Mode小明, 硕士, 毕业, 于, 中国, 科学, 学院, 科学院, 中国科学院, 计算, 计算所, ，, 后, 在, 日本, 京都, 大学, 日本京都大学, 深造\n"
     ]
    }
   ],
   "source": [
    "seg_list = jieba.cut('我来到北京清华大学',cut_all=True)\n",
    "print('Full Mode:' + '/'.join(seg_list)) #全模式\n",
    "\n",
    "seg_list = jieba.cut('我来到北京清华大学',cut_all=False)\n",
    "print('Default Mode:' + '/'.join(seg_list)) # 精确模式\n",
    "\n",
    "seg_list = jieba.cut('我来到北京清华大学')\n",
    "print(', '.join(seg_list)) # 默认为精确模式\n",
    "\n",
    "seg_list = jieba.cut_for_search('小明硕士毕业于中国科学院计算所，后在日本京都大学深造') # 搜索引擎模式\n",
    "print('Search Engin Mode'+', '.join(seg_list))"
   ]
  },
  {
   "cell_type": "code",
   "execution_count": 8,
   "metadata": {},
   "outputs": [
    {
     "name": "stdout",
     "output_type": "stream",
     "text": [
      "word: 0\tflag: 我/r\n",
      "word: 1\tflag: 爱/v\n",
      "word: 2\tflag: 北京/ns\n",
      "word: 3\tflag: 天安门/ns\n"
     ]
    }
   ],
   "source": [
    "words = pseg.cut('我爱北京天安门')\n",
    "for w, f in enumerate(words):\n",
    "    print((\"word: %s\\tflag: %s\")%(w,f))"
   ]
  },
  {
   "cell_type": "markdown",
   "metadata": {},
   "source": [
    "# Gensim 词向量"
   ]
  },
  {
   "cell_type": "code",
   "execution_count": 1,
   "metadata": {},
   "outputs": [
    {
     "name": "stderr",
     "output_type": "stream",
     "text": [
      "/Users/zhangchunyang/opt/anaconda3/lib/python3.8/site-packages/gensim/similarities/__init__.py:15: UserWarning: The gensim.similarities.levenshtein submodule is disabled, because the optional Levenshtein package <https://pypi.org/project/python-Levenshtein/> is unavailable. Install Levenhstein (e.g. `pip install python-Levenshtein`) to suppress this warning.\n",
      "  warnings.warn(msg)\n"
     ]
    }
   ],
   "source": [
    "from gensim.models import KeyedVectors\n",
    "import time"
   ]
  },
  {
   "cell_type": "code",
   "execution_count": 2,
   "metadata": {},
   "outputs": [
    {
     "name": "stdout",
     "output_type": "stream",
     "text": [
      "CPU times: user 967 ms, sys: 162 ms, total: 1.13 s\n",
      "Wall time: 1.16 s\n"
     ]
    }
   ],
   "source": [
    "%%time\n",
    "wv_model = KeyedVectors.load('wv/word2vec.model')"
   ]
  },
  {
   "cell_type": "code",
   "execution_count": 4,
   "metadata": {},
   "outputs": [
    {
     "data": {
      "text/plain": [
       "array([ 1.58235982e-01, -2.61883706e-01,  1.62336126e-01,  8.85544643e-02,\n",
       "       -1.46510117e-02, -2.09542871e-01,  8.12062249e-02, -1.43722415e-01,\n",
       "        1.03082664e-01,  1.12199403e-01, -3.30058068e-01, -1.46056905e-01,\n",
       "        1.62128136e-01, -3.00620764e-01,  3.07419926e-01, -4.66545671e-02,\n",
       "       -1.09406173e-01,  6.34395182e-02,  1.93055212e-01, -2.78982610e-01,\n",
       "       -1.81792080e-02,  2.25594327e-01,  5.68810143e-02,  2.92701572e-02,\n",
       "       -3.20064336e-01,  1.31448328e-01,  2.84659211e-03,  1.93726972e-01,\n",
       "       -2.84232587e-01,  1.13915568e-02,  3.32291991e-01, -1.14366725e-01,\n",
       "        1.05838537e-01,  1.46952987e-01, -4.01179232e-02,  2.29132712e-01,\n",
       "        2.55235732e-02,  6.15437515e-02,  1.78509429e-01, -2.40973279e-01,\n",
       "        2.42203578e-01,  8.20337832e-02,  2.01181427e-01, -4.97813933e-02,\n",
       "       -3.43562394e-01, -8.47347379e-02,  1.08576424e-01,  1.00295737e-01,\n",
       "        4.99092013e-01, -2.73089111e-02,  1.24530628e-01,  2.32436992e-02,\n",
       "        2.11259321e-04, -1.49995387e-02,  3.43505979e-01, -3.18197720e-02,\n",
       "       -2.03916192e-01, -3.13190907e-01,  1.18877657e-01,  2.15411000e-02,\n",
       "       -1.32893145e-01, -1.71899781e-01, -3.02159220e-01, -2.21638098e-01,\n",
       "        3.04331005e-01, -2.68017232e-01,  7.87293259e-03,  1.05218202e-01,\n",
       "        2.33649552e-01, -1.00529782e-01,  1.03196040e-01, -9.71351564e-02,\n",
       "       -1.61731362e-01, -1.65267825e-01,  4.65938374e-02,  2.41362606e-03,\n",
       "       -3.00657511e-01,  1.90588742e-01, -2.60474235e-01, -1.62432671e-01,\n",
       "       -2.70077765e-01,  5.73764220e-02, -2.13829968e-02, -1.32093357e-03,\n",
       "        4.93038408e-02,  4.88034189e-01,  1.54797621e-02,  7.32402429e-02,\n",
       "       -1.48689970e-01,  6.45796657e-02, -2.15219557e-01, -1.99864134e-01,\n",
       "        1.31773412e-01,  9.20714065e-02, -2.00991467e-01, -1.41339824e-01,\n",
       "       -1.42242596e-01, -5.15123233e-02,  9.91339311e-02,  8.31584558e-02,\n",
       "        5.19028939e-02, -6.48652315e-01, -1.14941195e-01, -2.10437141e-02,\n",
       "        1.31436065e-01,  1.28469646e-01,  4.73354943e-02, -1.02295853e-01,\n",
       "       -7.96885639e-02, -1.72983259e-01, -1.03315003e-01, -1.35229111e-01,\n",
       "       -2.35164468e-03, -1.11243337e-01, -3.56599510e-01,  1.33026049e-01,\n",
       "        5.52169047e-03, -1.13161661e-01, -3.84018570e-01,  5.78377629e-03,\n",
       "       -5.32969125e-02,  2.11066023e-01, -2.29129225e-01, -1.41244665e-01,\n",
       "        1.09267905e-01,  5.58352947e-01,  2.56658912e-01, -1.28099382e-01,\n",
       "        2.33409666e-02, -5.58057204e-02,  6.21816590e-02,  1.96639728e-02,\n",
       "        3.18463534e-01, -2.03113005e-01, -2.35744849e-01,  3.27018589e-01,\n",
       "        2.01773256e-01,  2.65676469e-01, -1.19829744e-01, -2.95626326e-03,\n",
       "        2.06495032e-01,  1.41033426e-01, -1.43648461e-01, -2.13235259e-01,\n",
       "       -2.41041392e-01,  1.81139901e-01,  6.21729672e-01, -1.17514253e-01,\n",
       "       -1.31846175e-01,  1.35933459e-01, -1.62048504e-01,  7.63644502e-02,\n",
       "        3.05263579e-01, -1.44876465e-01, -1.26147673e-01, -1.36421680e-01,\n",
       "       -3.46496440e-02,  6.46445453e-02, -7.07960948e-02, -3.07228535e-01,\n",
       "       -2.13408664e-01, -1.12418890e-01, -3.54982674e-01, -2.54636288e-01,\n",
       "       -2.27252841e-01,  7.47546703e-02,  9.38886951e-04, -8.18048790e-02,\n",
       "       -1.81206480e-01, -1.27677113e-01, -1.52347684e-01, -1.04760863e-01,\n",
       "        4.89299484e-02, -1.04864255e-01,  1.58044398e-01, -4.09069121e-01,\n",
       "       -1.83291823e-01, -1.03676967e-01,  3.37785870e-01, -3.56664546e-02,\n",
       "       -3.09234083e-01,  6.54211342e-02,  4.23543118e-02, -1.53226539e-01,\n",
       "        1.35581985e-01, -1.36113167e-01, -1.73953008e-02, -6.11324911e-04,\n",
       "        1.13863327e-01,  6.22394718e-02,  1.51969850e-01, -8.62809792e-02,\n",
       "        7.13320896e-02, -8.81253928e-03,  2.10600585e-01, -2.81640649e-01,\n",
       "       -1.63469255e-01, -1.92126751e-01, -1.43624812e-01,  1.58074498e-01,\n",
       "        1.35904863e-01,  1.64799884e-01,  7.80084431e-02,  8.96471888e-02,\n",
       "        1.17889680e-01,  2.75822818e-01,  1.23899907e-01, -1.32959132e-04,\n",
       "       -8.91727135e-02, -2.58466285e-02, -1.35522783e-01,  2.07697466e-01,\n",
       "        2.93598741e-01,  5.81859946e-02, -2.27361515e-01,  1.78063914e-01,\n",
       "        1.69042379e-01, -2.06404254e-01, -3.14166576e-01,  7.16065094e-02,\n",
       "        1.01027288e-01,  2.30681524e-01, -7.51770809e-02, -1.87742397e-01,\n",
       "        1.00462005e-01, -2.13051662e-01, -1.16796466e-02,  2.10252807e-01,\n",
       "       -7.92777836e-02,  3.61600816e-01, -1.57122269e-01,  9.08502005e-03,\n",
       "        2.78281689e-01,  1.48174763e-01,  4.65644374e-02,  8.96979421e-02,\n",
       "        2.10827693e-01,  4.83264551e-02, -3.54789257e-01,  2.09559113e-01,\n",
       "        3.39817838e-03, -2.10633904e-01, -1.47214606e-01,  9.72933844e-02,\n",
       "       -5.34701683e-02,  1.08156964e-01, -1.43789113e-01,  3.95617902e-01,\n",
       "        1.80412754e-01, -7.82165304e-02,  7.50476941e-02,  8.92377347e-02,\n",
       "        1.40585226e-03, -2.38355082e-02, -1.24504276e-01, -1.76257759e-01,\n",
       "        1.70599326e-01, -7.19757304e-02, -1.19708128e-01,  4.23509181e-02,\n",
       "       -4.63608652e-02, -1.13140769e-01, -7.81121626e-02,  1.23506568e-01,\n",
       "        1.88419521e-02,  1.12839900e-01, -3.01604569e-01,  1.46355331e-01,\n",
       "       -6.03746995e-02,  2.07142591e-01, -2.97108173e-01, -2.87107557e-01,\n",
       "        7.85371196e-03,  1.17059082e-01,  1.95415378e-01,  1.02510065e-01,\n",
       "       -1.10448748e-02,  2.62802094e-01, -1.59868911e-01, -2.14291409e-01,\n",
       "        2.91719198e-01,  7.36595318e-02,  4.44028676e-01,  2.32341811e-01,\n",
       "       -1.21215232e-01,  2.33545303e-02,  2.65564352e-01, -4.96777296e-02,\n",
       "       -3.70783329e-01, -5.86251877e-02, -5.88406436e-02,  3.38870555e-01,\n",
       "        2.67752767e-01, -4.52699419e-03,  7.63378814e-02,  2.78918147e-01,\n",
       "       -2.52777692e-02, -2.36351475e-01,  1.78709079e-03, -2.49589384e-01],\n",
       "      dtype=float32)"
      ]
     },
     "execution_count": 4,
     "metadata": {},
     "output_type": "execute_result"
    }
   ],
   "source": [
    "wv_model.wv['维修']"
   ]
  },
  {
   "cell_type": "code",
   "execution_count": 19,
   "metadata": {},
   "outputs": [
    {
     "name": "stdout",
     "output_type": "stream",
     "text": [
      "[('修理', 0.6276759505271912), ('三四千元', 0.5785166025161743), ('相关检查', 0.5732730031013489), ('俢', 0.5723018646240234), ('维修厂', 0.5711143612861633), ('陪同', 0.5633670091629028), ('预估', 0.5625522136688232), ('店多', 0.5623753666877747), ('复检', 0.5620087385177612), ('SSSS', 0.5597015023231506)]\n",
      "CPU times: user 32.8 ms, sys: 14.4 ms, total: 47.2 ms\n",
      "Wall time: 34.4 ms\n"
     ]
    }
   ],
   "source": [
    "%%time\n",
    "print(wv_model.wv.most_similar(\"维修\"))\n",
    "run()"
   ]
  },
  {
   "cell_type": "markdown",
   "metadata": {},
   "source": [
    "使用gensim有以下缺点：\n",
    "\n",
    "* gensim加载模型耗时很长\n",
    "\n",
    "* 占用内存很大，会将所有的词向量加载进入内存，占用内存很大（>10g）\n",
    "\n",
    "* most_similar函数耗时较长。gensim使用的算法似乎是暴力求解（待验证），耗时较长，0.17秒。"
   ]
  },
  {
   "cell_type": "markdown",
   "metadata": {},
   "source": [
    "# Annoy 加速词向量搜索"
   ]
  },
  {
   "cell_type": "markdown",
   "metadata": {},
   "source": [
    "当词向量非常大的时候，如何提升搜索查找速度"
   ]
  },
  {
   "cell_type": "code",
   "execution_count": 34,
   "metadata": {},
   "outputs": [
    {
     "name": "stdout",
     "output_type": "stream",
     "text": [
      "Collecting annoy\n",
      "  Downloading annoy-1.17.0.tar.gz (646 kB)\n",
      "\u001b[K     |████████████████████████████████| 646 kB 307 kB/s eta 0:00:01\n",
      "\u001b[?25hBuilding wheels for collected packages: annoy\n",
      "  Building wheel for annoy (setup.py) ... \u001b[?25ldone\n",
      "\u001b[?25h  Created wheel for annoy: filename=annoy-1.17.0-cp38-cp38-macosx_10_12_x86_64.whl size=75299 sha256=7e3184416357bd38357618b238a73f8cbb894987a546cec09db71416737d6f26\n",
      "  Stored in directory: /Users/zhangchunyang/Library/Caches/pip/wheels/77/01/de/4421524f9997a25dfa7291121565d12ef514154945e80e907a\n",
      "Successfully built annoy\n",
      "Installing collected packages: annoy\n",
      "Successfully installed annoy-1.17.0\n"
     ]
    }
   ],
   "source": [
    "!pip install annoy"
   ]
  },
  {
   "cell_type": "code",
   "execution_count": 40,
   "metadata": {},
   "outputs": [],
   "source": [
    "from gensim.similarities.annoy import AnnoyIndexer\n",
    "\n",
    "# 100 trees are being used in this example\n",
    "annoy_index = AnnoyIndexer(wv_model, 100)"
   ]
  },
  {
   "cell_type": "code",
   "execution_count": 42,
   "metadata": {},
   "outputs": [
    {
     "name": "stdout",
     "output_type": "stream",
     "text": [
      "Approximate Neighbors\n",
      "('维修', 0.9998273665114539)\n",
      "('修理', 0.5685350894927979)\n",
      "('相关检查', 0.5380871295928955)\n",
      "('俢', 0.5375618934631348)\n",
      "('维修厂', 0.5369202792644501)\n",
      "('陪同', 0.5327564477920532)\n",
      "('预估', 0.5323207378387451)\n",
      "('店多', 0.5322262346744537)\n",
      "('复检', 0.532030314207077)\n",
      "('SSSS', 0.5307993590831757)\n",
      "('汽车电器', 0.5293990969657898)\n",
      "CPU times: user 1.9 ms, sys: 1.14 ms, total: 3.04 ms\n",
      "Wall time: 1.81 ms\n"
     ]
    }
   ],
   "source": [
    "%%time\n",
    "# Derive the vector for the word \"science\" in our model\n",
    "vector = wv_model.wv[\"维修\"]\n",
    "# The instance of AnnoyIndexer we just created is passed\n",
    "approximate_neighbors = wv_model.wv.most_similar([vector], topn=11, indexer=annoy_index)\n",
    "# Neatly print the approximate_neighbors and their corresponding cosine similarity values\n",
    "print(\"Approximate Neighbors\")\n",
    "for neighbor in approximate_neighbors:\n",
    "    print(neighbor)"
   ]
  },
  {
   "cell_type": "code",
   "execution_count": 43,
   "metadata": {},
   "outputs": [
    {
     "name": "stdout",
     "output_type": "stream",
     "text": [
      "\n",
      "Exact Neighbors\n",
      "('维修', 1.0000001192092896)\n",
      "('修理', 0.6276759505271912)\n",
      "('三四千元', 0.5785166025161743)\n",
      "('相关检查', 0.5732730031013489)\n",
      "('俢', 0.5723018646240234)\n",
      "('维修厂', 0.5711143612861633)\n",
      "('陪同', 0.5633670091629028)\n",
      "('预估', 0.5625522136688232)\n",
      "('店多', 0.5623753666877747)\n",
      "('复检', 0.5620087385177612)\n",
      "('SSSS', 0.5597015023231506)\n",
      "CPU times: user 6.37 ms, sys: 2.17 ms, total: 8.53 ms\n",
      "Wall time: 3.15 ms\n"
     ]
    }
   ],
   "source": [
    "%%time\n",
    "normal_neighbors = wv_model.wv.most_similar([vector], topn=11)\n",
    "print(\"\\nExact Neighbors\")\n",
    "for neighbor in normal_neighbors:\n",
    "    print(neighbor)"
   ]
  },
  {
   "cell_type": "markdown",
   "metadata": {},
   "source": [
    "## 腾讯词大规模中文词向量\n",
    "\n",
    "\n",
    "https://ai.tencent.com/ailab/nlp/en/embedding.html"
   ]
  },
  {
   "cell_type": "code",
   "execution_count": 1,
   "metadata": {},
   "outputs": [
    {
     "name": "stderr",
     "output_type": "stream",
     "text": [
      "/Users/zhangchunyang/opt/anaconda3/lib/python3.8/site-packages/gensim/similarities/__init__.py:15: UserWarning: The gensim.similarities.levenshtein submodule is disabled, because the optional Levenshtein package <https://pypi.org/project/python-Levenshtein/> is unavailable. Install Levenhstein (e.g. `pip install python-Levenshtein`) to suppress this warning.\n",
      "  warnings.warn(msg)\n"
     ]
    }
   ],
   "source": [
    "from gensim.models.word2vec import KeyedVectors"
   ]
  },
  {
   "cell_type": "code",
   "execution_count": 2,
   "metadata": {},
   "outputs": [],
   "source": [
    "tc_wv = KeyedVectors.load_word2vec_format('Tencent_AILab_ChineseEmbedding/Tencent_AILab_ChineseEmbedding.txt', binary=False, limit=100000)"
   ]
  },
  {
   "cell_type": "markdown",
   "metadata": {},
   "source": [
    "加载缓慢的问题 https://stackoverflow.com/questions/42986405/how-to-speed-up-gensim-word2vec-model-load-time"
   ]
  },
  {
   "cell_type": "code",
   "execution_count": 8,
   "metadata": {},
   "outputs": [
    {
     "ename": "NameError",
     "evalue": "name 'tc_wv' is not defined",
     "output_type": "error",
     "traceback": [
      "\u001b[0;31m---------------------------------------------------------------------------\u001b[0m",
      "\u001b[0;31mNameError\u001b[0m                                 Traceback (most recent call last)",
      "\u001b[0;32m<ipython-input-8-e6a726ef0b57>\u001b[0m in \u001b[0;36m<module>\u001b[0;34m\u001b[0m\n\u001b[0;32m----> 1\u001b[0;31m \u001b[0mtc_wv\u001b[0m\u001b[0;34m[\u001b[0m\u001b[0;34m'你好'\u001b[0m\u001b[0;34m]\u001b[0m\u001b[0;34m\u001b[0m\u001b[0;34m\u001b[0m\u001b[0m\n\u001b[0m",
      "\u001b[0;31mNameError\u001b[0m: name 'tc_wv' is not defined"
     ]
    }
   ],
   "source": [
    "tc_wv['你好']"
   ]
  },
  {
   "cell_type": "code",
   "execution_count": 4,
   "metadata": {},
   "outputs": [],
   "source": [
    "tc_wv.save('Tencent_AILab_ChineseEmbedding/Tencent_AILab_ChineseEmbedding.wordvectors')"
   ]
  },
  {
   "cell_type": "code",
   "execution_count": 11,
   "metadata": {},
   "outputs": [
    {
     "name": "stdout",
     "output_type": "stream",
     "text": [
      "CPU times: user 1.12 s, sys: 614 ms, total: 1.73 s\n",
      "Wall time: 1.65 s\n"
     ]
    },
    {
     "data": {
      "text/plain": [
       "[('headlines', 0.7523146867752075),\n",
       " ('best', 0.7397920489311218),\n",
       " ('phones', 0.7249292731285095),\n",
       " ('times', 0.7244877815246582),\n",
       " ('find', 0.7193858027458191),\n",
       " ('simply', 0.7189313173294067),\n",
       " ('looks', 0.7098098397254944),\n",
       " ('places', 0.7097486853599548),\n",
       " ('smartphone', 0.7090697288513184),\n",
       " ('thing', 0.7079541683197021)]"
      ]
     },
     "execution_count": 11,
     "metadata": {},
     "output_type": "execute_result"
    }
   ],
   "source": [
    "%%time\n",
    "from gensim.models import KeyedVectors\n",
    "from threading import Semaphore\n",
    "\n",
    "\n",
    "tc_wv = KeyedVectors.load('Tencent_AILab_ChineseEmbedding/Tencent_AILab_ChineseEmbedding.wordvectors', mmap='r')\n",
    "# model.syn0norm = model.syn0  # prevent recalc of normed vectors\n",
    "tc_wv.most_similar('stuff')  # any word will do: just to page all in\n",
    "# Semaphore(0).acquire()  # just hang until process killed"
   ]
  },
  {
   "cell_type": "markdown",
   "metadata": {},
   "source": [
    "# 企业里怎么处理大规模向量 - Faiss 加速\n",
    "\n",
    "官方文档：https://github.com/facebookresearch/faiss"
   ]
  },
  {
   "cell_type": "markdown",
   "metadata": {},
   "source": [
    "## 构建索引"
   ]
  },
  {
   "cell_type": "code",
   "execution_count": 10,
   "metadata": {},
   "outputs": [
    {
     "name": "stdout",
     "output_type": "stream",
     "text": [
      "True\n",
      "100000\n"
     ]
    }
   ],
   "source": [
    "import faiss        \n",
    "\n",
    "# make faiss available\n",
    "index = faiss.IndexFlatL2(200)   # build the index\n",
    "print(index.is_trained)\n",
    "# add vectors to the index\n",
    "index.add(tc_wv.vectors)                  \n",
    "print(index.ntotal)"
   ]
  },
  {
   "cell_type": "code",
   "execution_count": 21,
   "metadata": {},
   "outputs": [
    {
     "name": "stdout",
     "output_type": "stream",
     "text": [
      "[[   0    1    2 3040]\n",
      " [   1    2 3040   12]\n",
      " [   2    1   17    4]\n",
      " [   3    2   13    1]]\n",
      "[[0.        4.786625  4.8761697 5.2939434]\n",
      " [0.        0.6934884 1.1962498 1.3620954]\n",
      " [0.        0.6934884 1.6533197 1.9003876]\n",
      " [0.        2.0715084 2.7620077 3.3057845]]\n"
     ]
    }
   ],
   "source": [
    "k = 4                          # we want to see 4 nearest neighbors\n",
    "D, I = index.search(tc_wv.vectors[:4], k) # sanity check\n",
    "print(I)\n",
    "print(D)"
   ]
  },
  {
   "cell_type": "markdown",
   "metadata": {},
   "source": [
    "## whatlies\n",
    "\n",
    "pip install whatlies"
   ]
  },
  {
   "cell_type": "code",
   "execution_count": 5,
   "metadata": {},
   "outputs": [],
   "source": [
    "%load_ext autoreload\n",
    "%autoreload 2"
   ]
  },
  {
   "cell_type": "code",
   "execution_count": 6,
   "metadata": {},
   "outputs": [],
   "source": [
    "from whatlies import Embedding, EmbeddingSet\n",
    "import matplotlib.pylab as plt"
   ]
  },
  {
   "cell_type": "code",
   "execution_count": 29,
   "metadata": {},
   "outputs": [],
   "source": [
    "man   = Embedding(\"man\", wv_model.wv['男人'])\n",
    "woman = Embedding(\"woman\", wv_model.wv['女人'])\n",
    "car  = Embedding(\"car\", wv_model.wv['机车'])\n",
    "auto = Embedding(\"auto\", wv_model.wv['汽车'])\n",
    "cat = Embedding(\"cat\", wv_model.wv['猫'])\n",
    "tiger = Embedding(\"tiger\", wv_model.wv['老虎'])"
   ]
  },
  {
   "cell_type": "code",
   "execution_count": 31,
   "metadata": {},
   "outputs": [
    {
     "data": {
      "image/png": "[encoded data removed]",
      "text/plain": [
       "<Figure size 432x432 with 1 Axes>"
      ]
     },
     "metadata": {
      "needs_background": "light"
     },
     "output_type": "display_data"
    }
   ],
   "source": [
    "plt.figure(figsize=(6, 6))\n",
    "\n",
    "man.plot(kind=\"arrow\", color=\"blue\")\n",
    "woman.plot(kind=\"arrow\", color=\"red\")\n",
    "car.plot(kind=\"arrow\", color=\"blue\")\n",
    "auto.plot(kind=\"arrow\", color=\"red\")\n",
    "cat.plot(kind=\"arrow\", color=\"yellow\")\n",
    "tiger.plot(kind=\"arrow\", color=\"orange\")\n",
    "\n",
    "(queen - king).plot(kind=\"arrow\", color=\"pink\", show_ops=True)\n",
    "(man | (queen - king)).plot(kind=\"arrow\", color=\"pink\", show_ops=True)\n",
    "\n",
    "plt.axis('off');"
   ]
  },
  {
   "cell_type": "code",
   "execution_count": null,
   "metadata": {},
   "outputs": [],
   "source": []
  }
 ],
 "metadata": {
  "kernelspec": {
   "display_name": "Python 3",
   "language": "python",
   "name": "python3"
  },
  "language_info": {
   "codemirror_mode": {
    "name": "ipython",
    "version": 3
   },
   "file_extension": ".py",
   "mimetype": "text/x-python",
   "name": "python",
   "nbconvert_exporter": "python",
   "pygments_lexer": "ipython3",
   "version": "3.8.3"
  }
 },
 "nbformat": 4,
 "nbformat_minor": 4
}
