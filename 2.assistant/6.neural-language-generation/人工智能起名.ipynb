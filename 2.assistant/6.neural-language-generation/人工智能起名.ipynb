{
 "cells": [
  {
   "cell_type": "markdown",
   "metadata": {
    "id": "ovpZyIhNIgoq"
   },
   "source": [
    "# 人工智能起名"
   ]
  },
  {
   "cell_type": "markdown",
   "metadata": {},
   "source": [
    "目标：\n",
    "我们希望用户输入一些描述的情况和姓氏的情况下，生成一个名字，方便我们在各种情况下使用。\n",
    "\n",
    "比如输入：\n",
    "- 描述 `我是一个舞蹈演员，我喜欢跳舞，听歌`\n",
    "- 性别 `女`\n",
    "- 姓氏 `陈`\n",
    "\n",
    "输出：\n",
    "- `陈青舞`\n",
    "\n",
    "\n",
    "参考：\n",
    "- 数据集名称 chinese-person-profiles，制作 @CYang\n",
    "- [The Unreasonable Effectiveness of Recurrent Neural Networks](http://karpathy.github.io/2015/05/21/rnn-effectiveness/)\n",
    "- [tf.keras](https://www.tensorflow.org/guide/keras/sequential_model) \n",
    "- [eager execution](https://www.tensorflow.org/guide/eager)"
   ]
  },
  {
   "cell_type": "markdown",
   "metadata": {
    "id": "srXC6pLGLwS6"
   },
   "source": [
    "## 基础环境安装"
   ]
  },
  {
   "cell_type": "markdown",
   "metadata": {},
   "source": [
    "### 安装 datasetstore 下载数据集 chinese-person-profile"
   ]
  },
  {
   "cell_type": "code",
   "execution_count": null,
   "metadata": {},
   "outputs": [],
   "source": [
    "!pip install datasetstore"
   ]
  },
  {
   "cell_type": "markdown",
   "metadata": {},
   "source": [
    "### 安装 tensorflow 和 tensorflow-addons"
   ]
  },
  {
   "cell_type": "code",
   "execution_count": null,
   "metadata": {},
   "outputs": [],
   "source": [
    "!pip install tensorflow-addons==0.11.2"
   ]
  },
  {
   "cell_type": "code",
   "execution_count": null,
   "metadata": {},
   "outputs": [],
   "source": [
    "!pip install tensorflow"
   ]
  },
  {
   "cell_type": "markdown",
   "metadata": {},
   "source": [
    "## 数据加载和数据探索 (EDA)"
   ]
  },
  {
   "cell_type": "markdown",
   "metadata": {
    "id": "UHjdCjDuSvX_"
   },
   "source": [
    "### 读取数据"
   ]
  },
  {
   "cell_type": "code",
   "execution_count": 1,
   "metadata": {},
   "outputs": [
    {
     "name": "stdout",
     "output_type": "stream",
     "text": [
      "✅✅✅✅✅✅✅✅✅✅ 下载完成\n"
     ]
    }
   ],
   "source": [
    "from datasetstore import load_dataset\n",
    "\n",
    "dataset = load_dataset(\"chinese-person-profile-10k\")"
   ]
  },
  {
   "cell_type": "code",
   "execution_count": 2,
   "metadata": {
    "id": "aavnuByVymwK"
   },
   "outputs": [
    {
     "data": {
      "text/plain": [
       "{'id': 1669879400,\n",
       " 'nickname': 'Dear-迪丽热巴',\n",
       " 'gender': '女',\n",
       " 'location': '上海',\n",
       " 'birthday': '双子座',\n",
       " 'description': '一只喜欢默默表演的小透明。工作联系jaywalk@jaywalk.com.cn 🍒',\n",
       " 'verified_reason': '嘉行传媒签约演员',\n",
       " 'followers': 78346000,\n",
       " 'education': '上海戏剧学院'}"
      ]
     },
     "execution_count": 2,
     "metadata": {},
     "output_type": "execute_result"
    }
   ],
   "source": [
    "dataset[0]"
   ]
  },
  {
   "cell_type": "code",
   "execution_count": 3,
   "metadata": {},
   "outputs": [
    {
     "data": {
      "text/plain": [
       "{'id': 1223178222,\n",
       " 'nickname': '胡歌',\n",
       " 'gender': '男',\n",
       " 'location': '上海 徐汇区',\n",
       " 'birthday': '0001-00-00',\n",
       " 'description': '🎈                                                                                                                                🏃🏻',\n",
       " 'verified_reason': '演员',\n",
       " 'followers': 71645000,\n",
       " 'education': '上海戏剧学院 01级'}"
      ]
     },
     "execution_count": 3,
     "metadata": {},
     "output_type": "execute_result"
    }
   ],
   "source": [
    "dataset[1]"
   ]
  },
  {
   "cell_type": "markdown",
   "metadata": {},
   "source": [
    "### 数据探索"
   ]
  },
  {
   "cell_type": "code",
   "execution_count": 4,
   "metadata": {},
   "outputs": [
    {
     "data": {
      "text/plain": [
       "10827"
      ]
     },
     "execution_count": 4,
     "metadata": {},
     "output_type": "execute_result"
    }
   ],
   "source": [
    "len(dataset)"
   ]
  },
  {
   "cell_type": "markdown",
   "metadata": {
    "id": "bbmsf23Bymwe"
   },
   "source": [
    "## 名字生成任务"
   ]
  },
  {
   "cell_type": "markdown",
   "metadata": {
    "id": "wssHQ1oGymwe"
   },
   "source": [
    "给定一个姓氏和对于名字的描述，生成对应的名字。\n",
    "\n",
    "- 输入：<姓氏><mask><mask...> _ <性别> _ <描述>\n",
    "- 输出：<名字>"
   ]
  },
  {
   "cell_type": "markdown",
   "metadata": {},
   "source": [
    "### 构建一条样本"
   ]
  },
  {
   "cell_type": "code",
   "execution_count": 18,
   "metadata": {},
   "outputs": [],
   "source": [
    "def construct_one_example(example):\n",
    "    if example[\"nickname\"]:\n",
    "        nickname_len = len(example[\"nickname\"])\n",
    "        # 输入\n",
    "        gender = example[\"gender\"] if example[\"gender\"] else \"\"\n",
    "        desc = example[\"description\"] if example[\"description\"] else \"\"\n",
    "        # head_name + (\"<mask>\" * (nickname_len - 1)) +\n",
    "        text = \"<start>\" + gender + \"，\" + desc + \"<end>\"\n",
    "        text = tf.strings.unicode_split(text, input_encoding=\"UTF-8\")\n",
    "        # 输出\n",
    "        label = \"<start>\" + example[\"nickname\"] + \"<end>\"\n",
    "        label = tf.strings.unicode_split(label, input_encoding=\"UTF-8\")\n",
    "        return {\"text\": text, \"label\": label}"
   ]
  },
  {
   "cell_type": "code",
   "execution_count": 19,
   "metadata": {},
   "outputs": [
    {
     "data": {
      "text/plain": [
       "{'id': 1669879400,\n",
       " 'nickname': 'Dear-迪丽热巴',\n",
       " 'gender': '女',\n",
       " 'location': '上海',\n",
       " 'birthday': '双子座',\n",
       " 'description': '一只喜欢默默表演的小透明。工作联系jaywalk@jaywalk.com.cn 🍒',\n",
       " 'verified_reason': '嘉行传媒签约演员',\n",
       " 'followers': 78346000,\n",
       " 'education': '上海戏剧学院'}"
      ]
     },
     "execution_count": 19,
     "metadata": {},
     "output_type": "execute_result"
    }
   ],
   "source": [
    "one_example = dataset[0]\n",
    "one_example"
   ]
  },
  {
   "cell_type": "code",
   "execution_count": 20,
   "metadata": {},
   "outputs": [
    {
     "data": {
      "text/plain": [
       "{'text': <tf.Tensor: shape=(55,), dtype=string, numpy=\n",
       " array([b'<', b's', b't', b'a', b'r', b't', b'>', b'\\xe5\\xa5\\xb3',\n",
       "        b'\\xef\\xbc\\x8c', b'\\xe4\\xb8\\x80', b'\\xe5\\x8f\\xaa', b'\\xe5\\x96\\x9c',\n",
       "        b'\\xe6\\xac\\xa2', b'\\xe9\\xbb\\x98', b'\\xe9\\xbb\\x98', b'\\xe8\\xa1\\xa8',\n",
       "        b'\\xe6\\xbc\\x94', b'\\xe7\\x9a\\x84', b'\\xe5\\xb0\\x8f', b'\\xe9\\x80\\x8f',\n",
       "        b'\\xe6\\x98\\x8e', b'\\xe3\\x80\\x82', b'\\xe5\\xb7\\xa5', b'\\xe4\\xbd\\x9c',\n",
       "        b'\\xe8\\x81\\x94', b'\\xe7\\xb3\\xbb', b'j', b'a', b'y', b'w', b'a',\n",
       "        b'l', b'k', b'@', b'j', b'a', b'y', b'w', b'a', b'l', b'k', b'.',\n",
       "        b'c', b'o', b'm', b'.', b'c', b'n', b' ', b'\\xf0\\x9f\\x8d\\x92',\n",
       "        b'<', b'e', b'n', b'd', b'>'], dtype=object)>,\n",
       " 'label': <tf.Tensor: shape=(21,), dtype=string, numpy=\n",
       " array([b'<', b's', b't', b'a', b'r', b't', b'>', b'D', b'e', b'a', b'r',\n",
       "        b'-', b'\\xe8\\xbf\\xaa', b'\\xe4\\xb8\\xbd', b'\\xe7\\x83\\xad',\n",
       "        b'\\xe5\\xb7\\xb4', b'<', b'e', b'n', b'd', b'>'], dtype=object)>}"
      ]
     },
     "execution_count": 20,
     "metadata": {},
     "output_type": "execute_result"
    }
   ],
   "source": [
    "construct_one_example(one_example)"
   ]
  },
  {
   "cell_type": "markdown",
   "metadata": {
    "id": "rNnrKn_lL-IJ"
   },
   "source": [
    "## 数据集文本预处理"
   ]
  },
  {
   "cell_type": "markdown",
   "metadata": {},
   "source": [
    "### 过滤没有名字的数据"
   ]
  },
  {
   "cell_type": "code",
   "execution_count": 21,
   "metadata": {},
   "outputs": [
    {
     "name": "stderr",
     "output_type": "stream",
     "text": [
      "Loading cached processed dataset at /tmp/tmp1o1630cj/fast-datasets/chinese-person-profile-10k/cache-d7b454f7f0225a16.arrow\n"
     ]
    }
   ],
   "source": [
    "filtered_dataset = dataset.filter(lambda x: x[\"nickname\"])"
   ]
  },
  {
   "cell_type": "code",
   "execution_count": 22,
   "metadata": {},
   "outputs": [
    {
     "data": {
      "text/plain": [
       "10811"
      ]
     },
     "execution_count": 22,
     "metadata": {},
     "output_type": "execute_result"
    }
   ],
   "source": [
    "len(filtered_dataset)"
   ]
  },
  {
   "cell_type": "markdown",
   "metadata": {},
   "source": [
    "### 数据集转化为目标格式文本"
   ]
  },
  {
   "cell_type": "code",
   "execution_count": 23,
   "metadata": {},
   "outputs": [
    {
     "data": {
      "application/vnd.jupyter.widget-view+json": {
       "model_id": "196d0a7b875445ffb4e0c7aa8234eb68",
       "version_major": 2,
       "version_minor": 0
      },
      "text/plain": [
       "  0%|          | 0/10811 [00:00<?, ?ex/s]"
      ]
     },
     "metadata": {},
     "output_type": "display_data"
    }
   ],
   "source": [
    "target_dataset = filtered_dataset.map(construct_one_example)"
   ]
  },
  {
   "cell_type": "code",
   "execution_count": 24,
   "metadata": {},
   "outputs": [
    {
     "data": {
      "text/plain": [
       "{'id': 3517080830,\n",
       " 'nickname': 'Ice-dance柳鑫宇',\n",
       " 'gender': '男',\n",
       " 'location': '吉林',\n",
       " 'birthday': '1994-10-16',\n",
       " 'description': '花样滑冰国家队冰舞运动员 商务合作邮箱：lightmoon@vip.163.com',\n",
       " 'verified_reason': '中国花样滑冰队冰舞运动员 柳鑫宇',\n",
       " 'followers': 1787000,\n",
       " 'education': None,\n",
       " 'text': [b'<',\n",
       "  b's',\n",
       "  b't',\n",
       "  b'a',\n",
       "  b'r',\n",
       "  b't',\n",
       "  b'>',\n",
       "  b'\\xe7\\x94\\xb7',\n",
       "  b'\\xef\\xbc\\x8c',\n",
       "  b'\\xe8\\x8a\\xb1',\n",
       "  b'\\xe6\\xa0\\xb7',\n",
       "  b'\\xe6\\xbb\\x91',\n",
       "  b'\\xe5\\x86\\xb0',\n",
       "  b'\\xe5\\x9b\\xbd',\n",
       "  b'\\xe5\\xae\\xb6',\n",
       "  b'\\xe9\\x98\\x9f',\n",
       "  b'\\xe5\\x86\\xb0',\n",
       "  b'\\xe8\\x88\\x9e',\n",
       "  b'\\xe8\\xbf\\x90',\n",
       "  b'\\xe5\\x8a\\xa8',\n",
       "  b'\\xe5\\x91\\x98',\n",
       "  b' ',\n",
       "  b'\\xe5\\x95\\x86',\n",
       "  b'\\xe5\\x8a\\xa1',\n",
       "  b'\\xe5\\x90\\x88',\n",
       "  b'\\xe4\\xbd\\x9c',\n",
       "  b'\\xe9\\x82\\xae',\n",
       "  b'\\xe7\\xae\\xb1',\n",
       "  b'\\xef\\xbc\\x9a',\n",
       "  b'l',\n",
       "  b'i',\n",
       "  b'g',\n",
       "  b'h',\n",
       "  b't',\n",
       "  b'm',\n",
       "  b'o',\n",
       "  b'o',\n",
       "  b'n',\n",
       "  b'@',\n",
       "  b'v',\n",
       "  b'i',\n",
       "  b'p',\n",
       "  b'.',\n",
       "  b'1',\n",
       "  b'6',\n",
       "  b'3',\n",
       "  b'.',\n",
       "  b'c',\n",
       "  b'o',\n",
       "  b'm',\n",
       "  b'<',\n",
       "  b'e',\n",
       "  b'n',\n",
       "  b'd',\n",
       "  b'>'],\n",
       " 'label': [b'<',\n",
       "  b's',\n",
       "  b't',\n",
       "  b'a',\n",
       "  b'r',\n",
       "  b't',\n",
       "  b'>',\n",
       "  b'I',\n",
       "  b'c',\n",
       "  b'e',\n",
       "  b'-',\n",
       "  b'd',\n",
       "  b'a',\n",
       "  b'n',\n",
       "  b'c',\n",
       "  b'e',\n",
       "  b'\\xe6\\x9f\\xb3',\n",
       "  b'\\xe9\\x91\\xab',\n",
       "  b'\\xe5\\xae\\x87',\n",
       "  b'<',\n",
       "  b'e',\n",
       "  b'n',\n",
       "  b'd',\n",
       "  b'>']}"
      ]
     },
     "execution_count": 24,
     "metadata": {},
     "output_type": "execute_result"
    }
   ],
   "source": [
    "target_dataset[10]"
   ]
  },
  {
   "cell_type": "markdown",
   "metadata": {},
   "source": [
    "### 将文本转化为 onehot 格式"
   ]
  },
  {
   "cell_type": "code",
   "execution_count": 25,
   "metadata": {
    "id": "yG_n40gFzf9s"
   },
   "outputs": [],
   "source": [
    "import tensorflow as tf"
   ]
  },
  {
   "cell_type": "code",
   "execution_count": 26,
   "metadata": {},
   "outputs": [],
   "source": [
    "# 创建 tokenizer\n",
    "inp_lang_tokenizer = tf.keras.preprocessing.text.Tokenizer(\n",
    "    filters=\"\", oov_token=\"<OOV>\"\n",
    ")\n",
    "inp_lang_tokenizer.fit_on_texts(target_dataset[\"text\"])\n",
    "input_tensor = inp_lang_tokenizer.texts_to_sequences(target_dataset[\"text\"])"
   ]
  },
  {
   "cell_type": "code",
   "execution_count": 30,
   "metadata": {},
   "outputs": [
    {
     "data": {
      "text/plain": [
       "(array([[3, 9, 2, ..., 0, 0, 0],\n",
       "        [3, 9, 2, ..., 0, 0, 0],\n",
       "        [3, 9, 2, ..., 0, 0, 0],\n",
       "        ...,\n",
       "        [3, 9, 2, ..., 0, 0, 0],\n",
       "        [3, 9, 2, ..., 0, 0, 0],\n",
       "        [3, 9, 2, ..., 0, 0, 0]], dtype=int32),\n",
       " (10811, 572))"
      ]
     },
     "execution_count": 30,
     "metadata": {},
     "output_type": "execute_result"
    }
   ],
   "source": [
    "# padding 数据\n",
    "padding_inp_tensor = tf.keras.preprocessing.sequence.pad_sequences(\n",
    "    input_tensor, padding=\"post\"\n",
    ")\n",
    "padding_inp_tensor, padding_inp_tensor.shape"
   ]
  },
  {
   "cell_type": "code",
   "execution_count": 31,
   "metadata": {},
   "outputs": [],
   "source": [
    "# 创建 tokenizer\n",
    "tar_lang_tokenizer = tf.keras.preprocessing.text.Tokenizer(\n",
    "    filters=\"\", oov_token=\"<OOV>\"\n",
    ")\n",
    "tar_lang_tokenizer.fit_on_texts(target_dataset[\"label\"])\n",
    "output_tensor = tar_lang_tokenizer.texts_to_sequences(target_dataset[\"label\"])"
   ]
  },
  {
   "cell_type": "code",
   "execution_count": 32,
   "metadata": {},
   "outputs": [
    {
     "data": {
      "text/plain": [
       "(array([[3, 9, 2, ..., 0, 0, 0],\n",
       "        [3, 9, 2, ..., 0, 0, 0],\n",
       "        [3, 9, 2, ..., 0, 0, 0],\n",
       "        ...,\n",
       "        [3, 9, 2, ..., 0, 0, 0],\n",
       "        [3, 9, 2, ..., 0, 0, 0],\n",
       "        [3, 9, 2, ..., 0, 0, 0]], dtype=int32),\n",
       " (10811, 37))"
      ]
     },
     "execution_count": 32,
     "metadata": {},
     "output_type": "execute_result"
    }
   ],
   "source": [
    "# padding 数据\n",
    "padding_output_tensor = tf.keras.preprocessing.sequence.pad_sequences(\n",
    "    output_tensor, padding=\"post\"\n",
    ")\n",
    "padding_output_tensor, padding_output_tensor.shape"
   ]
  },
  {
   "cell_type": "markdown",
   "metadata": {},
   "source": [
    "### 构建训练集"
   ]
  },
  {
   "cell_type": "code",
   "execution_count": 34,
   "metadata": {},
   "outputs": [],
   "source": [
    "BUFFER_SIZE = 32000\n",
    "BATCH_SIZE = 8\n",
    "# Let's limit the #training examples for faster training\n",
    "num_examples = 30000"
   ]
  },
  {
   "cell_type": "code",
   "execution_count": 35,
   "metadata": {},
   "outputs": [],
   "source": [
    "train_dataset = tf.data.Dataset.from_tensor_slices(\n",
    "    (padding_inp_tensor, padding_output_tensor)\n",
    ")\n",
    "train_dataset = train_dataset.shuffle(BUFFER_SIZE).batch(\n",
    "    BATCH_SIZE, drop_remainder=True\n",
    ")"
   ]
  },
  {
   "cell_type": "code",
   "execution_count": 36,
   "metadata": {},
   "outputs": [
    {
     "data": {
      "text/plain": [
       "(TensorShape([8, 572]), TensorShape([8, 37]))"
      ]
     },
     "execution_count": 36,
     "metadata": {},
     "output_type": "execute_result"
    }
   ],
   "source": [
    "example_input_batch, example_target_batch = next(iter(train_dataset))\n",
    "example_input_batch.shape, example_target_batch.shape"
   ]
  },
  {
   "cell_type": "markdown",
   "metadata": {
    "id": "r6oUuElIMgVx"
   },
   "source": [
    "## 构建模型"
   ]
  },
  {
   "cell_type": "markdown",
   "metadata": {
    "id": "m8gPwEjRzf-Z"
   },
   "source": [
    "接下来，我们要使用 `keras.Model` 子类构建模型。 (For details see [Making new Layers and Models via subclassing](https://www.tensorflow.org/guide/keras/custom_layers_and_models)). \n",
    "\n",
    "这个模型有三层：\n",
    "\n",
    "* `tf.keras.layers.Embedding`: 输入层. 一个训练好的 lookup table 能够把每个 character-ID 映射成一个 `embedding_dim` 大小;\n",
    "* `tf.keras.layers.GRU`: 一个大小为 `units=rnn_units` 的 GRU 结构 (这里也可以使用 LSTM )\n",
    "* `tf.keras.layers.Dense`: 输出层, 带有 `vocab_size` 大小的输出层. 它会对字典中的每一个字输出一个。这些就是模型对于每个字的 log-likelihood 。"
   ]
  },
  {
   "cell_type": "code",
   "execution_count": 37,
   "metadata": {},
   "outputs": [],
   "source": [
    "vocab_inp_size = len(inp_lang_tokenizer.word_index) + 1\n",
    "vocab_tar_size = len(tar_lang_tokenizer.word_index) + 1\n",
    "max_length_input = example_input_batch.shape[1]\n",
    "max_length_output = example_target_batch.shape[1]\n",
    "\n",
    "embedding_dim = 256\n",
    "units = 1024\n",
    "steps_per_epoch = num_examples // BATCH_SIZE"
   ]
  },
  {
   "cell_type": "code",
   "execution_count": 38,
   "metadata": {},
   "outputs": [
    {
     "data": {
      "text/plain": [
       "(TensorShape([8, 572]), TensorShape([8, 37]))"
      ]
     },
     "execution_count": 38,
     "metadata": {},
     "output_type": "execute_result"
    }
   ],
   "source": [
    "example_input_batch.shape, example_target_batch.shape"
   ]
  },
  {
   "cell_type": "code",
   "execution_count": 39,
   "metadata": {},
   "outputs": [
    {
     "name": "stdout",
     "output_type": "stream",
     "text": [
      "tf.Tensor(\n",
      "[[3 9 2 ... 0 0 0]\n",
      " [3 9 2 ... 0 0 0]\n",
      " [3 9 2 ... 0 0 0]\n",
      " ...\n",
      " [3 9 2 ... 0 0 0]\n",
      " [3 9 2 ... 0 0 0]\n",
      " [3 9 2 ... 0 0 0]], shape=(8, 572), dtype=int32)\n",
      "tf.Tensor(\n",
      "[[   3    9    2    5    8    2    4  166 1835  187 1554  137    3    6\n",
      "     7   10    4    0    0    0    0    0    0    0    0    0    0    0\n",
      "     0    0    0    0    0    0    0    0    0]\n",
      " [   3    9    2    5    8    2    4   50  775   95   72    3    6    7\n",
      "    10    4    0    0    0    0    0    0    0    0    0    0    0    0\n",
      "     0    0    0    0    0    0    0    0    0]\n",
      " [   3    9    2    5    8    2    4  967  618  543    5    7    2   12\n",
      "     7   11   12    3    6    7   10    4    0    0    0    0    0    0\n",
      "     0    0    0    0    0    0    0    0    0]\n",
      " [   3    9    2    5    8    2    4  700  194   10    6    7   11    9\n",
      "     6    3    6    7   10    4    0    0    0    0    0    0    0    0\n",
      "     0    0    0    0    0    0    0    0    0]\n",
      " [   3    9    2    5    8    2    4  355  826  160  140  531 1571    3\n",
      "     6    7   10    4    0    0    0    0    0    0    0    0    0    0\n",
      "     0    0    0    0    0    0    0    0    0]\n",
      " [   3    9    2    5    8    2    4   97   51  486   36    6    8    6\n",
      "    18   15    3    6    7   10    4    0    0    0    0    0    0    0\n",
      "     0    0    0    0    0    0    0    0    0]\n",
      " [   3    9    2    5    8    2    4  207  715  111   16    3    6    7\n",
      "    10    4    0    0    0    0    0    0    0    0    0    0    0    0\n",
      "     0    0    0    0    0    0    0    0    0]\n",
      " [   3    9    2    5    8    2    4  109  702   13   12   26   26   11\n",
      "    14   11    6   13    3    6    7   10    4    0    0    0    0    0\n",
      "     0    0    0    0    0    0    0    0    0]], shape=(8, 37), dtype=int32)\n"
     ]
    }
   ],
   "source": [
    "print(example_input_batch)\n",
    "print(example_target_batch)"
   ]
  },
  {
   "cell_type": "code",
   "execution_count": 40,
   "metadata": {},
   "outputs": [
    {
     "name": "stdout",
     "output_type": "stream",
     "text": [
      "最长输入, 最长输出, 输入词典大小, 输出词典大小\n"
     ]
    },
    {
     "data": {
      "text/plain": [
       "(572, 37, 4748, 3126)"
      ]
     },
     "execution_count": 40,
     "metadata": {},
     "output_type": "execute_result"
    }
   ],
   "source": [
    "print(\"最长输入, 最长输出, 输入词典大小, 输出词典大小\")\n",
    "max_length_input, max_length_output, vocab_inp_size, vocab_tar_size"
   ]
  },
  {
   "cell_type": "markdown",
   "metadata": {},
   "source": [
    "### Encoder 编码器"
   ]
  },
  {
   "cell_type": "code",
   "execution_count": 41,
   "metadata": {
    "id": "wj8HQ2w8z4iO"
   },
   "outputs": [],
   "source": [
    "class Encoder(tf.keras.Model):\n",
    "    def __init__(self, vocab_size, embedding_dim, enc_units, batch_sz):\n",
    "        super(Encoder, self).__init__()\n",
    "        self.batch_sz = batch_sz\n",
    "        self.enc_units = enc_units\n",
    "        self.embedding = tf.keras.layers.Embedding(vocab_size, embedding_dim)\n",
    "\n",
    "        ##-------- LSTM layer in Encoder ------- ##\n",
    "        self.lstm_layer = tf.keras.layers.LSTM(\n",
    "            self.enc_units,\n",
    "            return_sequences=True,\n",
    "            return_state=True,\n",
    "            recurrent_initializer=\"glorot_uniform\",\n",
    "        )\n",
    "\n",
    "    def call(self, x, hidden):\n",
    "        x = self.embedding(x)\n",
    "        output, h, c = self.lstm_layer(x, initial_state=hidden)\n",
    "        return output, h, c\n",
    "\n",
    "    def initialize_hidden_state(self):\n",
    "        return [\n",
    "            tf.zeros((self.batch_sz, self.enc_units)),\n",
    "            tf.zeros((self.batch_sz, self.enc_units)),\n",
    "        ]"
   ]
  },
  {
   "cell_type": "markdown",
   "metadata": {},
   "source": [
    "### 编码器的验证"
   ]
  },
  {
   "cell_type": "code",
   "execution_count": 42,
   "metadata": {},
   "outputs": [
    {
     "name": "stdout",
     "output_type": "stream",
     "text": [
      "Encoder output shape: (batch size, sequence length, units) (8, 572, 1024)\n",
      "Encoder h vecotr shape: (batch size, units) (8, 1024)\n",
      "Encoder c vector shape: (batch size, units) (8, 1024)\n"
     ]
    }
   ],
   "source": [
    "encoder = Encoder(vocab_inp_size, embedding_dim, units, BATCH_SIZE)\n",
    "\n",
    "# sample input\n",
    "sample_hidden = encoder.initialize_hidden_state()\n",
    "sample_output, sample_h, sample_c = encoder(example_input_batch, sample_hidden)\n",
    "print(\n",
    "    \"Encoder output shape: (batch size, sequence length, units) {}\".format(\n",
    "        sample_output.shape\n",
    "    )\n",
    ")\n",
    "print(\"Encoder h vecotr shape: (batch size, units) {}\".format(sample_h.shape))\n",
    "print(\"Encoder c vector shape: (batch size, units) {}\".format(sample_c.shape))"
   ]
  },
  {
   "cell_type": "markdown",
   "metadata": {},
   "source": [
    "### 解码器"
   ]
  },
  {
   "cell_type": "code",
   "execution_count": 43,
   "metadata": {},
   "outputs": [],
   "source": [
    "class Decoder(tf.keras.Model):\n",
    "    def __init__(\n",
    "        self, vocab_size, embedding_dim, dec_units, batch_sz, attention_type=\"luong\"\n",
    "    ):\n",
    "        super(Decoder, self).__init__()\n",
    "        self.batch_sz = batch_sz\n",
    "        self.dec_units = dec_units\n",
    "        self.attention_type = attention_type\n",
    "\n",
    "        # Embedding Layer\n",
    "        self.embedding = tf.keras.layers.Embedding(vocab_size, embedding_dim)\n",
    "\n",
    "        # Final Dense layer on which softmax will be applied\n",
    "        self.fc = tf.keras.layers.Dense(vocab_size)\n",
    "\n",
    "        # Define the fundamental cell for decoder recurrent structure\n",
    "        self.decoder_rnn_cell = tf.keras.layers.LSTMCell(self.dec_units)\n",
    "\n",
    "        # Sampler\n",
    "        self.sampler = tfa.seq2seq.sampler.TrainingSampler()\n",
    "\n",
    "        # Create attention mechanism with memory = None\n",
    "        self.attention_mechanism = self.build_attention_mechanism(\n",
    "            self.dec_units,\n",
    "            None,\n",
    "            self.batch_sz * [max_length_input],\n",
    "            self.attention_type,\n",
    "        )\n",
    "\n",
    "        # Wrap attention mechanism with the fundamental rnn cell of decoder\n",
    "        self.rnn_cell = self.build_rnn_cell(batch_sz)\n",
    "\n",
    "        # Define the decoder with respect to fundamental rnn cell\n",
    "        self.decoder = tfa.seq2seq.BasicDecoder(\n",
    "            self.rnn_cell, sampler=self.sampler, output_layer=self.fc\n",
    "        )\n",
    "\n",
    "    def build_rnn_cell(self, batch_sz):\n",
    "        rnn_cell = tfa.seq2seq.AttentionWrapper(\n",
    "            self.decoder_rnn_cell,\n",
    "            self.attention_mechanism,\n",
    "            attention_layer_size=self.dec_units,\n",
    "        )\n",
    "        return rnn_cell\n",
    "\n",
    "    def build_attention_mechanism(\n",
    "        self, dec_units, memory, memory_sequence_length, attention_type=\"luong\"\n",
    "    ):\n",
    "        # ------------- #\n",
    "        # typ: Which sort of attention (Bahdanau, Luong)\n",
    "        # dec_units: final dimension of attention outputs\n",
    "        # memory: encoder hidden states of shape (batch_size, max_length_input, enc_units)\n",
    "        # memory_sequence_length: 1d array of shape (batch_size) with every element set to max_length_input (for masking purpose)\n",
    "\n",
    "        if attention_type == \"bahdanau\":\n",
    "            return tfa.seq2seq.BahdanauAttention(\n",
    "                units=dec_units,\n",
    "                memory=memory,\n",
    "                memory_sequence_length=memory_sequence_length,\n",
    "            )\n",
    "        else:\n",
    "            return tfa.seq2seq.LuongAttention(\n",
    "                units=dec_units,\n",
    "                memory=memory,\n",
    "                memory_sequence_length=memory_sequence_length,\n",
    "            )\n",
    "\n",
    "    def build_initial_state(self, batch_sz, encoder_state, Dtype):\n",
    "        decoder_initial_state = self.rnn_cell.get_initial_state(\n",
    "            batch_size=batch_sz, dtype=Dtype\n",
    "        )\n",
    "        decoder_initial_state = decoder_initial_state.clone(cell_state=encoder_state)\n",
    "        return decoder_initial_state\n",
    "\n",
    "    def call(self, inputs, initial_state):\n",
    "        x = self.embedding(inputs)\n",
    "        outputs, _, _ = self.decoder(\n",
    "            x,\n",
    "            initial_state=initial_state,\n",
    "            sequence_length=self.batch_sz * [max_length_output - 1],\n",
    "        )\n",
    "        return outputs"
   ]
  },
  {
   "cell_type": "markdown",
   "metadata": {},
   "source": [
    "### 解码器验证"
   ]
  },
  {
   "cell_type": "code",
   "execution_count": 44,
   "metadata": {},
   "outputs": [
    {
     "name": "stderr",
     "output_type": "stream",
     "text": [
      "/opt/conda/lib/python3.8/site-packages/tensorflow_addons/utils/ensure_tf_install.py:54: UserWarning: Tensorflow Addons supports using Python ops for all Tensorflow versions above or equal to 2.2.0 and strictly below 2.4.0 (nightly versions are not supported). \n",
      " The versions of TensorFlow you are currently using is 2.5.0 and is not supported. \n",
      "Some things might work, some things might not.\n",
      "If you were to encounter a bug, do not file an issue.\n",
      "If you want to make sure you're using a tested and supported configuration, either change the TensorFlow version or the TensorFlow Addons's version. \n",
      "You can find the compatibility matrix in TensorFlow Addon's readme:\n",
      "https://github.com/tensorflow/addons\n",
      "  warnings.warn(\n"
     ]
    },
    {
     "name": "stdout",
     "output_type": "stream",
     "text": [
      "Decoder Outputs Shape:  (8, 36, 3126)\n"
     ]
    }
   ],
   "source": [
    "import tensorflow_addons as tfa\n",
    "\n",
    "decoder = Decoder(vocab_tar_size, embedding_dim, units, BATCH_SIZE, \"luong\")\n",
    "sample_x = tf.random.uniform((BATCH_SIZE, max_length_output))\n",
    "decoder.attention_mechanism.setup_memory(sample_output)\n",
    "initial_state = decoder.build_initial_state(\n",
    "    BATCH_SIZE, [sample_h, sample_c], tf.float32\n",
    ")\n",
    "\n",
    "sample_decoder_outputs = decoder(sample_x, initial_state)\n",
    "\n",
    "print(\"Decoder Outputs Shape: \", sample_decoder_outputs.rnn_output.shape)"
   ]
  },
  {
   "cell_type": "markdown",
   "metadata": {},
   "source": [
    "### 定义优化器"
   ]
  },
  {
   "cell_type": "code",
   "execution_count": 45,
   "metadata": {},
   "outputs": [],
   "source": [
    "optimizer = tf.keras.optimizers.Adam()\n",
    "\n",
    "\n",
    "def loss_function(real, pred):\n",
    "    # real shape = (BATCH_SIZE, max_length_output)\n",
    "    # pred shape = (BATCH_SIZE, max_length_output, tar_vocab_size )\n",
    "    cross_entropy = tf.keras.losses.SparseCategoricalCrossentropy(\n",
    "        from_logits=True, reduction=\"none\"\n",
    "    )\n",
    "    loss = cross_entropy(y_true=real, y_pred=pred)\n",
    "    mask = tf.logical_not(tf.math.equal(real, 0))  # output 0 for y=0 else output 1\n",
    "    mask = tf.cast(mask, dtype=loss.dtype)\n",
    "    loss = mask * loss\n",
    "    loss = tf.reduce_mean(loss)\n",
    "    return loss"
   ]
  },
  {
   "cell_type": "markdown",
   "metadata": {},
   "source": [
    "### 检查点(Checkpoints) "
   ]
  },
  {
   "cell_type": "code",
   "execution_count": 47,
   "metadata": {},
   "outputs": [],
   "source": [
    "import os\n",
    "\n",
    "\n",
    "checkpoint_dir = \"./training_checkpoints\"\n",
    "checkpoint_prefix = os.path.join(checkpoint_dir, \"ckpt\")\n",
    "checkpoint = tf.train.Checkpoint(optimizer=optimizer, encoder=encoder, decoder=decoder)"
   ]
  },
  {
   "cell_type": "markdown",
   "metadata": {},
   "source": [
    "### 定义一步的操作"
   ]
  },
  {
   "cell_type": "code",
   "execution_count": 48,
   "metadata": {},
   "outputs": [],
   "source": [
    "@tf.function\n",
    "def train_step(inp, targ, enc_hidden):\n",
    "    loss = 0\n",
    "\n",
    "    with tf.GradientTape() as tape:\n",
    "        enc_output, enc_h, enc_c = encoder(inp, enc_hidden)\n",
    "\n",
    "        dec_input = targ[:, :-1]  # Ignore <end> token\n",
    "        real = targ[:, 1:]  # ignore <start> token\n",
    "\n",
    "        # Set the AttentionMechanism object with encoder_outputs\n",
    "        decoder.attention_mechanism.setup_memory(enc_output)\n",
    "\n",
    "        # Create AttentionWrapperState as initial_state for decoder\n",
    "        decoder_initial_state = decoder.build_initial_state(\n",
    "            BATCH_SIZE, [enc_h, enc_c], tf.float32\n",
    "        )\n",
    "        pred = decoder(dec_input, decoder_initial_state)\n",
    "        logits = pred.rnn_output\n",
    "        loss = loss_function(real, logits)\n",
    "\n",
    "    variables = encoder.trainable_variables + decoder.trainable_variables\n",
    "    gradients = tape.gradient(loss, variables)\n",
    "    optimizer.apply_gradients(zip(gradients, variables))\n",
    "\n",
    "    return loss"
   ]
  },
  {
   "cell_type": "markdown",
   "metadata": {},
   "source": [
    "### 训练模型"
   ]
  },
  {
   "cell_type": "code",
   "execution_count": 50,
   "metadata": {},
   "outputs": [
    {
     "name": "stdout",
     "output_type": "stream",
     "text": [
      "Epoch 1 Batch 0 Loss 3.7444\n"
     ]
    },
    {
     "ename": "KeyboardInterrupt",
     "evalue": "",
     "output_type": "error",
     "traceback": [
      "\u001b[0;31m---------------------------------------------------------------------------\u001b[0m",
      "\u001b[0;31mKeyboardInterrupt\u001b[0m                         Traceback (most recent call last)",
      "\u001b[0;32m<ipython-input-50-a343dcef0ff4>\u001b[0m in \u001b[0;36m<module>\u001b[0;34m\u001b[0m\n\u001b[1;32m     12\u001b[0m \u001b[0;34m\u001b[0m\u001b[0m\n\u001b[1;32m     13\u001b[0m     \u001b[0;32mfor\u001b[0m \u001b[0;34m(\u001b[0m\u001b[0mbatch\u001b[0m\u001b[0;34m,\u001b[0m \u001b[0;34m(\u001b[0m\u001b[0minp\u001b[0m\u001b[0;34m,\u001b[0m \u001b[0mtarg\u001b[0m\u001b[0;34m)\u001b[0m\u001b[0;34m)\u001b[0m \u001b[0;32min\u001b[0m \u001b[0menumerate\u001b[0m\u001b[0;34m(\u001b[0m\u001b[0mtrain_dataset\u001b[0m\u001b[0;34m.\u001b[0m\u001b[0mtake\u001b[0m\u001b[0;34m(\u001b[0m\u001b[0msteps_per_epoch\u001b[0m\u001b[0;34m)\u001b[0m\u001b[0;34m)\u001b[0m\u001b[0;34m:\u001b[0m\u001b[0;34m\u001b[0m\u001b[0;34m\u001b[0m\u001b[0m\n\u001b[0;32m---> 14\u001b[0;31m         \u001b[0mbatch_loss\u001b[0m \u001b[0;34m=\u001b[0m \u001b[0mtrain_step\u001b[0m\u001b[0;34m(\u001b[0m\u001b[0minp\u001b[0m\u001b[0;34m,\u001b[0m \u001b[0mtarg\u001b[0m\u001b[0;34m,\u001b[0m \u001b[0menc_hidden\u001b[0m\u001b[0;34m)\u001b[0m\u001b[0;34m\u001b[0m\u001b[0;34m\u001b[0m\u001b[0m\n\u001b[0m\u001b[1;32m     15\u001b[0m         \u001b[0mtotal_loss\u001b[0m \u001b[0;34m+=\u001b[0m \u001b[0mbatch_loss\u001b[0m\u001b[0;34m\u001b[0m\u001b[0;34m\u001b[0m\u001b[0m\n\u001b[1;32m     16\u001b[0m \u001b[0;34m\u001b[0m\u001b[0m\n",
      "\u001b[0;32m/opt/conda/lib/python3.8/site-packages/tensorflow/python/eager/def_function.py\u001b[0m in \u001b[0;36m__call__\u001b[0;34m(self, *args, **kwds)\u001b[0m\n\u001b[1;32m    887\u001b[0m \u001b[0;34m\u001b[0m\u001b[0m\n\u001b[1;32m    888\u001b[0m       \u001b[0;32mwith\u001b[0m \u001b[0mOptionalXlaContext\u001b[0m\u001b[0;34m(\u001b[0m\u001b[0mself\u001b[0m\u001b[0;34m.\u001b[0m\u001b[0m_jit_compile\u001b[0m\u001b[0;34m)\u001b[0m\u001b[0;34m:\u001b[0m\u001b[0;34m\u001b[0m\u001b[0;34m\u001b[0m\u001b[0m\n\u001b[0;32m--> 889\u001b[0;31m         \u001b[0mresult\u001b[0m \u001b[0;34m=\u001b[0m \u001b[0mself\u001b[0m\u001b[0;34m.\u001b[0m\u001b[0m_call\u001b[0m\u001b[0;34m(\u001b[0m\u001b[0;34m*\u001b[0m\u001b[0margs\u001b[0m\u001b[0;34m,\u001b[0m \u001b[0;34m**\u001b[0m\u001b[0mkwds\u001b[0m\u001b[0;34m)\u001b[0m\u001b[0;34m\u001b[0m\u001b[0;34m\u001b[0m\u001b[0m\n\u001b[0m\u001b[1;32m    890\u001b[0m \u001b[0;34m\u001b[0m\u001b[0m\n\u001b[1;32m    891\u001b[0m       \u001b[0mnew_tracing_count\u001b[0m \u001b[0;34m=\u001b[0m \u001b[0mself\u001b[0m\u001b[0;34m.\u001b[0m\u001b[0mexperimental_get_tracing_count\u001b[0m\u001b[0;34m(\u001b[0m\u001b[0;34m)\u001b[0m\u001b[0;34m\u001b[0m\u001b[0;34m\u001b[0m\u001b[0m\n",
      "\u001b[0;32m/opt/conda/lib/python3.8/site-packages/tensorflow/python/eager/def_function.py\u001b[0m in \u001b[0;36m_call\u001b[0;34m(self, *args, **kwds)\u001b[0m\n\u001b[1;32m    915\u001b[0m       \u001b[0;31m# In this case we have created variables on the first call, so we run the\u001b[0m\u001b[0;34m\u001b[0m\u001b[0;34m\u001b[0m\u001b[0;34m\u001b[0m\u001b[0m\n\u001b[1;32m    916\u001b[0m       \u001b[0;31m# defunned version which is guaranteed to never create variables.\u001b[0m\u001b[0;34m\u001b[0m\u001b[0;34m\u001b[0m\u001b[0;34m\u001b[0m\u001b[0m\n\u001b[0;32m--> 917\u001b[0;31m       \u001b[0;32mreturn\u001b[0m \u001b[0mself\u001b[0m\u001b[0;34m.\u001b[0m\u001b[0m_stateless_fn\u001b[0m\u001b[0;34m(\u001b[0m\u001b[0;34m*\u001b[0m\u001b[0margs\u001b[0m\u001b[0;34m,\u001b[0m \u001b[0;34m**\u001b[0m\u001b[0mkwds\u001b[0m\u001b[0;34m)\u001b[0m  \u001b[0;31m# pylint: disable=not-callable\u001b[0m\u001b[0;34m\u001b[0m\u001b[0;34m\u001b[0m\u001b[0m\n\u001b[0m\u001b[1;32m    918\u001b[0m     \u001b[0;32melif\u001b[0m \u001b[0mself\u001b[0m\u001b[0;34m.\u001b[0m\u001b[0m_stateful_fn\u001b[0m \u001b[0;32mis\u001b[0m \u001b[0;32mnot\u001b[0m \u001b[0;32mNone\u001b[0m\u001b[0;34m:\u001b[0m\u001b[0;34m\u001b[0m\u001b[0;34m\u001b[0m\u001b[0m\n\u001b[1;32m    919\u001b[0m       \u001b[0;31m# Release the lock early so that multiple threads can perform the call\u001b[0m\u001b[0;34m\u001b[0m\u001b[0;34m\u001b[0m\u001b[0;34m\u001b[0m\u001b[0m\n",
      "\u001b[0;32m/opt/conda/lib/python3.8/site-packages/tensorflow/python/eager/function.py\u001b[0m in \u001b[0;36m__call__\u001b[0;34m(self, *args, **kwargs)\u001b[0m\n\u001b[1;32m   3021\u001b[0m       (graph_function,\n\u001b[1;32m   3022\u001b[0m        filtered_flat_args) = self._maybe_define_function(args, kwargs)\n\u001b[0;32m-> 3023\u001b[0;31m     return graph_function._call_flat(\n\u001b[0m\u001b[1;32m   3024\u001b[0m         filtered_flat_args, captured_inputs=graph_function.captured_inputs)  # pylint: disable=protected-access\n\u001b[1;32m   3025\u001b[0m \u001b[0;34m\u001b[0m\u001b[0m\n",
      "\u001b[0;32m/opt/conda/lib/python3.8/site-packages/tensorflow/python/eager/function.py\u001b[0m in \u001b[0;36m_call_flat\u001b[0;34m(self, args, captured_inputs, cancellation_manager)\u001b[0m\n\u001b[1;32m   1958\u001b[0m         and executing_eagerly):\n\u001b[1;32m   1959\u001b[0m       \u001b[0;31m# No tape is watching; skip to running the function.\u001b[0m\u001b[0;34m\u001b[0m\u001b[0;34m\u001b[0m\u001b[0;34m\u001b[0m\u001b[0m\n\u001b[0;32m-> 1960\u001b[0;31m       return self._build_call_outputs(self._inference_function.call(\n\u001b[0m\u001b[1;32m   1961\u001b[0m           ctx, args, cancellation_manager=cancellation_manager))\n\u001b[1;32m   1962\u001b[0m     forward_backward = self._select_forward_and_backward_functions(\n",
      "\u001b[0;32m/opt/conda/lib/python3.8/site-packages/tensorflow/python/eager/function.py\u001b[0m in \u001b[0;36mcall\u001b[0;34m(self, ctx, args, cancellation_manager)\u001b[0m\n\u001b[1;32m    589\u001b[0m       \u001b[0;32mwith\u001b[0m \u001b[0m_InterpolateFunctionError\u001b[0m\u001b[0;34m(\u001b[0m\u001b[0mself\u001b[0m\u001b[0;34m)\u001b[0m\u001b[0;34m:\u001b[0m\u001b[0;34m\u001b[0m\u001b[0;34m\u001b[0m\u001b[0m\n\u001b[1;32m    590\u001b[0m         \u001b[0;32mif\u001b[0m \u001b[0mcancellation_manager\u001b[0m \u001b[0;32mis\u001b[0m \u001b[0;32mNone\u001b[0m\u001b[0;34m:\u001b[0m\u001b[0;34m\u001b[0m\u001b[0;34m\u001b[0m\u001b[0m\n\u001b[0;32m--> 591\u001b[0;31m           outputs = execute.execute(\n\u001b[0m\u001b[1;32m    592\u001b[0m               \u001b[0mstr\u001b[0m\u001b[0;34m(\u001b[0m\u001b[0mself\u001b[0m\u001b[0;34m.\u001b[0m\u001b[0msignature\u001b[0m\u001b[0;34m.\u001b[0m\u001b[0mname\u001b[0m\u001b[0;34m)\u001b[0m\u001b[0;34m,\u001b[0m\u001b[0;34m\u001b[0m\u001b[0;34m\u001b[0m\u001b[0m\n\u001b[1;32m    593\u001b[0m               \u001b[0mnum_outputs\u001b[0m\u001b[0;34m=\u001b[0m\u001b[0mself\u001b[0m\u001b[0;34m.\u001b[0m\u001b[0m_num_outputs\u001b[0m\u001b[0;34m,\u001b[0m\u001b[0;34m\u001b[0m\u001b[0;34m\u001b[0m\u001b[0m\n",
      "\u001b[0;32m/opt/conda/lib/python3.8/site-packages/tensorflow/python/eager/execute.py\u001b[0m in \u001b[0;36mquick_execute\u001b[0;34m(op_name, num_outputs, inputs, attrs, ctx, name)\u001b[0m\n\u001b[1;32m     57\u001b[0m   \u001b[0;32mtry\u001b[0m\u001b[0;34m:\u001b[0m\u001b[0;34m\u001b[0m\u001b[0;34m\u001b[0m\u001b[0m\n\u001b[1;32m     58\u001b[0m     \u001b[0mctx\u001b[0m\u001b[0;34m.\u001b[0m\u001b[0mensure_initialized\u001b[0m\u001b[0;34m(\u001b[0m\u001b[0;34m)\u001b[0m\u001b[0;34m\u001b[0m\u001b[0;34m\u001b[0m\u001b[0m\n\u001b[0;32m---> 59\u001b[0;31m     tensors = pywrap_tfe.TFE_Py_Execute(ctx._handle, device_name, op_name,\n\u001b[0m\u001b[1;32m     60\u001b[0m                                         inputs, attrs, num_outputs)\n\u001b[1;32m     61\u001b[0m   \u001b[0;32mexcept\u001b[0m \u001b[0mcore\u001b[0m\u001b[0;34m.\u001b[0m\u001b[0m_NotOkStatusException\u001b[0m \u001b[0;32mas\u001b[0m \u001b[0me\u001b[0m\u001b[0;34m:\u001b[0m\u001b[0;34m\u001b[0m\u001b[0;34m\u001b[0m\u001b[0m\n",
      "\u001b[0;31mKeyboardInterrupt\u001b[0m: "
     ]
    }
   ],
   "source": [
    "import time\n",
    "\n",
    "\n",
    "EPOCHS = 10\n",
    "\n",
    "for epoch in range(EPOCHS):\n",
    "    start = time.time()\n",
    "\n",
    "    enc_hidden = encoder.initialize_hidden_state()\n",
    "    total_loss = 0\n",
    "    # print(enc_hidden[0].shape, enc_hidden[1].shape)\n",
    "\n",
    "    for (batch, (inp, targ)) in enumerate(train_dataset.take(steps_per_epoch)):\n",
    "        batch_loss = train_step(inp, targ, enc_hidden)\n",
    "        total_loss += batch_loss\n",
    "\n",
    "        if batch % 100 == 0:\n",
    "            print(\n",
    "                \"Epoch {} Batch {} Loss {:.4f}\".format(\n",
    "                    epoch + 1, batch, batch_loss.numpy()\n",
    "                )\n",
    "            )\n",
    "    # saving (checkpoint) the model every 2 epochs\n",
    "    if (epoch + 1) % 2 == 0:\n",
    "        checkpoint.save(file_prefix=checkpoint_prefix)\n",
    "\n",
    "    print(\"Epoch {} Loss {:.4f}\".format(epoch + 1, total_loss / steps_per_epoch))\n",
    "    print(\"Time taken for 1 epoch {} sec\\n\".format(time.time() - start))"
   ]
  },
  {
   "cell_type": "code",
   "execution_count": 1,
   "metadata": {},
   "outputs": [
    {
     "name": "stdout",
     "output_type": "stream",
     "text": [
      "Num GPUs Available:  0\n"
     ]
    }
   ],
   "source": [
    "import tensorflow as tf\n",
    "print(\"Num GPUs Available: \", len(tf.config.list_physical_devices('GPU')))"
   ]
  },
  {
   "cell_type": "code",
   "execution_count": null,
   "metadata": {},
   "outputs": [],
   "source": []
  }
 ],
 "metadata": {
  "accelerator": "GPU",
  "colab": {
   "collapsed_sections": [],
   "name": "text_generation.ipynb",
   "toc_visible": true
  },
  "kernelspec": {
   "display_name": "Python 3",
   "language": "python",
   "name": "python3"
  },
  "language_info": {
   "codemirror_mode": {
    "name": "ipython",
    "version": 3
   },
   "file_extension": ".py",
   "mimetype": "text/x-python",
   "name": "python",
   "nbconvert_exporter": "python",
   "pygments_lexer": "ipython3",
   "version": "3.8.10"
  },
  "toc-showcode": false
 },
 "nbformat": 4,
 "nbformat_minor": 4
}
