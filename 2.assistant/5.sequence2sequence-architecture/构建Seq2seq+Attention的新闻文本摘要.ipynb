{
 "cells": [
  {
   "cell_type": "markdown",
   "metadata": {
    "id": "J0Qjg6vuaHNt"
   },
   "source": [
    "# 构建 Seq2seq + Attention 的新闻文本摘要\n",
    "\n",
    "我们要使用 Sequence-To-Sequence(seq2seq) 模型，加上 Attention 机制，来制作一个新闻文本的摘要。\n",
    "\n",
    "\n",
    "我们使用的数据是新浪新闻上的历史报道，以及针对这些新闻的短摘要数据。\n",
    "\n",
    "\n",
    "* Sequence to sequence 模型\n",
    "* TensorFlow 中的各种 Layer: \n",
    "  * 直接处理 Tensor\n",
    "  * 自定义 Model 和 Layer\n",
    "  * Attention 的可视化探索\n",
    "    \n",
    "在这个模型中，你将输入一篇完整的新闻，模型会自动返回针对这篇新闻的摘要内容。"
   ]
  },
  {
   "cell_type": "markdown",
   "metadata": {
    "id": "yAmSR1FaqKrl"
   },
   "source": [
    "## 需要额外安装的包"
   ]
  },
  {
   "cell_type": "code",
   "execution_count": 1,
   "metadata": {
    "id": "DGFTkuRvzWqc",
    "tags": []
   },
   "outputs": [
    {
     "name": "stdout",
     "output_type": "stream",
     "text": [
      "Looking in indexes: https://pypi.tuna.tsinghua.edu.cn/simple\n",
      "Requirement already satisfied: tensorflow_text in /usr/local/lib/python3.6/dist-packages (2.6.0)\n",
      "Requirement already satisfied: tqdm in /usr/local/lib/python3.6/dist-packages (4.62.3)\n",
      "Requirement already satisfied: jieba in /usr/local/lib/python3.6/dist-packages (0.42.1)\n",
      "Requirement already satisfied: tensorflow<2.7,>=2.6.0 in /usr/local/lib/python3.6/dist-packages (from tensorflow_text) (2.6.2)\n",
      "Requirement already satisfied: tensorflow-hub>=0.8.0 in /usr/local/lib/python3.6/dist-packages (from tensorflow_text) (0.12.0)\n",
      "Requirement already satisfied: wheel~=0.35 in /usr/local/lib/python3.6/dist-packages (from tensorflow<2.7,>=2.6.0->tensorflow_text) (0.36.2)\n",
      "Requirement already satisfied: tensorflow-estimator<2.7,>=2.6.0 in /usr/local/lib/python3.6/dist-packages (from tensorflow<2.7,>=2.6.0->tensorflow_text) (2.6.0)\n",
      "Requirement already satisfied: opt-einsum~=3.3.0 in /usr/local/lib/python3.6/dist-packages (from tensorflow<2.7,>=2.6.0->tensorflow_text) (3.3.0)\n",
      "Requirement already satisfied: google-pasta~=0.2 in /usr/local/lib/python3.6/dist-packages (from tensorflow<2.7,>=2.6.0->tensorflow_text) (0.2.0)\n",
      "Requirement already satisfied: astunparse~=1.6.3 in /usr/local/lib/python3.6/dist-packages (from tensorflow<2.7,>=2.6.0->tensorflow_text) (1.6.3)\n",
      "Requirement already satisfied: grpcio<2.0,>=1.37.0 in /usr/local/lib/python3.6/dist-packages (from tensorflow<2.7,>=2.6.0->tensorflow_text) (1.38.1)\n",
      "Requirement already satisfied: protobuf>=3.9.2 in /usr/local/lib/python3.6/dist-packages (from tensorflow<2.7,>=2.6.0->tensorflow_text) (3.17.3)\n",
      "Requirement already satisfied: termcolor~=1.1.0 in /usr/local/lib/python3.6/dist-packages (from tensorflow<2.7,>=2.6.0->tensorflow_text) (1.1.0)\n",
      "Collecting typing-extensions~=3.7.4\n",
      "  Using cached https://pypi.tuna.tsinghua.edu.cn/packages/60/7a/e881b5abb54db0e6e671ab088d079c57ce54e8a01a3ca443f561ccadb37e/typing_extensions-3.7.4.3-py3-none-any.whl (22 kB)\n",
      "Requirement already satisfied: gast==0.4.0 in /usr/local/lib/python3.6/dist-packages (from tensorflow<2.7,>=2.6.0->tensorflow_text) (0.4.0)\n",
      "Requirement already satisfied: keras<2.7,>=2.6.0 in /usr/local/lib/python3.6/dist-packages (from tensorflow<2.7,>=2.6.0->tensorflow_text) (2.6.0)\n",
      "Requirement already satisfied: absl-py~=0.10 in /usr/local/lib/python3.6/dist-packages (from tensorflow<2.7,>=2.6.0->tensorflow_text) (0.13.0)\n",
      "Requirement already satisfied: tensorboard<2.7,>=2.6.0 in /usr/local/lib/python3.6/dist-packages (from tensorflow<2.7,>=2.6.0->tensorflow_text) (2.6.0)\n",
      "Requirement already satisfied: h5py~=3.1.0 in /usr/local/lib/python3.6/dist-packages (from tensorflow<2.7,>=2.6.0->tensorflow_text) (3.1.0)\n",
      "Requirement already satisfied: wrapt~=1.12.1 in /usr/local/lib/python3.6/dist-packages (from tensorflow<2.7,>=2.6.0->tensorflow_text) (1.12.1)\n",
      "Requirement already satisfied: flatbuffers~=1.12.0 in /usr/local/lib/python3.6/dist-packages (from tensorflow<2.7,>=2.6.0->tensorflow_text) (1.12)\n",
      "Requirement already satisfied: clang~=5.0 in /usr/local/lib/python3.6/dist-packages (from tensorflow<2.7,>=2.6.0->tensorflow_text) (5.0)\n",
      "Requirement already satisfied: six~=1.15.0 in /usr/local/lib/python3.6/dist-packages (from tensorflow<2.7,>=2.6.0->tensorflow_text) (1.15.0)\n",
      "Requirement already satisfied: numpy~=1.19.2 in /usr/local/lib/python3.6/dist-packages (from tensorflow<2.7,>=2.6.0->tensorflow_text) (1.19.5)\n",
      "Requirement already satisfied: keras-preprocessing~=1.1.2 in /usr/local/lib/python3.6/dist-packages (from tensorflow<2.7,>=2.6.0->tensorflow_text) (1.1.2)\n",
      "Requirement already satisfied: cached-property in /usr/local/lib/python3.6/dist-packages (from h5py~=3.1.0->tensorflow<2.7,>=2.6.0->tensorflow_text) (1.5.2)\n",
      "Requirement already satisfied: google-auth<2,>=1.6.3 in /usr/local/lib/python3.6/dist-packages (from tensorboard<2.7,>=2.6.0->tensorflow<2.7,>=2.6.0->tensorflow_text) (1.32.1)\n",
      "Requirement already satisfied: requests<3,>=2.21.0 in /usr/local/lib/python3.6/dist-packages (from tensorboard<2.7,>=2.6.0->tensorflow<2.7,>=2.6.0->tensorflow_text) (2.26.0)\n",
      "Requirement already satisfied: markdown>=2.6.8 in /usr/local/lib/python3.6/dist-packages (from tensorboard<2.7,>=2.6.0->tensorflow<2.7,>=2.6.0->tensorflow_text) (3.3.4)\n",
      "Requirement already satisfied: tensorboard-plugin-wit>=1.6.0 in /usr/local/lib/python3.6/dist-packages (from tensorboard<2.7,>=2.6.0->tensorflow<2.7,>=2.6.0->tensorflow_text) (1.8.0)\n",
      "Requirement already satisfied: google-auth-oauthlib<0.5,>=0.4.1 in /usr/local/lib/python3.6/dist-packages (from tensorboard<2.7,>=2.6.0->tensorflow<2.7,>=2.6.0->tensorflow_text) (0.4.4)\n",
      "Requirement already satisfied: setuptools>=41.0.0 in /usr/local/lib/python3.6/dist-packages (from tensorboard<2.7,>=2.6.0->tensorflow<2.7,>=2.6.0->tensorflow_text) (57.1.0)\n",
      "Requirement already satisfied: tensorboard-data-server<0.7.0,>=0.6.0 in /usr/local/lib/python3.6/dist-packages (from tensorboard<2.7,>=2.6.0->tensorflow<2.7,>=2.6.0->tensorflow_text) (0.6.1)\n",
      "Requirement already satisfied: werkzeug>=0.11.15 in /usr/local/lib/python3.6/dist-packages (from tensorboard<2.7,>=2.6.0->tensorflow<2.7,>=2.6.0->tensorflow_text) (2.0.1)\n",
      "Requirement already satisfied: rsa<5,>=3.1.4 in /usr/local/lib/python3.6/dist-packages (from google-auth<2,>=1.6.3->tensorboard<2.7,>=2.6.0->tensorflow<2.7,>=2.6.0->tensorflow_text) (4.7.2)\n",
      "Requirement already satisfied: cachetools<5.0,>=2.0.0 in /usr/local/lib/python3.6/dist-packages (from google-auth<2,>=1.6.3->tensorboard<2.7,>=2.6.0->tensorflow<2.7,>=2.6.0->tensorflow_text) (4.2.2)\n",
      "Requirement already satisfied: pyasn1-modules>=0.2.1 in /usr/local/lib/python3.6/dist-packages (from google-auth<2,>=1.6.3->tensorboard<2.7,>=2.6.0->tensorflow<2.7,>=2.6.0->tensorflow_text) (0.2.8)\n",
      "Requirement already satisfied: requests-oauthlib>=0.7.0 in /usr/local/lib/python3.6/dist-packages (from google-auth-oauthlib<0.5,>=0.4.1->tensorboard<2.7,>=2.6.0->tensorflow<2.7,>=2.6.0->tensorflow_text) (1.3.0)\n",
      "Requirement already satisfied: importlib-metadata in /usr/local/lib/python3.6/dist-packages (from markdown>=2.6.8->tensorboard<2.7,>=2.6.0->tensorflow<2.7,>=2.6.0->tensorflow_text) (3.10.1)\n",
      "Requirement already satisfied: certifi>=2017.4.17 in /usr/local/lib/python3.6/dist-packages (from requests<3,>=2.21.0->tensorboard<2.7,>=2.6.0->tensorflow<2.7,>=2.6.0->tensorflow_text) (2021.5.30)\n",
      "Requirement already satisfied: idna<4,>=2.5 in /usr/local/lib/python3.6/dist-packages (from requests<3,>=2.21.0->tensorboard<2.7,>=2.6.0->tensorflow<2.7,>=2.6.0->tensorflow_text) (3.3)\n",
      "Requirement already satisfied: urllib3<1.27,>=1.21.1 in /usr/local/lib/python3.6/dist-packages (from requests<3,>=2.21.0->tensorboard<2.7,>=2.6.0->tensorflow<2.7,>=2.6.0->tensorflow_text) (1.26.6)\n",
      "Requirement already satisfied: charset-normalizer~=2.0.0 in /usr/local/lib/python3.6/dist-packages (from requests<3,>=2.21.0->tensorboard<2.7,>=2.6.0->tensorflow<2.7,>=2.6.0->tensorflow_text) (2.0.1)\n",
      "Requirement already satisfied: dataclasses in /usr/local/lib/python3.6/dist-packages (from werkzeug>=0.11.15->tensorboard<2.7,>=2.6.0->tensorflow<2.7,>=2.6.0->tensorflow_text) (0.8)\n",
      "Requirement already satisfied: pyasn1<0.5.0,>=0.4.6 in /usr/local/lib/python3.6/dist-packages (from pyasn1-modules>=0.2.1->google-auth<2,>=1.6.3->tensorboard<2.7,>=2.6.0->tensorflow<2.7,>=2.6.0->tensorflow_text) (0.4.8)\n",
      "Requirement already satisfied: oauthlib>=3.0.0 in /usr/local/lib/python3.6/dist-packages (from requests-oauthlib>=0.7.0->google-auth-oauthlib<0.5,>=0.4.1->tensorboard<2.7,>=2.6.0->tensorflow<2.7,>=2.6.0->tensorflow_text) (3.1.1)\n",
      "Requirement already satisfied: zipp>=0.5 in /usr/local/lib/python3.6/dist-packages (from importlib-metadata->markdown>=2.6.8->tensorboard<2.7,>=2.6.0->tensorflow<2.7,>=2.6.0->tensorflow_text) (3.5.0)\n",
      "Installing collected packages: typing-extensions\n",
      "  Attempting uninstall: typing-extensions\n",
      "    Found existing installation: typing-extensions 4.0.1\n",
      "    Uninstalling typing-extensions-4.0.1:\n",
      "      Successfully uninstalled typing-extensions-4.0.1\n",
      "\u001b[31mERROR: pip's dependency resolver does not currently take into account all the packages that are installed. This behaviour is the source of the following dependency conflicts.\n",
      "black 21.12b0 requires typing-extensions>=3.10.0.0, but you have typing-extensions 3.7.4.3 which is incompatible.\u001b[0m\n",
      "Successfully installed typing-extensions-3.7.4.3\n",
      "\u001b[33mWARNING: Running pip as the 'root' user can result in broken permissions and conflicting behaviour with the system package manager. It is recommended to use a virtual environment instead: https://pip.pypa.io/warnings/venv\u001b[0m\n"
     ]
    }
   ],
   "source": [
    "!pip install tensorflow_text tqdm jieba -i https://pypi.tuna.tsinghua.edu.cn/simple"
   ]
  },
  {
   "cell_type": "code",
   "execution_count": 2,
   "metadata": {},
   "outputs": [],
   "source": [
    "import tensorflow as tf\n",
    "\n",
    "tf.config.list_physical_devices(\"GPU\")\n",
    "gpus = tf.config.experimental.list_physical_devices(device_type=\"GPU\")\n",
    "tf.config.experimental.set_visible_devices(devices=gpus[0:4], device_type=\"GPU\")"
   ]
  },
  {
   "cell_type": "code",
   "execution_count": 3,
   "metadata": {
    "id": "tnxXKDjq3jEL",
    "tags": []
   },
   "outputs": [],
   "source": [
    "import typing\n",
    "import warnings\n",
    "from datetime import datetime\n",
    "from typing import Any, Tuple\n",
    "\n",
    "warnings.filterwarnings(\"ignore\")\n",
    "\n",
    "import jieba\n",
    "import matplotlib as mlt\n",
    "import matplotlib.pyplot as plt\n",
    "import matplotlib.ticker as ticker\n",
    "import numpy as np\n",
    "import tensorflow as tf\n",
    "import tensorflow_text as tf_text\n",
    "from tensorflow.keras.layers.experimental import preprocessing\n",
    "\n",
    "plt.rcParams[\"font.sans-serif\"] = [\"SimHei\"]  # 用来正常显示中文标签\n",
    "plt.rcParams[\"axes.unicode_minus\"] = False  # 用来正常显示负号\n",
    "\n",
    "%load_ext tensorboard"
   ]
  },
  {
   "cell_type": "markdown",
   "metadata": {
    "id": "l_yq8kvIqoqQ"
   },
   "source": [
    "在我们手动实现一些机制的时候，会使用到很多的底层的 API，这些 API 很容易会出现 shape 的错误，所以我们定义一个类(ShapeChecker)用来检测这些 shape。"
   ]
  },
  {
   "cell_type": "code",
   "execution_count": 4,
   "metadata": {
    "id": "KqFqKi4fqN9X",
    "tags": []
   },
   "outputs": [],
   "source": [
    "class ShapeChecker:\n",
    "    def __init__(self):\n",
    "        # Keep a cache of every axis-name seen\n",
    "        self.shapes = {}\n",
    "\n",
    "    def __call__(self, tensor, names, broadcast=False):\n",
    "        if not tf.executing_eagerly():\n",
    "            return\n",
    "\n",
    "        if isinstance(names, str):\n",
    "            names = (names,)\n",
    "\n",
    "        shape = tf.shape(tensor)\n",
    "        rank = tf.rank(tensor)\n",
    "\n",
    "        if rank != len(names):\n",
    "            raise ValueError(\n",
    "                f\"Rank mismatch:\\n\"\n",
    "                f\"    found {rank}: {shape.numpy()}\\n\"\n",
    "                f\"    expected {len(names)}: {names}\\n\"\n",
    "            )\n",
    "\n",
    "        for i, name in enumerate(names):\n",
    "            if isinstance(name, int):\n",
    "                old_dim = name\n",
    "            else:\n",
    "                old_dim = self.shapes.get(name, None)\n",
    "            new_dim = shape[i]\n",
    "\n",
    "            if broadcast and new_dim == 1:\n",
    "                continue\n",
    "\n",
    "            if old_dim is None:\n",
    "                # If the axis name is new, add its length to the cache.\n",
    "                self.shapes[name] = new_dim\n",
    "                continue\n",
    "\n",
    "            if new_dim != old_dim:\n",
    "                raise ValueError(\n",
    "                    f\"Shape mismatch for dimension: '{name}'\\n\"\n",
    "                    f\"    found: {new_dim}\\n\"\n",
    "                    f\"    expected: {old_dim}\\n\"\n",
    "                )"
   ]
  },
  {
   "cell_type": "markdown",
   "metadata": {
    "id": "gjUROhJfH3ML"
   },
   "source": [
    "## 数据探索"
   ]
  },
  {
   "cell_type": "markdown",
   "metadata": {
    "id": "wfodePkj3jEa"
   },
   "source": [
    "### 下载和准备数据\n",
    "\n",
    "接下来，我们要下载数据集，并且把数据给准备好：\n",
    "\n",
    "1. 在每个句子的开头和结尾增加一个 *start* 和一个 *end* token.\n",
    "2. 清洗每个句子，去除一些我们不想要的文字.\n",
    "3. 创建一个词表索引和倒索引 (dictionaries mapping from word → id and id → word).\n",
    "4. Pad 每个句子到 maximum length."
   ]
  },
  {
   "cell_type": "code",
   "execution_count": 5,
   "metadata": {
    "id": "kRVATYOgJs1b",
    "tags": []
   },
   "outputs": [],
   "source": [
    "# Download the file\n",
    "import pathlib\n",
    "\n",
    "path_to_zip = tf.keras.utils.get_file(\n",
    "    \"sina-article.zip\",\n",
    "    origin=\"http://aimaksen.bslience.cn/sina-article.zip\",\n",
    "    extract=True,\n",
    ")\n",
    "\n",
    "content_path = pathlib.Path(path_to_zip).parent / \"train_text.txt\"\n",
    "title_path = pathlib.Path(path_to_zip).parent / \"train_label.txt\""
   ]
  },
  {
   "cell_type": "code",
   "execution_count": 6,
   "metadata": {},
   "outputs": [],
   "source": [
    "# Data clean and tokenize\n",
    "from data_helper import build_news_data\n",
    "\n",
    "train_save_path = pathlib.Path(\".\").parent / \"data/sina-article-train.txt\"\n",
    "test_save_path = pathlib.Path(\".\").parent / \"data/sina-article-test.txt\""
   ]
  },
  {
   "cell_type": "code",
   "execution_count": 7,
   "metadata": {},
   "outputs": [
    {
     "name": "stderr",
     "output_type": "stream",
     "text": [
      "build data: 0it [00:00, ?it/s]Building prefix dict from the default dictionary ...\n",
      "Building prefix dict from the default dictionary ...\n",
      "Building prefix dict from the default dictionary ...\n",
      "Building prefix dict from the default dictionary ...\n",
      "Building prefix dict from the default dictionary ...\n",
      "Building prefix dict from the default dictionary ...\n",
      "Building prefix dict from the default dictionary ...\n",
      "Building prefix dict from the default dictionary ...\n",
      "Loading model from cache /tmp/jieba.cache\n",
      "Loading model from cache /tmp/jieba.cache\n",
      "Loading model from cache /tmp/jieba.cache\n",
      "Loading model from cache /tmp/jieba.cache\n",
      "Loading model from cache /tmp/jieba.cache\n",
      "Loading model from cache /tmp/jieba.cache\n",
      "Loading model from cache /tmp/jieba.cache\n",
      "Loading model from cache /tmp/jieba.cache\n",
      "Loading model cost 0.516 seconds.\n",
      "Prefix dict has been built successfully.\n",
      "Loading model cost 0.525 seconds.\n",
      "Loading model cost 0.524 seconds.\n",
      "Loading model cost 0.525 seconds.\n",
      "Prefix dict has been built successfully.\n",
      "Loading model cost 0.526 seconds.\n",
      "Prefix dict has been built successfully.\n",
      "Prefix dict has been built successfully.\n",
      "Prefix dict has been built successfully.\n",
      "Loading model cost 0.528 seconds.\n",
      "Loading model cost 0.527 seconds.\n",
      "Prefix dict has been built successfully.\n",
      "Prefix dict has been built successfully.\n",
      "Loading model cost 0.539 seconds.\n",
      "Prefix dict has been built successfully.\n",
      "build data: 679898it [00:44, 15331.74it/s]\n"
     ]
    },
    {
     "name": "stdout",
     "output_type": "stream",
     "text": [
      "writing train data to file ...\n",
      "writing test data to file ...\n"
     ]
    }
   ],
   "source": [
    "build_news_data(content_path, title_path, train_save_path, test_save_path)"
   ]
  },
  {
   "cell_type": "code",
   "execution_count": 8,
   "metadata": {
    "id": "OHn4Dct23jEm",
    "tags": []
   },
   "outputs": [],
   "source": [
    "def load_data(path):\n",
    "    text = path.read_text(encoding=\"utf-8\")\n",
    "\n",
    "    lines = text.splitlines()\n",
    "    pairs = [line.split(\"\\t\") for line in lines]\n",
    "\n",
    "    inp = [inp for inp, targ in pairs]\n",
    "    targ = [targ for inp, targ in pairs]\n",
    "\n",
    "    return inp, targ"
   ]
  },
  {
   "cell_type": "code",
   "execution_count": 9,
   "metadata": {
    "id": "cTbSbBz55QtF",
    "tags": []
   },
   "outputs": [
    {
     "name": "stdout",
     "output_type": "stream",
     "text": [
      "1 . 动眼 — — 我们 的 眼睛 总是 看 外界 太 多 ， 看 心灵 太 少 。 2 . 动心 — — 幸福 只是 一种 感觉 ， 与 贫富 无关 ， 同 内心 相连 。 3 . 动脑 — — 说话 要 用 脑子 ， 做事 要 考虑 后果 。 4 . 动手 — — 少 指责 ， 少 抱怨 ， 少 后悔 。 5 . 动情 — — 既然 缺憾 不能 避免 ， 那么 用 什么 心态 来 对待 缺憾 就 非常 重要 。 @ 达 人 智慧 库  \n"
     ]
    }
   ],
   "source": [
    "inp, targ = load_data(train_save_path)\n",
    "print(inp[-2])"
   ]
  },
  {
   "cell_type": "code",
   "execution_count": 10,
   "metadata": {
    "id": "lH_dPY8TRp3c",
    "tags": []
   },
   "outputs": [
    {
     "name": "stdout",
     "output_type": "stream",
     "text": [
      "午休 分享 · 什么 是 幸福 ？\n"
     ]
    }
   ],
   "source": [
    "print(targ[-2])"
   ]
  },
  {
   "cell_type": "code",
   "execution_count": 11,
   "metadata": {},
   "outputs": [
    {
     "data": {
      "text/plain": [
       "548422"
      ]
     },
     "execution_count": 11,
     "metadata": {},
     "output_type": "execute_result"
    }
   ],
   "source": [
    "len(inp)"
   ]
  },
  {
   "cell_type": "code",
   "execution_count": 12,
   "metadata": {},
   "outputs": [],
   "source": [
    "## 为了演示，减小数据集规模\n",
    "# inp = inp[:1000]\n",
    "# targ = targ[:1000]"
   ]
  },
  {
   "cell_type": "markdown",
   "metadata": {
    "id": "rgCLkfv5uO3d"
   },
   "source": [
    "### 创建一个 tf.data dataset"
   ]
  },
  {
   "cell_type": "markdown",
   "metadata": {
    "id": "PfVWx3WaI5Df"
   },
   "source": [
    "从这些字符串的 arrays 我们可以创建 `tf.data.Dataset` 用来更高效的做 shuffle 和 batch:"
   ]
  },
  {
   "cell_type": "code",
   "execution_count": 13,
   "metadata": {
    "id": "TqHsArVZ3jFS",
    "tags": []
   },
   "outputs": [],
   "source": [
    "BUFFER_SIZE = len(inp)\n",
    "# 为了演示方便，减小了 Batch Size，通常我们可以从64开始尝试\n",
    "BATCH_SIZE = 64\n",
    "\n",
    "# .shuffle(BUFFER_SIZE) 为了演示，暂时没有使用 shuffle\n",
    "dataset = (\n",
    "    tf.data.Dataset.from_tensor_slices((inp, targ))\n",
    "    .batch(BATCH_SIZE)\n",
    "    .shuffle(BUFFER_SIZE)\n",
    ")"
   ]
  },
  {
   "cell_type": "code",
   "execution_count": 14,
   "metadata": {
    "id": "qc6-NK1GtWQt",
    "tags": []
   },
   "outputs": [
    {
     "name": "stdout",
     "output_type": "stream",
     "text": [
      "tf.Tensor(\n",
      "[b'\\xe8\\xbf\\x91\\xe6\\x97\\xa5 \\xef\\xbc\\x8c \\xe4\\xb8\\xa4\\xe5\\x90\\x8d \\xe5\\x8c\\xbb\\xe7\\x94\\x9f \\xe7\\x9d\\xa1 \\xe5\\x80\\x92 \\xe5\\x9c\\xa8 \\xe5\\x9c\\xb0\\xe6\\x9d\\xbf \\xe7\\x9a\\x84 \\xe5\\x9b\\xbe\\xe7\\x89\\x87 \\xe5\\x9c\\xa8 \\xe6\\x9c\\x8b\\xe5\\x8f\\x8b\\xe5\\x9c\\x88 \\xe7\\x81\\xab \\xe4\\xba\\x86 \\xe3\\x80\\x82 3 \\xe6\\x9c\\x88 7 \\xe6\\x97\\xa5 \\xef\\xbc\\x8c \\xe8\\xae\\xb0\\xe8\\x80\\x85 \\xe4\\xbb\\x8e \\xe4\\xba\\x91\\xe5\\x8d\\x97\\xe7\\x9c\\x81 \\xe7\\xac\\xac\\xe4\\xb8\\x80 \\xe4\\xba\\xba\\xe6\\xb0\\x91 \\xe5\\x8c\\xbb\\xe9\\x99\\xa2 \\xe8\\x8e\\xb7\\xe6\\x82\\x89 \\xef\\xbc\\x8c \\xe7\\x85\\xa7\\xe7\\x89\\x87 \\xe4\\xb8\\xad \\xe7\\x9a\\x84 \\xe4\\xb8\\xa4\\xe5\\x90\\x8d \\xe5\\x8c\\xbb\\xe7\\x94\\x9f \\xe4\\xb8\\xba \\xe8\\xaf\\xa5\\xe9\\x99\\xa2 \\xe8\\x82\\x9d\\xe8\\x83\\x86 \\xe5\\xa4\\x96\\xe7\\xa7\\x91 \\xe7\\x9a\\x84 \\xe7\\x8e\\x8b\\xe6\\xa2\\x93\\xe7\\x91\\x9c \\xe4\\xb8\\x8e \\xe5\\x88\\x98\\xe6\\x9e\\x97 \\xe3\\x80\\x82 \\xe2\\x80\\x9c \\xe5\\xbd\\x93\\xe6\\x97\\xb6 \\xe6\\x98\\xaf \\xe7\\xbb\\x8f\\xe8\\xbf\\x87 \\xe6\\x99\\x9a\\xe4\\xb8\\x8a \\xe8\\xbf\\x91 \\xe5\\x85\\xad\\xe5\\xb0\\x8f\\xe6\\x97\\xb6 \\xe7\\x9a\\x84 \\xe6\\x89\\x8b\\xe6\\x9c\\xaf \\xe5\\x90\\x8e \\xef\\xbc\\x8c \\xe7\\xb4\\xaf\\xe5\\xbe\\x97 \\xe9\\x9d\\xa0 \\xe5\\x9c\\xa8 \\xe6\\x89\\x8b\\xe6\\x9c\\xaf\\xe5\\xae\\xa4 \\xe4\\xb8\\x80\\xe8\\xa7\\x92 \\xe7\\x9d\\xa1\\xe7\\x9d\\x80 \\xe4\\xba\\x86 \\xe3\\x80\\x82 \\xe2\\x80\\x9d \\xe8\\xaf\\xa5 \\xe7\\x85\\xa7\\xe7\\x89\\x87 \\xe5\\xbc\\x95\\xe5\\x8f\\x91 \\xe5\\xbe\\x88\\xe5\\xa4\\x9a \\xe4\\xba\\xba \\xe7\\x9a\\x84 \\xe7\\x82\\xb9\\xe8\\xb5\\x9e \\xef\\xbc\\x9a \\xe2\\x80\\x9c \\xe5\\xbe\\x88 \\xe6\\x84\\x9f\\xe5\\x8a\\xa8 \\xef\\xbc\\x8c \\xe4\\xb9\\x9f \\xe8\\xa7\\x89\\xe5\\xbe\\x97 \\xe5\\xbe\\x88 \\xe5\\xbf\\x83\\xe7\\x96\\xbc \\xe2\\x80\\x9d \\xe3\\x80\\x82 \\xe2\\x80\\x9c \\xe5\\x9b\\xa0\\xe4\\xb8\\xba \\xe6\\x88\\x91 \\xe6\\x98\\xaf \\xe6\\x80\\xbb \\xe4\\xbd\\x8f\\xe9\\x99\\xa2 \\xe5\\x8c\\xbb \\xef\\xbc\\x8c \\xe4\\xb8\\x80\\xe4\\xb8\\xaa \\xe7\\xa4\\xbc\\xe6\\x8b\\x9c 24 \\xe5\\xb0\\x8f\\xe6\\x97\\xb6 \\xe9\\x83\\xbd \\xe5\\xbe\\x97 \\xe5\\x9c\\xa8 \\xe5\\x8c\\xbb\\xe9\\x99\\xa2 \\xe5\\xba\\xa6\\xe8\\xbf\\x87 \\xe3\\x80\\x82 \\xe2\\x80\\x9d \\xe7\\x8e\\x8b\\xe6\\xa2\\x93\\xe7\\x91\\x9c \\xe8\\xaf\\xb4 \\xef\\xbc\\x8c \\xe2\\x80\\x9c \\xe6\\x80\\xbb \\xe4\\xbd\\x8f\\xe9\\x99\\xa2 \\xe5\\x8c\\xbb\\xe6\\x98\\xaf \\xe5\\x8c\\xbb\\xe9\\x99\\xa2 \\xe9\\x87\\x8c \\xe6\\x9c\\x80 \\xe7\\xb9\\x81\\xe6\\x9d\\x82 \\xe7\\x9a\\x84 \\xe5\\xb7\\xa5\\xe4\\xbd\\x9c \\xef\\xbc\\x8c \\xe4\\xb9\\x9f \\xe6\\x98\\xaf \\xe5\\x8e\\x8b\\xe5\\x8a\\x9b \\xe6\\x9c\\x80\\xe5\\xa4\\xa7 \\xe3\\x80\\x81 \\xe6\\x9c\\x80 \\xe9\\x94\\xbb\\xe7\\x82\\xbc \\xe4\\xba\\xba \\xe7\\x9a\\x84 \\xe5\\xb7\\xa5\\xe4\\xbd\\x9c \\xe3\\x80\\x82 \\xe6\\x99\\x9a\\xe4\\xb8\\x8a \\xe6\\x9c\\x89 \\xe6\\x89\\x8b\\xe6\\x9c\\xaf \\xe5\\x90\\x8e \\xe7\\x99\\xbd\\xe5\\xa4\\xa9 \\xe8\\xbf\\x98 \\xe4\\xb8\\x8d\\xe8\\x83\\xbd \\xe4\\xbc\\x91\\xe6\\x81\\xaf \\xef\\xbc\\x8c \\xe5\\xbe\\x97 \\xe6\\xad\\xa3\\xe5\\xb8\\xb8 \\xe4\\xb8\\x8a\\xe7\\x8f\\xad \\xef\\xbc\\x8c \\xe5\\xb9\\xb6 \\xe8\\xbf\\x99\\xe6\\xa0\\xb7 \\xe8\\xbf\\x9e\\xe7\\xbb\\xad \\xe4\\xb8\\x80\\xe4\\xb8\\xaa \\xe7\\xa4\\xbc\\xe6\\x8b\\x9c \\xe3\\x80\\x82 \\xe6\\x89\\x80\\xe4\\xbb\\xa5 \\xe9\\x82\\xa3\\xe5\\xa4\\xa9 \\xe6\\x98\\xaf \\xe6\\x9c\\x89\\xe7\\x82\\xb9 \\xe7\\x86\\xac\\xe4\\xb8\\x8d\\xe4\\xbd\\x8f \\xe4\\xba\\x86 \\xe3\\x80\\x82 \\xe2\\x80\\x9d \\xe4\\xb8\\x8d\\xe8\\xbf\\x87 \\xe4\\xbb\\x96 \\xe8\\xa1\\xa8\\xe7\\xa4\\xba \\xef\\xbc\\x8c \\xe2\\x80\\x9c \\xe8\\x83\\xbd \\xe6\\x8a\\x8a \\xe7\\x97\\x85\\xe4\\xba\\xba \\xe4\\xbb\\x8e \\xe6\\xad\\xbb\\xe4\\xba\\xa1\\xe7\\xba\\xbf \\xe4\\xb8\\x8a \\xe6\\x8b\\x89\\xe5\\x9b\\x9e\\xe6\\x9d\\xa5 \\xef\\xbc\\x8c \\xe5\\xb0\\xb1\\xe6\\x98\\xaf \\xe5\\x81\\x9a \\xe5\\x8c\\xbb\\xe7\\x94\\x9f \\xe6\\x9c\\x80\\xe5\\xa4\\xa7 \\xe7\\x9a\\x84 \\xe6\\x88\\x90\\xe5\\xb0\\xb1 \\xe3\\x80\\x82 \\xe2\\x80\\x9d \\xe4\\xba\\x91\\xe5\\x8d\\x97 \\xe7\\xbd\\x91 \\xe9\\x80\\x9a\\xe5\\xae\\xb5 \\xe6\\x89\\x8b\\xe6\\x9c\\xaf 6 \\xe5\\xb0\\x8f\\xe6\\x97\\xb6 \\xef\\xbc\\x8c \\xe4\\xba\\x91\\xe5\\x8d\\x97 \\xe4\\xb8\\x80 \\xe5\\x8c\\xbb\\xe9\\x99\\xa2 \\xe4\\xb8\\xa4 \\xe5\\x8c\\xbb\\xe7\\x94\\x9f \\xe7\\xb4\\xaf \\xe5\\xbe\\x97 \\xe5\\x9d\\x90\\xe5\\x9c\\xa8 \\xe6\\x89\\x8b\\xe6\\x9c\\xaf\\xe5\\xae\\xa4 \\xe5\\xa2\\x99\\xe8\\xa7\\x92 \\xe7\\x9d\\xa1\\xe7\\x9d\\x80'\n",
      " b'3 \\xe6\\x9c\\x88 30 \\xe6\\x97\\xa5 \\xef\\xbc\\x8c \\xe4\\xb8\\x9c\\xe5\\x8d\\x97 \\xe6\\x9f\\x90\\xe5\\x8e\\xbf \\xe7\\xbb\\x9f\\xe8\\xae\\xa1\\xe5\\xb1\\x80 \\xe4\\xb8\\x80\\xe5\\x90\\x8d \\xe5\\xb7\\xa5\\xe4\\xbd\\x9c\\xe4\\xba\\xba\\xe5\\x91\\x98 \\xe7\\xbb\\x99 \\xe6\\xaf\\x8f\\xe6\\x97\\xa5 \\xe7\\xbb\\x8f\\xe6\\xb5\\x8e \\xe6\\x96\\xb0\\xe9\\x97\\xbb\\xe8\\xae\\xb0\\xe8\\x80\\x85 \\xe6\\x89\\x93 \\xe6\\x9d\\xa5 \\xe7\\x94\\xb5\\xe8\\xaf\\x9d \\xe8\\xaf\\xb4 \\xef\\xbc\\x8c \\xe5\\x88\\x9a\\xe5\\x88\\x9a \\xe9\\xa2\\x86\\xe5\\xaf\\xbc \\xe6\\x8c\\x87\\xe7\\xa4\\xba \\xef\\xbc\\x8c \\xe8\\xa6\\x81\\xe6\\xb1\\x82 \\xe7\\xbb\\x9f\\xe8\\xae\\xa1\\xe6\\x95\\xb0\\xe6\\x8d\\xae \\xe7\\xbf\\xbb\\xe5\\x80\\x8d \\xe3\\x80\\x82 \\xe5\\xbd\\x93\\xe5\\xa4\\xa9 \\xe7\\x9c\\x81\\xe9\\x87\\x8c \\xe7\\x9b\\xb8\\xe5\\x85\\xb3 \\xe7\\xbb\\x9f\\xe8\\xae\\xa1 \\xe5\\xae\\x98\\xe5\\x91\\x98 \\xe5\\x8e\\xbb \\xe8\\xaf\\xa5\\xe5\\x8e\\xbf \\xe8\\xb0\\x83\\xe7\\xa0\\x94 \\xef\\xbc\\x8c \\xe6\\x8c\\x87\\xe5\\x87\\xba \\xe5\\xbd\\x93\\xe5\\x9c\\xb0 \\xe7\\x9a\\x84 \\xe7\\xbb\\x8f\\xe6\\xb5\\x8e \\xe6\\x95\\xb0\\xe6\\x8d\\xae \\xe6\\x8b\\x96 \\xe4\\xba\\x86 \\xe5\\xb8\\x82\\xe9\\x87\\x8c \\xe7\\x9a\\x84 \\xe5\\x90\\x8e\\xe8\\x85\\xbf \\xef\\xbc\\x8c \\xe5\\xb8\\x82\\xe9\\x87\\x8c \\xe8\\xa6\\x81\\xe6\\xb1\\x82 \\xe4\\xb8\\x80\\xe5\\xae\\x9a \\xe8\\xa6\\x81 \\xe4\\xba\\x89\\xe5\\x8f\\x96 \\xe7\\x9c\\x81\\xe9\\x87\\x8c \\xe9\\x9d\\xa0 \\xe5\\x89\\x8d \\xe7\\x9a\\x84 \\xe6\\x8e\\x92\\xe5\\x90\\x8d \\xe3\\x80\\x82 \\xe6\\x89\\x80\\xe4\\xbb\\xa5 \\xef\\xbc\\x8c \\xe9\\x80\\xa0\\xe5\\x81\\x87 \\xe6\\x98\\xaf \\xe4\\xb8\\x8d\\xe5\\xbe\\x97\\xe5\\xb7\\xb2\\xe8\\x80\\x8c\\xe4\\xb8\\xba\\xe4\\xb9\\x8b \\xef\\xbc\\x9f  '\n",
      " b'\\xe5\\x8f\\xb0\\xe6\\xb9\\xbe \\xe6\\x96\\xb9\\xe9\\x9d\\xa2 \\xe9\\xa2\\x86\\xe5\\xaf\\xbc\\xe4\\xba\\xba \\xe9\\xa9\\xac\\xe8\\x8b\\xb1\\xe4\\xb9\\x9d \\xe4\\xbb\\x8a\\xe6\\x97\\xa5 \\xe5\\x9c\\xa8 \\xe5\\x8f\\xb0\\xe5\\x8c\\x97 \\xe9\\xa6\\x96\\xe5\\xba\\xa6 \\xe5\\x9b\\x9e\\xe5\\xba\\x94 \\xe5\\xb0\\x86 \\xe4\\xb8\\x8e \\xe4\\xb9\\xa0\\xe8\\xbf\\x91\\xe5\\xb9\\xb3 \\xe8\\xa7\\x81\\xe9\\x9d\\xa2 \\xef\\xbc\\x8c \\xe7\\xa7\\xb0 \\xe6\\x9c\\xaa\\xe6\\x9d\\xa5 \\xe6\\x97\\xb6\\xe6\\x9c\\xba\\xe6\\x88\\x90\\xe7\\x86\\x9f \\xe6\\x97\\xb6 \\xef\\xbc\\x8c \\xe4\\xb8\\x8d \\xe6\\x8e\\x92\\xe9\\x99\\xa4 \\xe9\\x82\\x80\\xe8\\xaf\\xb7 \\xe5\\xa4\\xa7\\xe9\\x99\\x86 \\xe9\\xa2\\x86\\xe5\\xaf\\xbc\\xe4\\xba\\xba \\xe8\\xae\\xbf\\xe5\\x8f\\xb0 \\xef\\xbc\\x8c \\xe4\\xb8\\xbe\\xe8\\xa1\\x8c \\xe4\\xb8\\xa4\\xe5\\xb2\\xb8 \\xe9\\xa2\\x86\\xe5\\xaf\\xbc\\xe4\\xba\\xba \\xe4\\xbc\\x9a\\xe9\\x9d\\xa2 \\xe6\\x98\\xaf \\xe4\\xb8\\xba \\xe4\\xb8\\x8b\\xe4\\xb8\\x80\\xe4\\xbb\\xa3 \\xe5\\xb9\\xb8\\xe7\\xa6\\x8f \\xe3\\x80\\x82 \\xef\\xbc\\x88 \\xe4\\xb8\\xad\\xe6\\x96\\xb0\\xe7\\xbd\\x91 \\xef\\xbc\\x89 \\xe9\\xa9\\xac\\xe8\\x8b\\xb1\\xe4\\xb9\\x9d \\xef\\xbc\\x9a \\xe6\\x97\\xb6\\xe6\\x9c\\xba\\xe6\\x88\\x90\\xe7\\x86\\x9f \\xe6\\x97\\xb6 \\xe4\\xb8\\x8d \\xe6\\x8e\\x92\\xe9\\x99\\xa4 \\xe9\\x82\\x80\\xe8\\xaf\\xb7 \\xe5\\xa4\\xa7\\xe9\\x99\\x86 \\xe9\\xa2\\x86\\xe5\\xaf\\xbc\\xe4\\xba\\xba \\xe8\\xae\\xbf\\xe5\\x8f\\xb0  '\n",
      " b'\\xe8\\xbf\\x91\\xe6\\x97\\xa5 \\xef\\xbc\\x8c \\xe7\\xbd\\x91\\xe4\\xbc\\xa0 \\xe4\\xb8\\x80\\xe7\\xaf\\x87 \\xe9\\xa2\\x98\\xe4\\xb8\\xba \\xe3\\x80\\x8a \\xe8\\x80\\x81\\xe5\\xa4\\x96 \\xe5\\x90\\x90\\xe6\\xa7\\xbd \\xe5\\xa8\\xb6 \\xe4\\xb8\\xad\\xe5\\x9b\\xbd \\xe8\\x80\\x81\\xe5\\xa9\\x86 \\xe7\\x9a\\x84 \\xe4\\xb8\\x8b\\xe5\\x9c\\xba \\xe3\\x80\\x8b \\xe5\\x8d\\x9a\\xe6\\x96\\x87 \\xe5\\xbc\\x95\\xe5\\x8f\\x91 \\xe4\\xba\\x86 \\xe4\\xb8\\x8d\\xe5\\xb0\\x91 \\xe7\\xbd\\x91\\xe5\\x8f\\x8b \\xe7\\x9a\\x84 \\xe5\\x9b\\xb4\\xe8\\xa7\\x82 \\xef\\xbc\\x8c \\xe5\\x8d\\x9a\\xe6\\x96\\x87 \\xe4\\xb8\\xad \\xe9\\x80\\x8f\\xe9\\x9c\\xb2 \\xe2\\x80\\x9c \\xe5\\xa8\\xb6 \\xe4\\xb8\\xaa \\xe4\\xb8\\xad\\xe5\\x9b\\xbd \\xe8\\x80\\x81\\xe5\\xa9\\x86 \\xe7\\xad\\x89\\xe4\\xba\\x8e \\xe5\\xa8\\xb6 \\xe4\\xba\\x86 \\xe4\\xb8\\x80\\xe5\\xae\\xb6\\xe4\\xba\\xba \\xe2\\x80\\x9d \\xe3\\x80\\x81 \\xe2\\x80\\x9c \\xe6\\x88\\x91 \\xe8\\xa2\\xab \\xe5\\xa5\\xb9 \\xe6\\x94\\xb9\\xe9\\x80\\xa0 \\xe5\\xbe\\x97 \\xe6\\xb2\\xa1\\xe6\\x9c\\x89 \\xe4\\xb8\\xaa\\xe4\\xba\\xba \\xe6\\x97\\xb6\\xe9\\x97\\xb4 \\xe2\\x80\\x9d \\xe3\\x80\\x81 \\xe2\\x80\\x9c \\xe4\\xb8\\xad\\xe5\\x9b\\xbd \\xe4\\xba\\xba \\xe5\\x95\\xa5 \\xe9\\x83\\xbd \\xe6\\x95\\xa2 \\xe5\\x90\\x83 \\xe2\\x80\\x9d \\xe7\\xad\\x89 \\xe5\\xa9\\x9a\\xe5\\xa7\\xbb \\xe5\\xb8\\xa6\\xe6\\x9d\\xa5 \\xe7\\x9a\\x84 \\xe5\\x85\\xad\\xe5\\xa4\\xa7 \\xe7\\x94\\x9f\\xe6\\xb4\\xbb \\xe7\\xbb\\x8f\\xe5\\x8e\\x86 \\xe3\\x80\\x82 \\xef\\xbc\\x9a  '\n",
      " b'\\xe6\\x9c\\xac\\xe6\\x8a\\xa5 \\xe6\\x8a\\xa5\\xe9\\x81\\x93 \\xef\\xbc\\x8c \\xe5\\xa5\\xb6\\xe5\\x88\\xb6\\xe5\\x93\\x81 \\xe5\\x86\\x8d\\xe4\\xbc\\xa0 \\xe2\\x80\\x9c \\xe6\\xb6\\xa8 \\xe2\\x80\\x9d \\xe5\\xa3\\xb0 \\xef\\xbc\\x8c 2 \\xe6\\x9c\\x88 1 \\xe6\\x97\\xa5\\xe8\\xb5\\xb7 \\xe5\\x85\\x89\\xe6\\x98\\x8e \\xe5\\x85\\xa5\\xe6\\x88\\xb7 \\xe5\\xa5\\xb6 \\xe7\\x9a\\x84 \\xe8\\xae\\xa2\\xe4\\xbb\\xb7 \\xe5\\xb0\\x86 \\xe6\\x8f\\x90\\xe9\\xab\\x98 \\xe3\\x80\\x82 \\xe6\\xad\\xa4\\xe6\\xac\\xa1 \\xe4\\xb8\\x8a\\xe8\\xb0\\x83 \\xe4\\xbb\\xb7\\xe6\\xa0\\xbc \\xe5\\x87\\xa0\\xe4\\xb9\\x8e \\xe6\\xb6\\x89\\xe5\\x8f\\x8a \\xe5\\x88\\xb0 \\xe9\\xb2\\x9c\\xe5\\xa5\\xb6 \\xe5\\x92\\x8c \\xe9\\x85\\xb8\\xe5\\xa5\\xb6 \\xe5\\x85\\xa8\\xe7\\xba\\xbf\\xe4\\xba\\xa7\\xe5\\x93\\x81 \\xef\\xbc\\x8c \\xe5\\xb0\\x8f \\xe7\\x9b\\x92\\xe8\\xa3\\x85 \\xe7\\x9a\\x84 \\xe4\\xbb\\xa5 \\xe4\\xb8\\x8a\\xe6\\xb6\\xa8 0.3 \\xe5\\x85\\x83 / \\xe7\\x9b\\x92 \\xe4\\xb8\\xba\\xe4\\xb8\\xbb \\xef\\xbc\\x8c \\xe5\\xa4\\xa7 \\xe7\\x9b\\x92\\xe8\\xa3\\x85 \\xe7\\x9a\\x84 \\xe6\\xb6\\xa8 1 - 2 \\xe5\\x85\\x83 / \\xe7\\x9b\\x92 \\xe3\\x80\\x82 \\xe4\\xbd\\x86 \\xe5\\xae\\xb6\\xe4\\xb9\\x90\\xe7\\xa6\\x8f \\xe3\\x80\\x81 \\xe6\\xb2\\x83\\xe5\\xb0\\x94\\xe7\\x8e\\x9b \\xe7\\xad\\x89 \\xe8\\xb6\\x85\\xe5\\xb8\\x82 \\xe6\\x98\\xa8\\xe7\\xa7\\xb0 \\xef\\xbc\\x8c \\xe7\\x9b\\xae\\xe5\\x89\\x8d \\xe6\\x9a\\x82\\xe6\\x97\\xb6 \\xe8\\xbf\\x98 \\xe6\\xb2\\xa1\\xe6\\x9c\\x89 \\xe6\\x8e\\xa5\\xe5\\x88\\xb0 \\xe5\\xa5\\xb6\\xe5\\x88\\xb6\\xe5\\x93\\x81 \\xe7\\x9a\\x84 \\xe6\\x8f\\x90\\xe4\\xbb\\xb7 \\xe9\\x80\\x9a\\xe7\\x9f\\xa5 \\xe3\\x80\\x82  '], shape=(5,), dtype=string)\n",
      "\n",
      "tf.Tensor(\n",
      "[b'\\xe9\\x80\\x9a\\xe5\\xae\\xb5 \\xe6\\x89\\x8b\\xe6\\x9c\\xaf 6 \\xe5\\xb0\\x8f\\xe6\\x97\\xb6 \\xef\\xbc\\x8c \\xe4\\xba\\x91\\xe5\\x8d\\x97 \\xe4\\xb8\\x80 \\xe5\\x8c\\xbb\\xe9\\x99\\xa2 \\xe4\\xb8\\xa4 \\xe5\\x8c\\xbb\\xe7\\x94\\x9f \\xe7\\xb4\\xaf \\xe5\\xbe\\x97 \\xe5\\x9d\\x90\\xe5\\x9c\\xa8 \\xe6\\x89\\x8b\\xe6\\x9c\\xaf\\xe5\\xae\\xa4 \\xe5\\xa2\\x99\\xe8\\xa7\\x92 \\xe7\\x9d\\xa1\\xe7\\x9d\\x80'\n",
      " b'\\xe6\\x95\\xb0\\xe6\\x8d\\xae \\xe9\\x80\\xa0\\xe5\\x81\\x87   \\xe7\\xbb\\x9f\\xe8\\xae\\xa1\\xe5\\xb1\\x80 \\xe8\\xaf\\xb4 \\xef\\xbc\\x9a \\xe6\\x88\\x91 \\xe4\\xb9\\x9f \\xe6\\x9c\\x89 \\xe8\\x8b\\xa6\\xe8\\xa1\\xb7'\n",
      " b'\\xe9\\xa9\\xac\\xe8\\x8b\\xb1\\xe4\\xb9\\x9d \\xef\\xbc\\x9a \\xe6\\x97\\xb6\\xe6\\x9c\\xba\\xe6\\x88\\x90\\xe7\\x86\\x9f \\xe6\\x97\\xb6 \\xe4\\xb8\\x8d \\xe6\\x8e\\x92\\xe9\\x99\\xa4 \\xe9\\x82\\x80\\xe8\\xaf\\xb7 \\xe5\\xa4\\xa7\\xe9\\x99\\x86 \\xe9\\xa2\\x86\\xe5\\xaf\\xbc\\xe4\\xba\\xba \\xe8\\xae\\xbf\\xe5\\x8f\\xb0'\n",
      " b'\\xe8\\x80\\x81\\xe5\\xa4\\x96 \\xe5\\x90\\x90\\xe6\\xa7\\xbd \\xe4\\xb8\\xad\\xe5\\x9b\\xbd \\xe5\\xa4\\xaa\\xe5\\xa4\\xaa \\xef\\xbc\\x9a \\xe5\\xa8\\xb6 \\xe4\\xb8\\xaa \\xe4\\xb8\\xad\\xe5\\x9b\\xbd \\xe8\\x80\\x81\\xe5\\xa9\\x86 \\xe7\\xad\\x89\\xe4\\xba\\x8e \\xe5\\xa8\\xb6 \\xe4\\xba\\x86 \\xe4\\xb8\\x80\\xe5\\xae\\xb6\\xe4\\xba\\xba'\n",
      " b'\\xe5\\x85\\x89\\xe6\\x98\\x8e \\xe5\\x85\\xa5\\xe6\\x88\\xb7 \\xe5\\xa5\\xb6\\xe5\\x86\\x8d \\xe6\\x8f\\x90\\xe4\\xbb\\xb7 \\xef\\xbc\\x8c \\xe5\\x85\\xa8\\xe7\\xba\\xbf\\xe4\\xba\\xa7\\xe5\\x93\\x81 \\xe4\\xb8\\x8b \\xe6\\x9c\\x88 \\xe8\\xb5\\xb7 \\xe6\\x89\\xa7\\xe8\\xa1\\x8c \\xe6\\x96\\xb0 \\xe4\\xbb\\xb7\\xe6\\xa0\\xbc'], shape=(5,), dtype=string)\n"
     ]
    }
   ],
   "source": [
    "for example_input_batch, example_target_batch in dataset.take(1):\n",
    "    print(example_input_batch[:5])\n",
    "    print()\n",
    "    print(example_target_batch[:5])\n",
    "    break"
   ]
  },
  {
   "cell_type": "code",
   "execution_count": 15,
   "metadata": {},
   "outputs": [
    {
     "name": "stdout",
     "output_type": "stream",
     "text": [
      "开场 8 分钟 ， 博阿滕为 德国队 首开纪录 ， 此后 戈麦斯 和 德 拉克斯 勒 又 各进 一球 ， 德国 战车 3 : 0 轻松 胜 斯洛伐克 。 德国队 1 / 4 决赛 对手 将 在 意大利 与 西班牙 之间 产生 。   秒 拍 视频   .  \n",
      "\n",
      "德国 3 : 0 斯洛伐克\n"
     ]
    }
   ],
   "source": [
    "for example_input_batch, example_target_batch in dataset.take(1):\n",
    "    print(example_input_batch[:5].numpy()[0].decode(\"utf-8\"))\n",
    "    print()\n",
    "    print(example_target_batch[:5].numpy()[0].decode(\"utf-8\"))\n",
    "    break"
   ]
  },
  {
   "cell_type": "markdown",
   "metadata": {
    "id": "zCoxLcuN3bwv"
   },
   "source": [
    "### 文本预处理"
   ]
  },
  {
   "cell_type": "markdown",
   "metadata": {
    "id": "7kwdPcHvzz_a"
   },
   "source": [
    "我们希望整个模型可以被 `tf.saved_model` 导出。为了能够导出模型，我们的输入应该是 `tf.string`，输出也是 `tf.string`。并且所有的预处理都能够在模型中处理。"
   ]
  },
  {
   "cell_type": "markdown",
   "metadata": {
    "id": "EOQ5n55X4uDB"
   },
   "source": [
    "#### 标准化"
   ]
  },
  {
   "cell_type": "markdown",
   "metadata": {
    "id": "upKhKAMK4zzI"
   },
   "source": [
    "模型应该是能够处理多语言的文本，所以我们应该先对文本进行标准化(standardize)\n",
    "\n",
    "使用 Unicode normalization 切割一些语言的发音符号和使用等价的 ASCII 替换复杂的字符。\n",
    "\n",
    "`tensroflow_text` 中包含了 unicode normalize 的操作:"
   ]
  },
  {
   "cell_type": "code",
   "execution_count": 16,
   "metadata": {
    "id": "mD0e-DWGQ2Vo",
    "tags": []
   },
   "outputs": [
    {
     "name": "stdout",
     "output_type": "stream",
     "text": [
      "b'\\xe6\\x88\\x91\\xe7\\x88\\xb1 \\xe5\\x8c\\x97\\xe4\\xba\\xac \\xe5\\xa4\\xa9\\xe5\\xae\\x89\\xe9\\x97\\xa8'\n",
      "b'\\xe6\\x88\\x91\\xe7\\x88\\xb1 \\xe5\\x8c\\x97\\xe4\\xba\\xac \\xe5\\xa4\\xa9\\xe5\\xae\\x89\\xe9\\x97\\xa8'\n"
     ]
    }
   ],
   "source": [
    "example_text = tf.constant(\"我爱 北京 天安门\")\n",
    "\n",
    "print(example_text.numpy())\n",
    "print(tf_text.normalize_utf8(example_text, \"NFKD\").numpy())"
   ]
  },
  {
   "cell_type": "markdown",
   "metadata": {
    "id": "6hTllEjK6RSo"
   },
   "source": [
    "Unicode 标准化会是文本标准化的第一步:"
   ]
  },
  {
   "cell_type": "code",
   "execution_count": 17,
   "metadata": {
    "id": "chTF5N885F0P",
    "tags": []
   },
   "outputs": [],
   "source": [
    "def preprocess(text):\n",
    "    # Split accecented characters.\n",
    "    text = tf_text.normalize_utf8(text, \"NFKD\")\n",
    "    # text = tf.strings.lower(text)\n",
    "    # Keep space, a to z, and select punctuation. 英文使用\n",
    "    # text = tf.strings.regex_replace(text, \"[^ a-z.?!,¿]\", \"\")\n",
    "    # Add spaces around punctuation.\n",
    "    # text = tf.strings.regex_replace(text, \"[.?!,¿]\", r\" \\0 \")\n",
    "    # Strip whitespace.\n",
    "    text = tf.strings.strip(text)\n",
    "    text = tf.strings.join([\"[START]\", text, \"[END]\"], separator=\" \")\n",
    "    return text"
   ]
  },
  {
   "cell_type": "code",
   "execution_count": 18,
   "metadata": {
    "id": "UREvDg3sEKYa",
    "tags": []
   },
   "outputs": [
    {
     "name": "stdout",
     "output_type": "stream",
     "text": [
      "我爱 北京 天安门\n",
      "[START] 我爱 北京 天安门 [END]\n"
     ]
    }
   ],
   "source": [
    "print(example_text.numpy().decode())\n",
    "print(preprocess(example_text).numpy().decode())"
   ]
  },
  {
   "cell_type": "markdown",
   "metadata": {
    "id": "4q-sKsSI7xRZ"
   },
   "source": [
    "#### 文本向量化"
   ]
  },
  {
   "cell_type": "markdown",
   "metadata": {
    "id": "6aKn8qd37abi"
   },
   "source": [
    "文本向量化的操作被封装在 [`preprocessing.TextVectorization`](https://keras.io/guides/preprocessing_layers/) layer 中，这层会从词典中抽取 token 并且把所有的文本转化成一个 token 的序列。\n",
    "\n",
    "`TextVectorization` 和很多其他的 `experimental.preprocessing` 层都有一个 `adapt` 方法。这个方法能够读取一个 epoch 的训练数据，并且处理这些数据。这种行为有点像是 `Model.fit`.\n",
    "\n",
    ">Working with lookup layers with very large vocabularies\n",
    "You may find yourself working with a very large vocabulary in a TextVectorization, a StringLookup layer, or an IntegerLookup layer. Typically, a vocabulary larger than 500MB would be considered \"very large\".\n",
    "\n",
    ">In such case, for best performance, you should avoid using adapt(). Instead, pre-compute your vocabulary in advance (you could use Apache Beam or TF Transform for this) and store it in a file. Then load the vocabulary into the layer at construction time by passing the filepath as the vocabulary argument."
   ]
  },
  {
   "cell_type": "code",
   "execution_count": 19,
   "metadata": {
    "id": "eAY9k49G3jE_",
    "tags": []
   },
   "outputs": [],
   "source": [
    "text_processor = preprocessing.TextVectorization(\n",
    "    standardize=preprocess, max_tokens=5000\n",
    ")"
   ]
  },
  {
   "cell_type": "code",
   "execution_count": 20,
   "metadata": {},
   "outputs": [],
   "source": [
    "# Take much time\n",
    "text_processor.adapt(inp + targ)"
   ]
  },
  {
   "cell_type": "code",
   "execution_count": 21,
   "metadata": {},
   "outputs": [
    {
     "data": {
      "text/plain": [
       "['', '[UNK]', ',', '的', '。', '[START]', '[END]', '“', '”', '、']"
      ]
     },
     "execution_count": 21,
     "metadata": {},
     "output_type": "execute_result"
    }
   ],
   "source": [
    "# Here are the first 10 words from the vocabulary:\n",
    "text_processor.get_vocabulary()[:10]"
   ]
  },
  {
   "cell_type": "markdown",
   "metadata": {
    "id": "BWQqlP_s9eIv"
   },
   "source": [
    "现在这些层可以把一些列的字符串转换成 token 的 IDs:"
   ]
  },
  {
   "cell_type": "code",
   "execution_count": 22,
   "metadata": {
    "id": "9KZxj8IrNZ9S",
    "tags": []
   },
   "outputs": [
    {
     "data": {
      "text/plain": [
       "<tf.Tensor: shape=(3, 10), dtype=int64, numpy=\n",
       "array([[   5,    1,   79,  326,    2,    1,    1,    1,    2, 4060],\n",
       "       [   5,    1,   42,  828,    1,    2, 2654,    1,  155, 1803],\n",
       "       [   5,    1, 3055,    1,  222,    1,    9,    1,    7,    1]])>"
      ]
     },
     "execution_count": 22,
     "metadata": {},
     "output_type": "execute_result"
    }
   ],
   "source": [
    "example_tokens = text_processor(example_input_batch)\n",
    "example_tokens[:3, :10]"
   ]
  },
  {
   "cell_type": "markdown",
   "metadata": {
    "id": "AA9rUn9G9n78"
   },
   "source": [
    "`get_vocabulary` 方法可以把 IDs 再转换成文本:"
   ]
  },
  {
   "cell_type": "code",
   "execution_count": 23,
   "metadata": {
    "id": "98g9rcxGQY0I",
    "tags": []
   },
   "outputs": [
    {
     "data": {
      "text/plain": [
       "'[START] [UNK] 8 分钟 , [UNK] [UNK] [UNK] , 此后 [UNK] 和 德 [UNK] [UNK] 又 [UNK] [UNK] , 德国 [UNK] 3 : 0 轻松 [UNK] [UNK] 。 [UNK] 1 / 4 决赛 对手 将 在 意大利 与 西班牙 之间 产生 。 秒 拍 视频 . [END]                                                                           '"
      ]
     },
     "execution_count": 23,
     "metadata": {},
     "output_type": "execute_result"
    }
   ],
   "source": [
    "vocab = np.array(text_processor.get_vocabulary())\n",
    "tokens = vocab[example_tokens[0].numpy()]\n",
    "\" \".join(tokens)"
   ]
  },
  {
   "cell_type": "markdown",
   "metadata": {
    "id": "Ot0aCL9t-Ghi"
   },
   "source": [
    "这些返回的的 token IDs 被使用 0 进行了 pad, 我们可以很轻松的把它们转化成掩码的形式:"
   ]
  },
  {
   "cell_type": "code",
   "execution_count": 24,
   "metadata": {
    "id": "_jx4Or_eFRSz",
    "tags": []
   },
   "outputs": [
    {
     "data": {
      "text/plain": [
       "Text(0.5, 1.0, 'Mask')"
      ]
     },
     "execution_count": 24,
     "metadata": {},
     "output_type": "execute_result"
    },
    {
     "name": "stderr",
     "output_type": "stream",
     "text": [
      "findfont: Font family ['sans-serif'] not found. Falling back to DejaVu Sans.\n",
      "findfont: Font family ['sans-serif'] not found. Falling back to DejaVu Sans.\n"
     ]
    },
    {
     "data": {
      "image/png": "[encoded data removed]",
      "text/plain": [
       "<Figure size 432x288 with 2 Axes>"
      ]
     },
     "metadata": {
      "needs_background": "light"
     },
     "output_type": "display_data"
    }
   ],
   "source": [
    "plt.subplot(1, 2, 1)\n",
    "plt.pcolormesh(example_tokens)\n",
    "plt.title(\"Token IDs\")\n",
    "\n",
    "plt.subplot(1, 2, 2)\n",
    "plt.pcolormesh(example_tokens != 0)\n",
    "plt.title(\"Mask\")"
   ]
  },
  {
   "cell_type": "markdown",
   "metadata": {
    "id": "TNfHIF71ulLu"
   },
   "source": [
    "## Encoder/Decoder 模型\n",
    "\n",
    "下面的图展示的是模型的概览。在每一个时间步 decoder 的输出都要和 encoder 的输出进行加权求和的操作，用来计算注意力。这张图出自 [Luong's paper](https://arxiv.org/abs/1508.04025v5).\n",
    "\n",
    "<img src=\"https://www.tensorflow.org/images/seq2seq/attention_mechanism.jpg\" width=\"500\" alt=\"attention mechanism\">\n"
   ]
  },
  {
   "cell_type": "markdown",
   "metadata": {
    "id": "gzQWx2saImMV"
   },
   "source": [
    "在开始定义模型之前，我们先来定义一些模型的超参数:"
   ]
  },
  {
   "cell_type": "code",
   "execution_count": 25,
   "metadata": {
    "id": "_a9uNz3-IrF-",
    "tags": []
   },
   "outputs": [],
   "source": [
    "embedding_dim = 256\n",
    "units = 1024"
   ]
  },
  {
   "cell_type": "markdown",
   "metadata": {
    "id": "blNgVbLSzpsr"
   },
   "source": [
    "### Encoder\n",
    "\n",
    "开始定义 Encoder，上图中蓝色的部分。\n",
    "\n",
    "Encoder 流程:\n",
    "\n",
    "1. 获取一个 token IDs 的列表 (从 `text_processor`).\n",
    "3. Look up 每个 token 的 embedding 向量(使用`layers.Embedding`).\n",
    "4. 把这些 embedding 转换成一个新的序列 (使用 `layers.GRU`).\n",
    "5. 返回:\n",
    "  * 处理过的序列，这会被传递给 attention head 用来计算注意力\n",
    "  * 内部状态，这会用来初始化 decoder\n"
   ]
  },
  {
   "cell_type": "code",
   "execution_count": 26,
   "metadata": {
    "id": "nZ2rI24i3jFg",
    "tags": []
   },
   "outputs": [],
   "source": [
    "class Encoder(tf.keras.layers.Layer):\n",
    "    def __init__(self, input_vocab_size, embedding_dim, enc_units):\n",
    "        super(Encoder, self).__init__()\n",
    "        self.enc_units = enc_units\n",
    "        self.input_vocab_size = input_vocab_size\n",
    "\n",
    "        # The embedding layer converts tokens to vectors\n",
    "        self.embedding = tf.keras.layers.Embedding(self.input_vocab_size, embedding_dim)\n",
    "\n",
    "        # The GRU RNN layer processes those vectors sequentially.\n",
    "        self.gru = tf.keras.layers.GRU(\n",
    "            self.enc_units,\n",
    "            # Return the sequence and state\n",
    "            return_sequences=True,\n",
    "            return_state=True,\n",
    "            recurrent_initializer=\"glorot_uniform\",\n",
    "        )\n",
    "\n",
    "    def call(self, tokens, state=None):\n",
    "        shape_checker = ShapeChecker()\n",
    "        shape_checker(tokens, (\"batch\", \"s\"))\n",
    "\n",
    "        # 2. The embedding layer looks up the embedding for each token.\n",
    "        vectors = self.embedding(tokens)\n",
    "        shape_checker(vectors, (\"batch\", \"s\", \"embed_dim\"))\n",
    "\n",
    "        # 3. The GRU processes the embedding sequence.\n",
    "        #    output shape: (batch, s, enc_units)\n",
    "        #    state shape: (batch, enc_units)\n",
    "        output, state = self.gru(vectors, initial_state=state)\n",
    "        shape_checker(output, (\"batch\", \"s\", \"enc_units\"))\n",
    "        shape_checker(state, (\"batch\", \"enc_units\"))\n",
    "\n",
    "        # 4. Returns the new sequence and its state.\n",
    "        return output, state"
   ]
  },
  {
   "cell_type": "markdown",
   "metadata": {
    "id": "D3SKkaQeGn-Q"
   },
   "source": [
    "我们把到目前为止的过程串起来:"
   ]
  },
  {
   "cell_type": "code",
   "execution_count": 27,
   "metadata": {
    "id": "60gSVh05Jl6l",
    "tags": []
   },
   "outputs": [
    {
     "name": "stdout",
     "output_type": "stream",
     "text": [
      "Input batch, shape (batch): (64,)\n",
      "Input batch tokens, shape (batch, s): (64, 122)\n",
      "Encoder output, shape (batch, s, units): (64, 122, 1024)\n",
      "Encoder state, shape (batch, units): (64, 1024)\n"
     ]
    }
   ],
   "source": [
    "# Convert the input text to tokens.\n",
    "example_tokens = text_processor(example_input_batch)\n",
    "\n",
    "# Encode the input sequence.\n",
    "encoder = Encoder(text_processor.vocabulary_size(), embedding_dim, units)\n",
    "example_enc_output, example_enc_state = encoder(example_tokens)\n",
    "\n",
    "print(f\"Input batch, shape (batch): {example_input_batch.shape}\")\n",
    "print(f\"Input batch tokens, shape (batch, s): {example_tokens.shape}\")\n",
    "print(f\"Encoder output, shape (batch, s, units): {example_enc_output.shape}\")\n",
    "print(f\"Encoder state, shape (batch, units): {example_enc_state.shape}\")"
   ]
  },
  {
   "cell_type": "markdown",
   "metadata": {
    "id": "2RIPHh4O9ixB"
   },
   "source": [
    "Encoder 返回它的中间状态值，这个值用来初始化 Decoder。\n",
    "\n",
    "我们通常也会多次调用 RNN 返回它的中间状态来处理一个序列。在 Decoder 的部分可以看到这样的使用方式。"
   ]
  },
  {
   "cell_type": "markdown",
   "metadata": {
    "id": "45xM_Gl1MgXY"
   },
   "source": [
    "### Attention head\n",
    "\n",
    "Decoder 使用 attention 来选择把注意力放到输入的哪个部分上。\n",
    "\n",
    "对于每一个样本，注意力把一个序列的向量作为输入，返回一个 \"attention\" 向量。这个 attention 层类似于 `layers.GlobalAveragePoling1D`，但是 attention 层执行的是 _weighted_ average\n",
    "\n",
    "让我们看看它是怎么计算的:\n",
    "\n",
    "<img src=\"https://www.tensorflow.org/text/tutorials/images/attention_equation_1.jpg\" alt=\"attention equation 1\" width=\"800\">\n",
    "\n",
    "<img src=\"https://www.tensorflow.org/text/tutorials/images/attention_equation_2.jpg\" alt=\"attention equation 2\" width=\"800\">"
   ]
  },
  {
   "cell_type": "markdown",
   "metadata": {
    "id": "NX2JsKzzzgZ5"
   },
   "source": [
    "符号:\n",
    "\n",
    "* $s$ 是 encoder 索引.\n",
    "* $t$ 是 decoder 索引.\n",
    "* $\\alpha_{ts}$ 是 attention weights.\n",
    "* $h_s$ 是 encoder 序列的输出 (the attention \"key\" and \"value\" in transformer terminology).\n",
    "* $h_t$ 是 decoder 状态 (the attention \"query\" in transformer terminology).\n",
    "* $c_t$ 是 context 向量的计算结果.\n",
    "* $a_t$ 是 最终的输出结合 the \"context\" and \"query\".\n",
    "\n",
    "计算公式:\n",
    "\n",
    "1. 计算注意力权重, $\\alpha_{ts}$, 使用 softmax 应用在 encoder 的输出上.\n",
    "2. 使用 weighted sum 计算上下文向量综合 encoder 的输出.\n"
   ]
  },
  {
   "cell_type": "markdown",
   "metadata": {
    "id": "fNA5GeHHPsGL"
   },
   "source": [
    "最后是 $score$ 函数. 它的工作是对于每个 key-query 计算它们的 logit-score 标量。 主要有两种方式: \n",
    "\n",
    "<img src=\"https://www.tensorflow.org/text/tutorials/images/attention_equation_4.jpg\" alt=\"attention equation 4\" width=\"800\">\n",
    "\n",
    "This tutorial uses [Bahdanau's additive attention](https://arxiv.org/pdf/1409.0473.pdf). TensorFlow 实现了  `layers.Attention` and `layers.AdditiveAttention`. 下面类的实现使用权重矩阵在 `layers.Dense` 层，然后使用了 `layers.AdditiveAttention` 完成 attention 的计算。"
   ]
  },
  {
   "cell_type": "code",
   "execution_count": 28,
   "metadata": {
    "id": "momiE59lXo6U",
    "tags": []
   },
   "outputs": [],
   "source": [
    "class BahdanauAttention(tf.keras.layers.Layer):\n",
    "    def __init__(self, units):\n",
    "        super().__init__()\n",
    "        # For Eqn. (4), the  Bahdanau attention\n",
    "        self.W1 = tf.keras.layers.Dense(units, use_bias=False)\n",
    "        self.W2 = tf.keras.layers.Dense(units, use_bias=False)\n",
    "\n",
    "        self.attention = tf.keras.layers.AdditiveAttention()\n",
    "\n",
    "    def call(self, query, value, mask):\n",
    "        shape_checker = ShapeChecker()\n",
    "        shape_checker(query, (\"batch\", \"t\", \"query_units\"))\n",
    "        shape_checker(value, (\"batch\", \"s\", \"value_units\"))\n",
    "        shape_checker(mask, (\"batch\", \"s\"))\n",
    "\n",
    "        # From Eqn. (4), `W1@ht`.\n",
    "        w1_query = self.W1(query)\n",
    "        shape_checker(w1_query, (\"batch\", \"t\", \"attn_units\"))\n",
    "\n",
    "        # From Eqn. (4), `W2@hs`.\n",
    "        w2_key = self.W2(value)\n",
    "        shape_checker(w2_key, (\"batch\", \"s\", \"attn_units\"))\n",
    "\n",
    "        query_mask = tf.ones(tf.shape(query)[:-1], dtype=bool)\n",
    "        value_mask = mask\n",
    "\n",
    "        context_vector, attention_weights = self.attention(\n",
    "            inputs=[w1_query, value, w2_key],\n",
    "            mask=[query_mask, value_mask],\n",
    "            return_attention_scores=True,\n",
    "        )\n",
    "        shape_checker(context_vector, (\"batch\", \"t\", \"value_units\"))\n",
    "        shape_checker(attention_weights, (\"batch\", \"t\", \"s\"))\n",
    "\n",
    "        return context_vector, attention_weights"
   ]
  },
  {
   "cell_type": "markdown",
   "metadata": {
    "id": "Cf13LubPGjDO"
   },
   "source": [
    "### 测试 Attention 层\n",
    "\n",
    "创建 `BahdanauAttention` 层:"
   ]
  },
  {
   "cell_type": "code",
   "execution_count": 29,
   "metadata": {
    "id": "t4QMlOp8Gidh",
    "tags": []
   },
   "outputs": [],
   "source": [
    "attention_layer = BahdanauAttention(units)"
   ]
  },
  {
   "cell_type": "markdown",
   "metadata": {
    "id": "snA1uL9AI-JE"
   },
   "source": [
    "这层包含 3 个输入:\n",
    "\n",
    "* `query`: 这个是从解码器生成的\n",
    "* `value`: 这个是编码器的输出\n",
    "* `mask`: 用来掩盖掉 padding 的部分 `example_tokens != 0`"
   ]
  },
  {
   "cell_type": "code",
   "execution_count": 30,
   "metadata": {
    "id": "DYSHqmORgVFo",
    "tags": []
   },
   "outputs": [
    {
     "data": {
      "text/plain": [
       "TensorShape([64, 122])"
      ]
     },
     "execution_count": 30,
     "metadata": {},
     "output_type": "execute_result"
    }
   ],
   "source": [
    "(example_tokens != 0).shape"
   ]
  },
  {
   "cell_type": "markdown",
   "metadata": {
    "id": "g2bmvT25pXnr"
   },
   "source": [
    "向量化实现的 attention 层能够让你把一个 batch 序列的 query 和 value，同时进行计算:\n",
    "\n",
    "1. batch 的 query\n",
    "2. batch 的 attention map `(query_length, value_length)`."
   ]
  },
  {
   "cell_type": "code",
   "execution_count": 31,
   "metadata": {
    "id": "7y7hjPkNMmHh",
    "tags": []
   },
   "outputs": [
    {
     "name": "stdout",
     "output_type": "stream",
     "text": [
      "Attention result shape: (batch_size, query_seq_length, units):           (64, 2, 1024)\n",
      "Attention weights shape: (batch_size, query_seq_length, value_seq_length): (64, 2, 122)\n"
     ]
    }
   ],
   "source": [
    "# Later, the decoder will generate this attention query\n",
    "example_attention_query = tf.random.normal(shape=[len(example_tokens), 2, 10])\n",
    "\n",
    "# Attend to the encoded tokens\n",
    "\n",
    "context_vector, attention_weights = attention_layer(\n",
    "    query=example_attention_query, value=example_enc_output, mask=(example_tokens != 0)\n",
    ")\n",
    "\n",
    "print(\n",
    "    f\"Attention result shape: (batch_size, query_seq_length, units):           {context_vector.shape}\"\n",
    ")\n",
    "print(\n",
    "    f\"Attention weights shape: (batch_size, query_seq_length, value_seq_length): {attention_weights.shape}\"\n",
    ")"
   ]
  },
  {
   "cell_type": "markdown",
   "metadata": {
    "id": "AagyXMH-Jhqt"
   },
   "source": [
    "对于每个序列，attention weights 的加和是 `1.0`\n",
    "\n",
    "下面是 `t=0` 时刻的 attention weights"
   ]
  },
  {
   "cell_type": "code",
   "execution_count": 32,
   "metadata": {
    "id": "Rqr8XGsAJlf6",
    "tags": []
   },
   "outputs": [
    {
     "data": {
      "text/plain": [
       "Text(0.5, 1.0, 'Mask')"
      ]
     },
     "execution_count": 32,
     "metadata": {},
     "output_type": "execute_result"
    },
    {
     "data": {
      "image/png": "[encoded data removed]",
      "text/plain": [
       "<Figure size 432x288 with 2 Axes>"
      ]
     },
     "metadata": {
      "needs_background": "light"
     },
     "output_type": "display_data"
    }
   ],
   "source": [
    "plt.subplot(1, 2, 1)\n",
    "plt.pcolormesh(attention_weights[:, 0, :])\n",
    "plt.title(\"Attention weights\")\n",
    "\n",
    "plt.subplot(1, 2, 2)\n",
    "plt.pcolormesh(example_tokens != 0)\n",
    "plt.title(\"Mask\")"
   ]
  },
  {
   "cell_type": "markdown",
   "metadata": {
    "id": "6Eil-C_NN1rp"
   },
   "source": [
    "由于 attention weights 的初始化是一个随机的过程，所以刚开始的时候权重都是比较接近 `1/(sequence_length)` 的。如果放大一个序列的权重值，就可以看到这里已经有些非常小的 variation 是模型学习得到的。"
   ]
  },
  {
   "cell_type": "code",
   "execution_count": 33,
   "metadata": {
    "id": "ZuzrCdmYlTcJ",
    "tags": []
   },
   "outputs": [
    {
     "data": {
      "text/plain": [
       "TensorShape([64, 2, 122])"
      ]
     },
     "execution_count": 33,
     "metadata": {},
     "output_type": "execute_result"
    }
   ],
   "source": [
    "attention_weights.shape"
   ]
  },
  {
   "cell_type": "code",
   "execution_count": 34,
   "metadata": {
    "id": "qIMwC-f-ZC8N",
    "tags": []
   },
   "outputs": [],
   "source": [
    "attention_slice = attention_weights[0, 0].numpy()\n",
    "attention_slice = attention_slice[attention_slice != 0]"
   ]
  },
  {
   "cell_type": "code",
   "execution_count": 35,
   "metadata": {
    "id": "ysWDPO6hOS8X",
    "tags": []
   },
   "outputs": [
    {
     "data": {
      "text/plain": [
       "[<matplotlib.lines.Line2D at 0x7f74b5a0e748>]"
      ]
     },
     "execution_count": 35,
     "metadata": {},
     "output_type": "execute_result"
    },
    {
     "data": {
      "text/plain": [
       "<Figure size 432x288 with 0 Axes>"
      ]
     },
     "metadata": {},
     "output_type": "display_data"
    },
    {
     "data": {
      "image/png": "[encoded data removed]",
      "text/plain": [
       "<Figure size 864x432 with 2 Axes>"
      ]
     },
     "metadata": {
      "needs_background": "light"
     },
     "output_type": "display_data"
    }
   ],
   "source": [
    "# @title\n",
    "plt.suptitle(\"Attention weights for one sequence\")\n",
    "\n",
    "plt.figure(figsize=(12, 6))\n",
    "a1 = plt.subplot(1, 2, 1)\n",
    "plt.bar(range(len(attention_slice)), attention_slice)\n",
    "# freeze the xlim\n",
    "plt.xlim(plt.xlim())\n",
    "plt.xlabel(\"Attention weights\")\n",
    "\n",
    "a2 = plt.subplot(1, 2, 2)\n",
    "plt.bar(range(len(attention_slice)), attention_slice)\n",
    "plt.xlabel(\"Attention weights, zoomed\")\n",
    "\n",
    "# zoom in\n",
    "top = max(a1.get_ylim())\n",
    "zoom = 0.85 * top\n",
    "a2.set_ylim([0.90 * top, top])\n",
    "a1.plot(a1.get_xlim(), [zoom, zoom], color=\"k\")"
   ]
  },
  {
   "cell_type": "markdown",
   "metadata": {
    "id": "aQ638eHN4iCK"
   },
   "source": [
    "### Decoder\n",
    "\n",
    "Decoder 的任务就是来预测/生成接下来输出的 token\n",
    "\n",
    "1. decoder 会接收所有的 encoder 的输出\n",
    "2. 使用 RNN 来跟踪当前已经生成的内容\n",
    "3. 使用 RNN 的输出作为 query 和 encoder 的输出生成 context vector \n",
    "4. 联合 RNN 的输出和 context vector 使用 Equation 3 生成 \"attention vector\"\n",
    "5. 根据 \"attention vector\" 生成 logit 预测下一个 token \n",
    "\n",
    "<img src=\"https://www.tensorflow.org/text/tutorials/images/attention_equation_3.jpg\" alt=\"attention equation 3\" width=\"800\">\n"
   ]
  },
  {
   "attachments": {
    "b2c57805-628f-428b-97c9-587630bfb3db.png": {
     "image/png": "[encoded data removed]"
    }
   },
   "cell_type": "markdown",
   "metadata": {
    "id": "pZsQJMqNmg_L"
   },
   "source": [
    "下面是 `Decoder` 类:\n",
    "\n",
    "![image.png](attachment:b2c57805-628f-428b-97c9-587630bfb3db.png)"
   ]
  },
  {
   "cell_type": "code",
   "execution_count": 36,
   "metadata": {
    "id": "erYvHIgAl8kh",
    "tags": []
   },
   "outputs": [],
   "source": [
    "class Decoder(tf.keras.layers.Layer):\n",
    "    def __init__(self, output_vocab_size, embedding_dim, dec_units):\n",
    "        super(Decoder, self).__init__()\n",
    "        self.dec_units = dec_units\n",
    "        self.output_vocab_size = output_vocab_size\n",
    "        self.embedding_dim = embedding_dim\n",
    "\n",
    "        # For Step 1. The embedding layer convets token IDs to vectors\n",
    "        self.embedding = tf.keras.layers.Embedding(\n",
    "            self.output_vocab_size, embedding_dim\n",
    "        )\n",
    "\n",
    "        # For Step 2. The RNN keeps track of what's been generated so far.\n",
    "        self.gru = tf.keras.layers.GRU(\n",
    "            self.dec_units,\n",
    "            return_sequences=True,\n",
    "            return_state=True,\n",
    "            recurrent_initializer=\"glorot_uniform\",\n",
    "        )\n",
    "\n",
    "        # For step 3. The RNN output will be the query for the attention layer.\n",
    "        self.attention = BahdanauAttention(self.dec_units)\n",
    "\n",
    "        # For step 4. Eqn. (3): converting `ct` to `at`\n",
    "        self.Wc = tf.keras.layers.Dense(\n",
    "            dec_units, activation=tf.math.tanh, use_bias=False\n",
    "        )\n",
    "\n",
    "        # For step 5. This fully connected layer produces the logits for each\n",
    "        # output token.\n",
    "        self.fc = tf.keras.layers.Dense(self.output_vocab_size)"
   ]
  },
  {
   "cell_type": "markdown",
   "metadata": {},
   "source": [
    "这层的 `call` 方法输入和输出多个 tensor。我们把它们组织成一个容器类:"
   ]
  },
  {
   "cell_type": "code",
   "execution_count": 37,
   "metadata": {},
   "outputs": [],
   "source": [
    "class DecoderInput(typing.NamedTuple):\n",
    "    new_tokens: Any\n",
    "    enc_output: Any\n",
    "    mask: Any\n",
    "\n",
    "\n",
    "class DecoderOutput(typing.NamedTuple):\n",
    "    logits: Any\n",
    "    attention_weights: Any"
   ]
  },
  {
   "cell_type": "markdown",
   "metadata": {
    "id": "NChkl2KrnV2y"
   },
   "source": [
    "下面是 `call` 方法的实现:"
   ]
  },
  {
   "cell_type": "code",
   "execution_count": 38,
   "metadata": {
    "id": "PJOi5btHAPNK",
    "tags": []
   },
   "outputs": [],
   "source": [
    "def call(self, inputs: DecoderInput, state=None) -> Tuple[DecoderOutput, tf.Tensor]:\n",
    "    shape_checker = ShapeChecker()\n",
    "    shape_checker(inputs.new_tokens, (\"batch\", \"t\"))\n",
    "    shape_checker(inputs.enc_output, (\"batch\", \"s\", \"enc_units\"))\n",
    "    shape_checker(inputs.mask, (\"batch\", \"s\"))\n",
    "\n",
    "    if state is not None:\n",
    "        shape_checker(state, (\"batch\", \"dec_units\"))\n",
    "\n",
    "    # Step 1. Lookup the embeddings\n",
    "    vectors = self.embedding(inputs.new_tokens)\n",
    "    shape_checker(vectors, (\"batch\", \"t\", \"embedding_dim\"))\n",
    "\n",
    "    # Step 2. Process one step with the RNN\n",
    "    rnn_output, state = self.gru(vectors, initial_state=state)\n",
    "\n",
    "    shape_checker(rnn_output, (\"batch\", \"t\", \"dec_units\"))\n",
    "    shape_checker(state, (\"batch\", \"dec_units\"))\n",
    "\n",
    "    # Step 3. Use the RNN output as the query for the attention over the\n",
    "    # encoder output.\n",
    "    context_vector, attention_weights = self.attention(\n",
    "        query=rnn_output, value=inputs.enc_output, mask=inputs.mask\n",
    "    )\n",
    "    shape_checker(context_vector, (\"batch\", \"t\", \"dec_units\"))\n",
    "    shape_checker(attention_weights, (\"batch\", \"t\", \"s\"))\n",
    "\n",
    "    # Step 4. Eqn. (3): Join the context_vector and rnn_output\n",
    "    #     [ct; ht] shape: (batch t, value_units + query_units)\n",
    "    context_and_rnn_output = tf.concat([context_vector, rnn_output], axis=-1)\n",
    "\n",
    "    # Step 4. Eqn. (3): `at = tanh(Wc@[ct; ht])`\n",
    "    attention_vector = self.Wc(context_and_rnn_output)\n",
    "    shape_checker(attention_vector, (\"batch\", \"t\", \"dec_units\"))\n",
    "\n",
    "    # Step 5. Generate logit predictions:\n",
    "    logits = self.fc(attention_vector)\n",
    "    shape_checker(logits, (\"batch\", \"t\", \"output_vocab_size\"))\n",
    "\n",
    "    return DecoderOutput(logits, attention_weights), state"
   ]
  },
  {
   "cell_type": "code",
   "execution_count": 39,
   "metadata": {
    "id": "Ay_mTMPfnb2a",
    "tags": []
   },
   "outputs": [],
   "source": [
    "Decoder.call = call"
   ]
  },
  {
   "cell_type": "markdown",
   "metadata": {
    "id": "arTOBklcFTiC"
   },
   "source": [
    "**encoder** 在一次的 `call` 方法的调用过程中处理它的所有的输入。\n",
    "\n",
    "**decoder** 也可以使用这种方式进行高效的训练。但是，这里我们选择使用 loop 来运行 decoder，这里我们有以下的原因:\n",
    "\n",
    "* 灵活: 写训练给我们对于训练的直接控制。Writing the loop gives you direct control over the training procedure.\n",
    "* 清晰: 可以使用 masking 的 tricks "
   ]
  },
  {
   "cell_type": "markdown",
   "metadata": {
    "id": "E1-mLAcUEXpK"
   },
   "source": [
    "接下来，让我们来试试 decoder"
   ]
  },
  {
   "cell_type": "code",
   "execution_count": 40,
   "metadata": {
    "id": "4ZUMbYXIEVeA",
    "tags": []
   },
   "outputs": [],
   "source": [
    "decoder = Decoder(text_processor.vocabulary_size(), embedding_dim, units)"
   ]
  },
  {
   "cell_type": "markdown",
   "metadata": {
    "id": "UPnaw583CpnY"
   },
   "source": [
    "decoder 使用 4 个输入:\n",
    "\n",
    "* `new_tokens` -  上一个生成的 token. 使用 `\"[START]\"` 作为 decoder 的初始化 \n",
    "* `enc_output` - `Encoder` 生成的部分.\n",
    "* `mask` - 一个布尔型的 tensor 用来表示 `tokens != 0` 的位置\n",
    "* `state` - 之前的  `state`， 从 decoder 获取到的输出 (the internal state\n",
    "  of the decoder's RNN). 输入 `None` 使用  zero-initialize. 原始的 paper 是使用 encoder RNN 生成的最终输入最为它的初始化。"
   ]
  },
  {
   "cell_type": "code",
   "execution_count": 41,
   "metadata": {
    "id": "4u6eJBU4GL40",
    "tags": []
   },
   "outputs": [],
   "source": [
    "# Convert the target sequence, and collect the \"[START]\" tokens\n",
    "example_output_tokens = text_processor(example_target_batch)\n",
    "\n",
    "start_index = text_processor.get_vocabulary().index(\"[START]\")\n",
    "first_token = tf.constant([[start_index]] * example_output_tokens.shape[0])"
   ]
  },
  {
   "cell_type": "code",
   "execution_count": 42,
   "metadata": {
    "id": "E5hqvbR5FUCD",
    "tags": []
   },
   "outputs": [
    {
     "name": "stdout",
     "output_type": "stream",
     "text": [
      "logits shape: (batch_size, t, output_vocab_size) (64, 1, 5000)\n",
      "state shape: (batch_size, dec_units) (64, 1024)\n"
     ]
    }
   ],
   "source": [
    "# Run the decoder\n",
    "dec_result, dec_state = decoder(\n",
    "    inputs=DecoderInput(\n",
    "        new_tokens=first_token,\n",
    "        enc_output=example_enc_output,\n",
    "        mask=(example_tokens != 0),\n",
    "    ),\n",
    "    state=example_enc_state,\n",
    ")\n",
    "\n",
    "print(f\"logits shape: (batch_size, t, output_vocab_size) {dec_result.logits.shape}\")\n",
    "print(f\"state shape: (batch_size, dec_units) {dec_state.shape}\")"
   ]
  },
  {
   "cell_type": "markdown",
   "metadata": {
    "id": "vEZvXZRVPHd6"
   },
   "source": [
    "从上面这些 logits 中采样一个 token."
   ]
  },
  {
   "cell_type": "code",
   "execution_count": 43,
   "metadata": {
    "id": "P5UY8wko3jFp",
    "tags": []
   },
   "outputs": [],
   "source": [
    "sampled_token = tf.random.categorical(dec_result.logits[:, 0, :], num_samples=1)"
   ]
  },
  {
   "cell_type": "markdown",
   "metadata": {
    "id": "-xTpX44VkzrY"
   },
   "source": [
    "解码 token 作为输出的第一个单词。"
   ]
  },
  {
   "cell_type": "code",
   "execution_count": 44,
   "metadata": {
    "id": "lKXTLYu4IV7I",
    "tags": []
   },
   "outputs": [
    {
     "data": {
      "text/plain": [
       "array([['足够'],\n",
       "       ['超市'],\n",
       "       ['口罩'],\n",
       "       ['年度'],\n",
       "       ['逝世']], dtype='<U7')"
      ]
     },
     "execution_count": 44,
     "metadata": {},
     "output_type": "execute_result"
    }
   ],
   "source": [
    "vocab = np.array(text_processor.get_vocabulary())\n",
    "first_word = vocab[sampled_token.numpy()]\n",
    "first_word[:5]"
   ]
  },
  {
   "cell_type": "markdown",
   "metadata": {
    "id": "LUQV6AXoQR7z"
   },
   "source": [
    "接下来我们使用 decoder 来生成第二个 logits.\n",
    "\n",
    "- 输入相同的 `enc_output` 和 `mask`, 这些并没有改变\n",
    "- 输入采样的 token 作为 `new_tokens`.\n",
    "- 输入上一个时刻 decoder 返回的 `decoder_state`, 这样 RNN 能够继续的保持之前时间的记忆。"
   ]
  },
  {
   "cell_type": "code",
   "execution_count": 45,
   "metadata": {
    "id": "pX1VF9XDJTOM",
    "tags": []
   },
   "outputs": [],
   "source": [
    "dec_result, dec_state = decoder(\n",
    "    DecoderInput(sampled_token, example_enc_output, mask=(example_tokens != 0)),\n",
    "    state=dec_state,\n",
    ")"
   ]
  },
  {
   "cell_type": "code",
   "execution_count": 46,
   "metadata": {
    "id": "H1rs0XL7Y2aS",
    "tags": []
   },
   "outputs": [
    {
     "data": {
      "text/plain": [
       "array([['股'],\n",
       "       ['常州'],\n",
       "       ['和'],\n",
       "       ['年度'],\n",
       "       ['底线']], dtype='<U7')"
      ]
     },
     "execution_count": 46,
     "metadata": {},
     "output_type": "execute_result"
    }
   ],
   "source": [
    "sampled_token = tf.random.categorical(dec_result.logits[:, 0, :], num_samples=1)\n",
    "first_word = vocab[sampled_token.numpy()]\n",
    "first_word[:5]"
   ]
  },
  {
   "cell_type": "markdown",
   "metadata": {
    "id": "B6xyru86m914"
   },
   "source": [
    "## 训练\n",
    "\n",
    "现在我们已经有了所有的模型组件，我们可以开始训练模型了，我们需要:\n",
    "\n",
    "- 一个 loss function 和 optimizer \n",
    "- 一个 training step function 用来定义针对于每个 input/target 如何更新模型。\n",
    "- 一个训练 loop 用来进行训练和保存 checkpoints "
   ]
  },
  {
   "cell_type": "markdown",
   "metadata": {
    "id": "_ch_71VbIRfK"
   },
   "source": [
    "### 定义 loss function"
   ]
  },
  {
   "cell_type": "code",
   "execution_count": 47,
   "metadata": {
    "id": "WmTHr5iV3jFr",
    "tags": []
   },
   "outputs": [],
   "source": [
    "class MaskedLoss(tf.keras.losses.Loss):\n",
    "    def __init__(self):\n",
    "        self.name = \"masked_loss\"\n",
    "        self.loss = tf.keras.losses.SparseCategoricalCrossentropy(\n",
    "            from_logits=True, reduction=\"none\"\n",
    "        )\n",
    "\n",
    "    def __call__(self, y_true, y_pred):\n",
    "        shape_checker = ShapeChecker()\n",
    "        shape_checker(y_true, (\"batch\", \"t\"))\n",
    "        shape_checker(y_pred, (\"batch\", \"t\", \"logits\"))\n",
    "\n",
    "        # Calculate the loss for each item in the batch.\n",
    "        loss = self.loss(y_true, y_pred)\n",
    "        shape_checker(loss, (\"batch\", \"t\"))\n",
    "\n",
    "        # Mask off the losses on padding.\n",
    "        mask = tf.cast(y_true != 0, tf.float32)\n",
    "        shape_checker(mask, (\"batch\", \"t\"))\n",
    "        loss *= mask\n",
    "\n",
    "        # Return the total.\n",
    "        return tf.reduce_sum(loss)"
   ]
  },
  {
   "cell_type": "markdown",
   "metadata": {
    "id": "M5AgEBh2S404"
   },
   "source": [
    "### 实现 training step"
   ]
  },
  {
   "cell_type": "markdown",
   "metadata": {
    "id": "r_G20Te1XSmJ"
   },
   "source": [
    "实现 `train_step` 方法. 更多自定义方法可以参看 [Customizing fit](https://www.tensorflow.org/guide/keras/customizing_what_happens_in_fit) \n",
    "\n",
    "这里 `train_step` 方法是 `_train_step` 的 wrapper，`_train_step` 使我们后面要实现的方法. 这个包装器包含一个打开和关闭 `tf.function`的开关，方便我们进行 debug"
   ]
  },
  {
   "cell_type": "code",
   "execution_count": 48,
   "metadata": {
    "id": "WWIyuy71TkJT",
    "tags": []
   },
   "outputs": [],
   "source": [
    "class TrainSummaryWriter(tf.keras.Model):\n",
    "    def __init__(\n",
    "        self,\n",
    "        embedding_dim,\n",
    "        units,\n",
    "        input_text_processor,\n",
    "        output_text_processor,\n",
    "        use_tf_function=True,\n",
    "    ):\n",
    "        super().__init__()\n",
    "        # Build the encoder and decoder\n",
    "        encoder = Encoder(input_text_processor.vocabulary_size(), embedding_dim, units)\n",
    "        decoder = Decoder(output_text_processor.vocabulary_size(), embedding_dim, units)\n",
    "\n",
    "        self.encoder = encoder\n",
    "        self.decoder = decoder\n",
    "        self.input_text_processor = input_text_processor\n",
    "        self.output_text_processor = output_text_processor\n",
    "        self.use_tf_function = use_tf_function\n",
    "        self.shape_checker = ShapeChecker()\n",
    "\n",
    "    def train_step(self, inputs):\n",
    "        self.shape_checker = ShapeChecker()\n",
    "        # 加速的场景\n",
    "        if self.use_tf_function:\n",
    "            return self._tf_train_step(inputs)\n",
    "        else:\n",
    "            # 不加速的\n",
    "            return self._train_step(inputs)"
   ]
  },
  {
   "cell_type": "markdown",
   "metadata": {
    "id": "-i0i1x6jwsLm"
   },
   "source": [
    "`Model.train_step` 方法的大概实现如下: \n",
    "\n",
    "1. 从 `tf.data.Dataset` 接收 a batch of `input_text, target_text` \n",
    "2. 转换这些 raw text inputs 为 token-embeddings 和 masks\n",
    "3. 在 `input_tokens` 上运行 encoder 去获取 `encoder_output` 和 `encoder_state`.\n",
    "4. 初始化 decoder 状态和 loss\n",
    "5. 循环 `target_tokens`:\n",
    "   1. 每个时间步调用 decoder one step.\n",
    "   2. 对于每一个时间步计算 loss\n",
    "   3. 积累平均的 loss \n",
    "6. 计算 loss 的梯度，使用 optimizer 把更新到模型的 `trainable_variables`"
   ]
  },
  {
   "cell_type": "markdown",
   "metadata": {
    "id": "ngBjFw4BU5G7"
   },
   "source": [
    "\n",
    "`_preprocess` 方法, 实现 steps #1 and #2: "
   ]
  },
  {
   "cell_type": "code",
   "execution_count": 49,
   "metadata": {
    "id": "ZlYE68wzXoA8",
    "tags": []
   },
   "outputs": [],
   "source": [
    "def _preprocess(self, input_text, target_text):\n",
    "    self.shape_checker(input_text, (\"batch\",))\n",
    "    self.shape_checker(target_text, (\"batch\",))\n",
    "\n",
    "    # Convert the text to token IDs\n",
    "    input_tokens = self.input_text_processor(input_text)\n",
    "    target_tokens = self.output_text_processor(target_text)\n",
    "    self.shape_checker(input_tokens, (\"batch\", \"s\"))\n",
    "    self.shape_checker(target_tokens, (\"batch\", \"t\"))\n",
    "\n",
    "    # Convert IDs to masks.\n",
    "    input_mask = input_tokens != 0\n",
    "    self.shape_checker(input_mask, (\"batch\", \"s\"))\n",
    "\n",
    "    target_mask = target_tokens != 0\n",
    "    self.shape_checker(target_mask, (\"batch\", \"t\"))\n",
    "\n",
    "    return input_tokens, input_mask, target_tokens, target_mask"
   ]
  },
  {
   "cell_type": "code",
   "execution_count": 50,
   "metadata": {
    "id": "lHy6hzStrgjQ",
    "tags": []
   },
   "outputs": [],
   "source": [
    "TrainSummaryWriter._preprocess = _preprocess"
   ]
  },
  {
   "cell_type": "markdown",
   "metadata": {
    "id": "d3kvbcArc2y-"
   },
   "source": [
    "`_train_step` 方法, 处理其余的 steps，除了实际运行 decoder:"
   ]
  },
  {
   "cell_type": "code",
   "execution_count": 51,
   "metadata": {
    "id": "Qs_gsISsYPpY",
    "tags": []
   },
   "outputs": [],
   "source": [
    "def _train_step(self, inputs):\n",
    "    input_text, target_text = inputs\n",
    "\n",
    "    (input_tokens, input_mask, target_tokens, target_mask) = self._preprocess(\n",
    "        input_text, target_text\n",
    "    )\n",
    "\n",
    "    max_target_length = tf.shape(target_tokens)[1]\n",
    "\n",
    "    with tf.GradientTape() as tape:\n",
    "        # Encode the input\n",
    "        enc_output, enc_state = self.encoder(input_tokens)\n",
    "        self.shape_checker(enc_output, (\"batch\", \"s\", \"enc_units\"))\n",
    "        self.shape_checker(enc_state, (\"batch\", \"enc_units\"))\n",
    "\n",
    "        # Initialize the decoder's state to the encoder's final state.\n",
    "        # This only works if the encoder and decoder have the same number of\n",
    "        # units.\n",
    "        dec_state = enc_state\n",
    "        loss = tf.constant(0.0)\n",
    "\n",
    "        for t in tf.range(max_target_length - 1):\n",
    "            # Pass in two tokens from the target sequence:\n",
    "            # 1. The current input to the decoder.\n",
    "            # 2. The target for the decoder's next prediction.\n",
    "            new_tokens = target_tokens[:, t : t + 2]\n",
    "            step_loss, dec_state = self._loop_step(\n",
    "                new_tokens, input_mask, enc_output, dec_state\n",
    "            )\n",
    "            loss = loss + step_loss\n",
    "\n",
    "        # Average the loss over all non padding tokens.\n",
    "        average_loss = loss / tf.reduce_sum(tf.cast(target_mask, tf.float32))\n",
    "\n",
    "    # Apply an optimization step\n",
    "    variables = self.trainable_variables\n",
    "    gradients = tape.gradient(average_loss, variables)\n",
    "    self.optimizer.apply_gradients(zip(gradients, variables))\n",
    "\n",
    "    # Return a dict mapping metric names to current value\n",
    "    return {\"batch_loss\": average_loss}"
   ]
  },
  {
   "cell_type": "code",
   "execution_count": 52,
   "metadata": {
    "id": "KGwWHIxLrjGR",
    "tags": []
   },
   "outputs": [],
   "source": [
    "TrainSummaryWriter._train_step = _train_step"
   ]
  },
  {
   "cell_type": "markdown",
   "metadata": {
    "id": "F7g40o-mXyt5"
   },
   "source": [
    "`_loop_step` 方法, 运行 decoder 并且计算递增的 loss 和 decoder 的新的 state (`dec_state`)."
   ]
  },
  {
   "cell_type": "code",
   "execution_count": 53,
   "metadata": {
    "id": "9VrzgwztXzYJ",
    "tags": []
   },
   "outputs": [],
   "source": [
    "def _loop_step(self, new_tokens, input_mask, enc_output, dec_state):\n",
    "    input_token, target_token = new_tokens[:, 0:1], new_tokens[:, 1:2]\n",
    "\n",
    "    # Run the decoder one step.\n",
    "    decoder_input = DecoderInput(\n",
    "        new_tokens=input_token, enc_output=enc_output, mask=input_mask\n",
    "    )\n",
    "\n",
    "    dec_result, dec_state = self.decoder(decoder_input, state=dec_state)\n",
    "    self.shape_checker(dec_result.logits, (\"batch\", \"t1\", \"logits\"))\n",
    "    self.shape_checker(dec_result.attention_weights, (\"batch\", \"t1\", \"s\"))\n",
    "    self.shape_checker(dec_state, (\"batch\", \"dec_units\"))\n",
    "\n",
    "    # `self.loss` returns the total for non-padded tokens\n",
    "    y = target_token\n",
    "    y_pred = dec_result.logits\n",
    "    step_loss = self.loss(y, y_pred)\n",
    "\n",
    "    return step_loss, dec_state"
   ]
  },
  {
   "cell_type": "code",
   "execution_count": 54,
   "metadata": {
    "id": "xj3I7VULrk1R",
    "tags": []
   },
   "outputs": [],
   "source": [
    "TrainSummaryWriter._loop_step = _loop_step"
   ]
  },
  {
   "cell_type": "markdown",
   "metadata": {
    "id": "WACCHvKWBQ9C"
   },
   "source": [
    "### 测试训练 step\n",
    "\n",
    "训练一个 `TrainSummaryWriter`, 并且使用 `Model.compile` 配置它: "
   ]
  },
  {
   "cell_type": "code",
   "execution_count": 55,
   "metadata": {
    "id": "OA6bCske8TXm",
    "tags": []
   },
   "outputs": [],
   "source": [
    "writer = TrainSummaryWriter(\n",
    "    embedding_dim,\n",
    "    units,\n",
    "    input_text_processor=text_processor,\n",
    "    output_text_processor=text_processor,\n",
    "    use_tf_function=False,\n",
    ")\n",
    "\n",
    "# Configure the loss and optimizer\n",
    "writer.compile(\n",
    "    optimizer=tf.optimizers.Adam(),\n",
    "    loss=MaskedLoss(),\n",
    ")"
   ]
  },
  {
   "cell_type": "markdown",
   "metadata": {
    "id": "6y5OnZDsB3sB"
   },
   "source": [
    "测试 `train_step`. 对于一个文本模型一开始的时候 loss 应该接近于下面的值:"
   ]
  },
  {
   "cell_type": "code",
   "execution_count": 56,
   "metadata": {
    "id": "zHe-OudqCFGK",
    "tags": []
   },
   "outputs": [
    {
     "data": {
      "text/plain": [
       "8.517193191416238"
      ]
     },
     "execution_count": 56,
     "metadata": {},
     "output_type": "execute_result"
    }
   ],
   "source": [
    "np.log(text_processor.vocabulary_size())"
   ]
  },
  {
   "cell_type": "code",
   "execution_count": 57,
   "metadata": {
    "id": "VwMU9cFEfjha",
    "tags": []
   },
   "outputs": [
    {
     "name": "stdout",
     "output_type": "stream",
     "text": [
      "{'batch_loss': <tf.Tensor: shape=(), dtype=float32, numpy=7.8233404>}\n",
      "{'batch_loss': <tf.Tensor: shape=(), dtype=float32, numpy=7.7651205>}\n",
      "{'batch_loss': <tf.Tensor: shape=(), dtype=float32, numpy=7.5906396>}\n",
      "{'batch_loss': <tf.Tensor: shape=(), dtype=float32, numpy=6.8126435>}\n",
      "{'batch_loss': <tf.Tensor: shape=(), dtype=float32, numpy=9.123618>}\n",
      "{'batch_loss': <tf.Tensor: shape=(), dtype=float32, numpy=6.888087>}\n",
      "{'batch_loss': <tf.Tensor: shape=(), dtype=float32, numpy=5.184248>}\n",
      "{'batch_loss': <tf.Tensor: shape=(), dtype=float32, numpy=4.709961>}\n",
      "{'batch_loss': <tf.Tensor: shape=(), dtype=float32, numpy=4.42888>}\n",
      "{'batch_loss': <tf.Tensor: shape=(), dtype=float32, numpy=4.1981254>}\n",
      "\n",
      "CPU times: user 4.41 s, sys: 50 ms, total: 4.46 s\n",
      "Wall time: 4.44 s\n"
     ]
    }
   ],
   "source": [
    "%%time\n",
    "for n in range(10):\n",
    "    print(writer.train_step([example_input_batch, example_target_batch]))\n",
    "print()"
   ]
  },
  {
   "cell_type": "markdown",
   "metadata": {
    "id": "A-xqtsMbCUp2"
   },
   "source": [
    "让我们来使用 `tf.function` 包装 `_tf_train_step` 提高训练的最大效率:"
   ]
  },
  {
   "cell_type": "code",
   "execution_count": 58,
   "metadata": {
    "id": "UFUsTKQx0jaH"
   },
   "outputs": [],
   "source": [
    "@tf.function(\n",
    "    input_signature=[\n",
    "        [\n",
    "            tf.TensorSpec(dtype=tf.string, shape=[None]),\n",
    "            tf.TensorSpec(dtype=tf.string, shape=[None]),\n",
    "        ]\n",
    "    ]\n",
    ")\n",
    "def _tf_train_step(self, inputs):\n",
    "    return self._train_step(inputs)"
   ]
  },
  {
   "cell_type": "code",
   "execution_count": 59,
   "metadata": {
    "id": "2-bgU59jrztQ"
   },
   "outputs": [],
   "source": [
    "TrainSummaryWriter._tf_train_step = _tf_train_step"
   ]
  },
  {
   "cell_type": "code",
   "execution_count": 60,
   "metadata": {
    "id": "KC8bRv_Gr3H9"
   },
   "outputs": [],
   "source": [
    "writer.use_tf_function = True"
   ]
  },
  {
   "cell_type": "markdown",
   "metadata": {
    "id": "EKMYNF_sIFb9"
   },
   "source": [
    "第一次执行会比较的慢，应为它会追踪函数:"
   ]
  },
  {
   "cell_type": "code",
   "execution_count": 61,
   "metadata": {
    "id": "pLQZsX2dp1QK"
   },
   "outputs": [
    {
     "name": "stdout",
     "output_type": "stream",
     "text": [
      "CPU times: user 4.36 s, sys: 189 ms, total: 4.55 s\n",
      "Wall time: 3.66 s\n"
     ]
    },
    {
     "data": {
      "text/plain": [
       "{'batch_loss': <tf.Tensor: shape=(), dtype=float32, numpy=3.961482>}"
      ]
     },
     "execution_count": 61,
     "metadata": {},
     "output_type": "execute_result"
    }
   ],
   "source": [
    "%%time\n",
    "writer.train_step([example_input_batch, example_target_batch])"
   ]
  },
  {
   "cell_type": "markdown",
   "metadata": {
    "id": "W3t2Hg7UISYi"
   },
   "source": [
    "但是，之后通常能得到比普通 `train_step` 2-3x 倍的提升 "
   ]
  },
  {
   "cell_type": "code",
   "execution_count": 62,
   "metadata": {
    "id": "UzXXMwjXCqqh"
   },
   "outputs": [
    {
     "name": "stdout",
     "output_type": "stream",
     "text": [
      "{'batch_loss': <tf.Tensor: shape=(), dtype=float32, numpy=3.9099283>}\n",
      "{'batch_loss': <tf.Tensor: shape=(), dtype=float32, numpy=3.9450006>}\n",
      "{'batch_loss': <tf.Tensor: shape=(), dtype=float32, numpy=3.9937508>}\n",
      "{'batch_loss': <tf.Tensor: shape=(), dtype=float32, numpy=4.0260572>}\n",
      "{'batch_loss': <tf.Tensor: shape=(), dtype=float32, numpy=4.032317>}\n",
      "{'batch_loss': <tf.Tensor: shape=(), dtype=float32, numpy=4.003757>}\n",
      "{'batch_loss': <tf.Tensor: shape=(), dtype=float32, numpy=3.945531>}\n",
      "{'batch_loss': <tf.Tensor: shape=(), dtype=float32, numpy=3.87374>}\n",
      "{'batch_loss': <tf.Tensor: shape=(), dtype=float32, numpy=3.8119447>}\n",
      "{'batch_loss': <tf.Tensor: shape=(), dtype=float32, numpy=3.7786825>}\n",
      "\n",
      "CPU times: user 12.4 s, sys: 1.71 s, total: 14.1 s\n",
      "Wall time: 4.46 s\n"
     ]
    }
   ],
   "source": [
    "%%time\n",
    "for n in range(10):\n",
    "    print(writer.train_step([example_input_batch, example_target_batch]))\n",
    "print()"
   ]
  },
  {
   "cell_type": "markdown",
   "metadata": {
    "id": "OIvigTqaEcu1"
   },
   "source": [
    "对于一个新模型，一个很好的测试方法就是看看能够 overfit 一个 batch 的输入。如果，loss 可以快速的收敛到 0，说明这个模型没有问题:"
   ]
  },
  {
   "cell_type": "code",
   "execution_count": 63,
   "metadata": {
    "id": "U-dIWMIBqK7b"
   },
   "outputs": [
    {
     "name": "stdout",
     "output_type": "stream",
     "text": [
      "....................................................................................................\n"
     ]
    },
    {
     "data": {
      "text/plain": [
       "[<matplotlib.lines.Line2D at 0x7f74b67d9978>]"
      ]
     },
     "execution_count": 63,
     "metadata": {},
     "output_type": "execute_result"
    },
    {
     "data": {
      "image/png": "[encoded data removed]",
      "text/plain": [
       "<Figure size 432x288 with 1 Axes>"
      ]
     },
     "metadata": {
      "needs_background": "light"
     },
     "output_type": "display_data"
    }
   ],
   "source": [
    "losses = []\n",
    "for n in range(100):\n",
    "    print(\".\", end=\"\")\n",
    "    logs = writer.train_step([example_input_batch, example_target_batch])\n",
    "    losses.append(logs[\"batch_loss\"].numpy())\n",
    "\n",
    "print()\n",
    "plt.plot(losses)"
   ]
  },
  {
   "cell_type": "markdown",
   "metadata": {
    "id": "aI02XFjoEt1k"
   },
   "source": [
    "测试完之后，我们非常确信这个训练是能够 work 的，构建一个模型的副本来自由的进行手动的训练:"
   ]
  },
  {
   "cell_type": "code",
   "execution_count": 64,
   "metadata": {
    "id": "Emgfgh4tAmJt"
   },
   "outputs": [],
   "source": [
    "train_writer = TrainSummaryWriter(\n",
    "    embedding_dim,\n",
    "    units,\n",
    "    input_text_processor=text_processor,\n",
    "    output_text_processor=text_processor,\n",
    ")\n",
    "\n",
    "# Configure the loss and optimizer\n",
    "train_writer.compile(\n",
    "    optimizer=tf.optimizers.Adam(),\n",
    "    loss=MaskedLoss(),\n",
    ")"
   ]
  },
  {
   "cell_type": "markdown",
   "metadata": {
    "id": "hpObfY22IddU"
   },
   "source": [
    "### 训练模型\n",
    "\n",
    "\n",
    "当我们写自定义的训练 loop 没有问题之后， 我们就可以实现 `Model.train_step` 就像前面的 section 一样，这样能够让我们使用 `Model.fit` 来进行模型的训练，避免写很多重复的代码\n",
    "\n",
    "\n",
    "接下来使用 `callbacks.Callback` 来收集 batch losses 的历史数据，并且画图:"
   ]
  },
  {
   "cell_type": "code",
   "execution_count": 65,
   "metadata": {
    "id": "J7m4mtnj80sq"
   },
   "outputs": [],
   "source": [
    "class BatchLogs(tf.keras.callbacks.Callback):\n",
    "    def __init__(self, key):\n",
    "        self.key = key\n",
    "        self.logs = []\n",
    "\n",
    "    def on_train_batch_end(self, n, logs):\n",
    "        self.logs.append(logs[self.key])\n",
    "\n",
    "\n",
    "batch_loss = BatchLogs(\"batch_loss\")\n",
    "\n",
    "# Define the Keras TensorBoard callback.\n",
    "logdir = \"logs/fit/\" + datetime.now().strftime(\"%Y%m%d-%H%M%S\")\n",
    "tensorboard_callback = tf.keras.callbacks.TensorBoard(log_dir=logdir)"
   ]
  },
  {
   "cell_type": "code",
   "execution_count": null,
   "metadata": {
    "id": "BQd_esVVoSf3"
   },
   "outputs": [
    {
     "name": "stdout",
     "output_type": "stream",
     "text": [
      "Epoch 1/20\n",
      "8570/8570 [==============================] - 4147s 483ms/step - batch_loss: 3.1032\n",
      "Epoch 2/20\n",
      "8570/8570 [==============================] - 4209s 491ms/step - batch_loss: 2.4037\n",
      "Epoch 3/20\n",
      "8570/8570 [==============================] - 4214s 492ms/step - batch_loss: 2.2000\n",
      "Epoch 4/20\n",
      "8570/8570 [==============================] - 4080s 476ms/step - batch_loss: 2.0414\n",
      "Epoch 5/20\n",
      "6894/8570 [=======================>......] - ETA: 13:23 - batch_loss: 1.8939"
     ]
    }
   ],
   "source": [
    "train_writer.fit(dataset, epochs=20, callbacks=[batch_loss, tensorboard_callback])"
   ]
  },
  {
   "cell_type": "code",
   "execution_count": null,
   "metadata": {
    "id": "38rLdlmtQHCm"
   },
   "outputs": [],
   "source": [
    "plt.plot(batch_loss.logs)\n",
    "plt.ylim([0, 3])\n",
    "plt.xlabel(\"Batch #\")\n",
    "plt.ylabel(\"CE/token\")"
   ]
  },
  {
   "cell_type": "markdown",
   "metadata": {
    "id": "w0S_O_RzHmfe"
   },
   "source": [
    "The visible jumps in the plot are at the epoch boundaries."
   ]
  },
  {
   "cell_type": "markdown",
   "metadata": {
    "id": "mU3Ce8M6I3rz"
   },
   "source": [
    "## 写摘要\n",
    "\n",
    "现在，我们的模型已经训练好了，我们要实现一个完整的执行 `text => text` 对文章进行摘要的方法.\n",
    "\n",
    "对于这个模型，我们需要把 `text => token IDs` 的过程给倒过来，我们使用 `text_processor`，它需要知道每一个 token 的 IDs。这些都会在下面进行实现。\n",
    "\n",
    "总体上，这和 training loop 很相似，除了 decoder 在每一个时间步的输入都是之前时间步的预测."
   ]
  },
  {
   "cell_type": "code",
   "execution_count": null,
   "metadata": {
    "id": "PO-CLL1LVBbM"
   },
   "outputs": [],
   "source": [
    "class SummaryWriter(tf.Module):\n",
    "    def __init__(self, encoder, decoder, input_text_processor, output_text_processor):\n",
    "        self.encoder = encoder\n",
    "        self.decoder = decoder\n",
    "        self.input_text_processor = input_text_processor\n",
    "        self.output_text_processor = output_text_processor\n",
    "\n",
    "        self.output_token_string_from_index = (\n",
    "            tf.keras.layers.experimental.preprocessing.StringLookup(\n",
    "                vocabulary=output_text_processor.get_vocabulary(),\n",
    "                mask_token=\"\",\n",
    "                invert=True,\n",
    "            )\n",
    "        )\n",
    "\n",
    "        # The output should never generate padding, unknown, or start.\n",
    "        index_from_string = tf.keras.layers.experimental.preprocessing.StringLookup(\n",
    "            vocabulary=output_text_processor.get_vocabulary(), mask_token=\"\"\n",
    "        )\n",
    "        token_mask_ids = index_from_string([\"\", \"[UNK]\", \"[START]\"]).numpy()\n",
    "\n",
    "        token_mask = np.zeros([index_from_string.vocabulary_size()], dtype=np.bool)\n",
    "        token_mask[np.array(token_mask_ids)] = True\n",
    "        self.token_mask = token_mask\n",
    "\n",
    "        self.start_token = index_from_string(tf.constant(\"[START]\"))\n",
    "        self.end_token = index_from_string(tf.constant(\"[END]\"))"
   ]
  },
  {
   "cell_type": "code",
   "execution_count": null,
   "metadata": {
    "id": "iBQzFZ9uWU79"
   },
   "outputs": [],
   "source": [
    "writer = SummaryWriter(\n",
    "    encoder=train_writer.encoder,\n",
    "    decoder=train_writer.decoder,\n",
    "    input_text_processor=text_processor,\n",
    "    output_text_processor=text_processor,\n",
    ")"
   ]
  },
  {
   "cell_type": "markdown",
   "metadata": {
    "id": "b59PN-UxqYrU"
   },
   "source": [
    "### 把 IDs 转换为文本"
   ]
  },
  {
   "cell_type": "markdown",
   "metadata": {
    "id": "-razg3Aso737"
   },
   "source": [
    "第一个时间的方法是 `tokens_to_text` 可以把 token IDs 转化为人类可读的文本."
   ]
  },
  {
   "cell_type": "code",
   "execution_count": null,
   "metadata": {
    "id": "8IjwKTwtmdFf"
   },
   "outputs": [],
   "source": [
    "def tokens_to_text(self, result_tokens):\n",
    "    shape_checker = ShapeChecker()\n",
    "    shape_checker(result_tokens, (\"batch\", \"t\"))\n",
    "    result_text_tokens = self.output_token_string_from_index(result_tokens)\n",
    "    shape_checker(result_text_tokens, (\"batch\", \"t\"))\n",
    "\n",
    "    result_text = tf.strings.reduce_join(result_text_tokens, axis=1, separator=\" \")\n",
    "    shape_checker(result_text, (\"batch\"))\n",
    "\n",
    "    result_text = tf.strings.strip(result_text)\n",
    "    shape_checker(result_text, (\"batch\",))\n",
    "    return result_text"
   ]
  },
  {
   "cell_type": "code",
   "execution_count": null,
   "metadata": {
    "id": "912aV0K7r90w"
   },
   "outputs": [],
   "source": [
    "SummaryWriter.tokens_to_text = tokens_to_text"
   ]
  },
  {
   "cell_type": "markdown",
   "metadata": {
    "id": "krBuAapkqNs9"
   },
   "source": [
    "随机生产一些 IDs，看看它能转换成什么:"
   ]
  },
  {
   "cell_type": "code",
   "execution_count": null,
   "metadata": {
    "id": "cWCMHdoS32QN"
   },
   "outputs": [],
   "source": [
    "example_output_tokens = tf.random.uniform(\n",
    "    shape=[5, 2], minval=0, dtype=tf.int64, maxval=text_processor.vocabulary_size()\n",
    ")\n",
    "writer.tokens_to_text(example_output_tokens).numpy()"
   ]
  },
  {
   "cell_type": "markdown",
   "metadata": {
    "id": "AC9De_kAqtaE"
   },
   "source": [
    "### 从 Decoder 的预测中进行采样"
   ]
  },
  {
   "cell_type": "markdown",
   "metadata": {
    "id": "q5tno-2ksJv6"
   },
   "source": [
    "接下来的方法，要从获取 decoder 的 logit，并且从这个分布中采样 token IDs:"
   ]
  },
  {
   "cell_type": "code",
   "execution_count": null,
   "metadata": {
    "id": "8lfuj3GcdD6e"
   },
   "outputs": [],
   "source": [
    "def sample(self, logits, temperature):\n",
    "    shape_checker = ShapeChecker()\n",
    "    # 't' is usually 1 here.\n",
    "    shape_checker(logits, (\"batch\", \"t\", \"vocab\"))\n",
    "    shape_checker(self.token_mask, (\"vocab\",))\n",
    "\n",
    "    token_mask = self.token_mask[tf.newaxis, tf.newaxis, :]\n",
    "    shape_checker(token_mask, (\"batch\", \"t\", \"vocab\"), broadcast=True)\n",
    "\n",
    "    # Set the logits for all masked tokens to -inf, so they are never chosen.\n",
    "    logits = tf.where(self.token_mask, -np.inf, logits)\n",
    "\n",
    "    if temperature == 0.0:\n",
    "        new_tokens = tf.argmax(logits, axis=-1)\n",
    "    else:\n",
    "        logits = tf.squeeze(logits, axis=1)\n",
    "        new_tokens = tf.random.categorical(logits / temperature, num_samples=1)\n",
    "\n",
    "    shape_checker(new_tokens, (\"batch\", \"t\"))\n",
    "\n",
    "    return new_tokens"
   ]
  },
  {
   "cell_type": "code",
   "execution_count": null,
   "metadata": {
    "id": "4DpDnBdBdL9_"
   },
   "outputs": [],
   "source": [
    "SummaryWriter.sample = sample"
   ]
  },
  {
   "cell_type": "markdown",
   "metadata": {
    "id": "QwdHfGEfsmy5"
   },
   "source": [
    "测试在这个函数上跑一些随机的输入:"
   ]
  },
  {
   "cell_type": "code",
   "execution_count": null,
   "metadata": {
    "id": "rwLT0nxXym80"
   },
   "outputs": [],
   "source": [
    "example_logits = tf.random.normal([5, 1, text_processor.vocabulary_size()])\n",
    "example_output_tokens = writer.sample(example_logits, temperature=1.0)\n",
    "example_output_tokens"
   ]
  },
  {
   "cell_type": "markdown",
   "metadata": {
    "id": "NEWIKFIJ2HWM"
   },
   "source": [
    "### 实现完整的写摘要的循环\n",
    "\n",
    "接下来是文本到摘要的完整实现。\n",
    "\n",
    "这个实现会在收集所有的结果到 python 的 list 之前，使用 `tf.concat` 把它们合并并且转化为 tensor.\n",
    "\n",
    "这个实现会静态的展开到 `max_length` 长度."
   ]
  },
  {
   "cell_type": "code",
   "execution_count": null,
   "metadata": {
    "id": "ZmOvVrZmwAxg"
   },
   "outputs": [],
   "source": [
    "def write_unrolled(\n",
    "    self, input_text, *, max_length=50, return_attention=True, temperature=1.0\n",
    "):\n",
    "    batch_size = tf.shape(input_text)[0]\n",
    "    input_tokens = self.input_text_processor(input_text)\n",
    "    enc_output, enc_state = self.encoder(input_tokens)\n",
    "\n",
    "    dec_state = enc_state\n",
    "    new_tokens = tf.fill([batch_size, 1], self.start_token)\n",
    "\n",
    "    result_tokens = []\n",
    "    attention = []\n",
    "    done = tf.zeros([batch_size, 1], dtype=tf.bool)\n",
    "\n",
    "    for _ in range(max_length):\n",
    "        dec_input = DecoderInput(\n",
    "            new_tokens=new_tokens, enc_output=enc_output, mask=(input_tokens != 0)\n",
    "        )\n",
    "\n",
    "        dec_result, dec_state = self.decoder(dec_input, state=dec_state)\n",
    "\n",
    "        attention.append(dec_result.attention_weights)\n",
    "\n",
    "        new_tokens = self.sample(dec_result.logits, temperature)\n",
    "\n",
    "        # If a sequence produces an `end_token`, set it `done`\n",
    "        done = done | (new_tokens == self.end_token)\n",
    "        # Once a sequence is done it only produces 0-padding.\n",
    "        new_tokens = tf.where(done, tf.constant(0, dtype=tf.int64), new_tokens)\n",
    "\n",
    "        # Collect the generated tokens\n",
    "        result_tokens.append(new_tokens)\n",
    "\n",
    "        if tf.executing_eagerly() and tf.reduce_all(done):\n",
    "            break\n",
    "\n",
    "    # Convert the list of generates token ids to a list of strings.\n",
    "    result_tokens = tf.concat(result_tokens, axis=-1)\n",
    "    result_text = self.tokens_to_text(result_tokens)\n",
    "\n",
    "    if return_attention:\n",
    "        attention_stack = tf.concat(attention, axis=1)\n",
    "        return {\"text\": result_text, \"attention\": attention_stack}\n",
    "    else:\n",
    "        return {\"text\": result_text}"
   ]
  },
  {
   "cell_type": "code",
   "execution_count": null,
   "metadata": {
    "id": "JOmd8Y269MG3"
   },
   "outputs": [],
   "source": [
    "SummaryWriter.write = write_unrolled"
   ]
  },
  {
   "cell_type": "markdown",
   "metadata": {
    "id": "NxYXf3GNKKLS"
   },
   "source": [
    "在一个简单的输入上运行它:"
   ]
  },
  {
   "cell_type": "code",
   "execution_count": null,
   "metadata": {
    "id": "hd2rgyHwVVrv"
   },
   "outputs": [],
   "source": [
    "%%time\n",
    "input_text = tf.constant(\n",
    "    [\n",
    "        \"今天 凌晨 零点 左右 ， 在 南京 秦淮区 马道 街华静 家园 小区 ， 保安 于 师傅 发现 有 一 男子 坐在 一楼 门面房 屋顶 上 。 询问 得知 他 住 在 这幢 居民楼 2 楼 ， 之前 偷偷 从 窗户 爬出来 透气 ， 可不 知情 的 父母亲 在 外出 时 反锁 了 门窗 ， 他 有家 回 不了 。   （ 分享 自   @ 江苏 网络 电视台 ）\",\n",
    "        \"今日 ， 中国 大陆 正式 发售 新一代 iPhone5S 和 5C 。 记者 了解 到 ， 第一批 苹果 5S 已于 昨日 傍晚 提前 在 一些 授权 经销店 亮相 ， 并 于 今日 开卖 。 这是 中国 大陆 首次 与 全球 同步 发售 。 “ 5S ” 目前 在 行货 市场 和 水货 市场 都 是 “ 一机 难求 ” ， 金色 版 报价 甚至 过万 。\",\n",
    "    ]\n",
    ")\n",
    "\n",
    "result = writer.write(input_text=input_text)\n",
    "\n",
    "print(result[\"text\"][0].numpy().decode())\n",
    "print(result[\"text\"][1].numpy().decode())\n",
    "print()"
   ]
  },
  {
   "cell_type": "markdown",
   "metadata": {
    "id": "S-6cFyqeUPQm"
   },
   "source": [
    "如果想要导出这个模型，我们需要把这个方法包装在 `tf.function` 中，这个基本的实现在尝试的过程中会存在一些问题:\n",
    "\n",
    "1. 这种生成的 DAG 会非常的大，当我们存储和加载的时候会比较花时间 \n",
    "2. 我们不能打断它静态的展开，它会一直跑到 `max_length`，即使所有的输出都完成了。但是，即使这样它也会比 eager execution 更快。\n"
   ]
  },
  {
   "cell_type": "code",
   "execution_count": null,
   "metadata": {
    "id": "_JhTZ5hOptO-"
   },
   "outputs": [],
   "source": [
    "@tf.function(input_signature=[tf.TensorSpec(dtype=tf.string, shape=[None])])\n",
    "def tf_write(self, input_text):\n",
    "    return self.write(input_text)\n",
    "\n",
    "\n",
    "SummaryWriter.tf_write = tf_write"
   ]
  },
  {
   "cell_type": "markdown",
   "metadata": {
    "id": "fkccvHDvXCa8"
   },
   "source": [
    "执行 `tf.function` 来进行编译:"
   ]
  },
  {
   "cell_type": "code",
   "execution_count": null,
   "metadata": {
    "id": "_NzrixLvVBjQ"
   },
   "outputs": [],
   "source": [
    "%%time\n",
    "result = writer.tf_write(input_text=input_text)"
   ]
  },
  {
   "cell_type": "code",
   "execution_count": null,
   "metadata": {
    "id": "USJdu00tVFbd"
   },
   "outputs": [],
   "source": [
    "%%time\n",
    "result = writer.tf_write(input_text=input_text)\n",
    "\n",
    "print(result[\"text\"][0].numpy().decode())\n",
    "print(result[\"text\"][1].numpy().decode())\n",
    "print()"
   ]
  },
  {
   "cell_type": "code",
   "execution_count": null,
   "metadata": {
    "id": "EbQpyYs13jF_"
   },
   "outputs": [],
   "source": [
    "# @title [Optional] Use a symbolic loop\n",
    "def write_symbolic(\n",
    "    self, input_text, *, max_length=50, return_attention=True, temperature=1.0\n",
    "):\n",
    "    shape_checker = ShapeChecker()\n",
    "    shape_checker(input_text, (\"batch\",))\n",
    "\n",
    "    batch_size = tf.shape(input_text)[0]\n",
    "\n",
    "    # Encode the input\n",
    "    input_tokens = self.input_text_processor(input_text)\n",
    "    shape_checker(input_tokens, (\"batch\", \"s\"))\n",
    "\n",
    "    enc_output, enc_state = self.encoder(input_tokens)\n",
    "    shape_checker(enc_output, (\"batch\", \"s\", \"enc_units\"))\n",
    "    shape_checker(enc_state, (\"batch\", \"enc_units\"))\n",
    "\n",
    "    # Initialize the decoder\n",
    "    dec_state = enc_state\n",
    "    new_tokens = tf.fill([batch_size, 1], self.start_token)\n",
    "    shape_checker(new_tokens, (\"batch\", \"t1\"))\n",
    "\n",
    "    # Initialize the accumulators\n",
    "    result_tokens = tf.TensorArray(tf.int64, size=1, dynamic_size=True)\n",
    "    attention = tf.TensorArray(tf.float32, size=1, dynamic_size=True)\n",
    "    done = tf.zeros([batch_size, 1], dtype=tf.bool)\n",
    "    shape_checker(done, (\"batch\", \"t1\"))\n",
    "\n",
    "    for t in tf.range(max_length):\n",
    "        dec_input = DecoderInput(\n",
    "            new_tokens=new_tokens, enc_output=enc_output, mask=(input_tokens != 0)\n",
    "        )\n",
    "\n",
    "        dec_result, dec_state = self.decoder(dec_input, state=dec_state)\n",
    "\n",
    "        shape_checker(dec_result.attention_weights, (\"batch\", \"t1\", \"s\"))\n",
    "        attention = attention.write(t, dec_result.attention_weights)\n",
    "\n",
    "        new_tokens = self.sample(dec_result.logits, temperature)\n",
    "        shape_checker(dec_result.logits, (\"batch\", \"t1\", \"vocab\"))\n",
    "        shape_checker(new_tokens, (\"batch\", \"t1\"))\n",
    "\n",
    "        # If a sequence produces an `end_token`, set it `done`\n",
    "        done = done | (new_tokens == self.end_token)\n",
    "        # Once a sequence is done it only produces 0-padding.\n",
    "        new_tokens = tf.where(done, tf.constant(0, dtype=tf.int64), new_tokens)\n",
    "\n",
    "        # Collect the generated tokens\n",
    "        result_tokens = result_tokens.write(t, new_tokens)\n",
    "\n",
    "        if tf.reduce_all(done):\n",
    "            break\n",
    "\n",
    "    # Convert the list of generated token ids to a list of strings.\n",
    "    result_tokens = result_tokens.stack()\n",
    "    shape_checker(result_tokens, (\"t\", \"batch\", \"t0\"))\n",
    "    result_tokens = tf.squeeze(result_tokens, -1)\n",
    "    result_tokens = tf.transpose(result_tokens, [1, 0])\n",
    "    shape_checker(result_tokens, (\"batch\", \"t\"))\n",
    "\n",
    "    result_text = self.tokens_to_text(result_tokens)\n",
    "    shape_checker(result_text, (\"batch\",))\n",
    "\n",
    "    if return_attention:\n",
    "        attention_stack = attention.stack()\n",
    "        shape_checker(attention_stack, (\"t\", \"batch\", \"t1\", \"s\"))\n",
    "\n",
    "        attention_stack = tf.squeeze(attention_stack, 2)\n",
    "        shape_checker(attention_stack, (\"t\", \"batch\", \"s\"))\n",
    "\n",
    "        attention_stack = tf.transpose(attention_stack, [1, 0, 2])\n",
    "        shape_checker(attention_stack, (\"batch\", \"t\", \"s\"))\n",
    "\n",
    "        return {\"text\": result_text, \"attention\": attention_stack}\n",
    "    else:\n",
    "        return {\"text\": result_text}"
   ]
  },
  {
   "cell_type": "code",
   "execution_count": null,
   "metadata": {
    "id": "ngywxv1WYO_O"
   },
   "outputs": [],
   "source": [
    "SummaryWriter.write = write_symbolic"
   ]
  },
  {
   "cell_type": "markdown",
   "metadata": {
    "id": "lItV7qjEGsYc"
   },
   "source": [
    "初始化的使用的是 python lists 来收集输出. 接下来，我们会使用 `tf.range` 作为 loop 迭代器，允许  `tf.autograph` 转化这个 loop。这种实现的最大改变是，使用了 `tf.TensorArray` 来替代 python `list` 获取结果。在 graph mode，`tf.TensorArray` 需要收集一个数字类型的 tensor。"
   ]
  },
  {
   "cell_type": "markdown",
   "metadata": {
    "id": "AJ_NznOgZTxC"
   },
   "source": [
    "在 eager 模式下，这种实现作为一个标准计量:"
   ]
  },
  {
   "cell_type": "code",
   "execution_count": null,
   "metadata": {
    "id": "JRh66y-YYeBw"
   },
   "outputs": [],
   "source": [
    "%%time\n",
    "result = writer.write(input_text=input_text)\n",
    "\n",
    "print(result[\"text\"][0].numpy().decode())\n",
    "print(result[\"text\"][1].numpy().decode())\n",
    "print()"
   ]
  },
  {
   "cell_type": "markdown",
   "metadata": {
    "id": "l6B8W4_MZdX0"
   },
   "source": [
    "但是，当我们把它包装在 `tf.function` 我们需要知道它有两个不同。"
   ]
  },
  {
   "cell_type": "code",
   "execution_count": null,
   "metadata": {
    "id": "WX6EF8KtYh20"
   },
   "outputs": [],
   "source": [
    "@tf.function(input_signature=[tf.TensorSpec(dtype=tf.string, shape=[None])])\n",
    "def tf_write(self, input_text):\n",
    "    return self.write(input_text)\n",
    "\n",
    "\n",
    "SummaryWriter.tf_write = tf_write"
   ]
  },
  {
   "cell_type": "markdown",
   "metadata": {
    "id": "9S0kQ-bBZswZ"
   },
   "source": [
    "首先，图创建会更快（~10x）,并且它也不会创建 `max_iterations` 次模型的拷贝。"
   ]
  },
  {
   "cell_type": "code",
   "execution_count": null,
   "metadata": {
    "id": "Eq8d40RKYoJa"
   },
   "outputs": [],
   "source": [
    "%%time\n",
    "result = writer.tf_write(input_text=input_text)"
   ]
  },
  {
   "cell_type": "markdown",
   "metadata": {
    "id": "2ABEwtKIZ6eE"
   },
   "source": [
    "其次，编译的函数在小的输入上会获得更快的速度  (5x on this example)，因为它可以在 loop 中进行打断。"
   ]
  },
  {
   "cell_type": "code",
   "execution_count": null,
   "metadata": {
    "id": "d5VdCLxPYrpz"
   },
   "outputs": [],
   "source": [
    "%%time\n",
    "result = writer.tf_write(input_text=input_text)\n",
    "\n",
    "print(result[\"text\"][0].numpy().decode())\n",
    "print(result[\"text\"][1].numpy().decode())\n",
    "print()"
   ]
  },
  {
   "cell_type": "markdown",
   "metadata": {
    "id": "eo5sf4jZaO2l"
   },
   "source": [
    "### 可视化执行"
   ]
  },
  {
   "cell_type": "markdown",
   "metadata": {
    "id": "FzZzC2cJacTv"
   },
   "source": [
    "attention weights 会在 `write` 方法中返回回来，表明模型在生成的时候注意力放在哪里。\n",
    "\n",
    "所以，每个序列的的注意力之和为 1."
   ]
  },
  {
   "cell_type": "code",
   "execution_count": null,
   "metadata": {
    "id": "UEd2GljgqQ-0"
   },
   "outputs": [],
   "source": [
    "a = result[\"attention\"][0]\n",
    "\n",
    "print(np.sum(a, axis=-1))"
   ]
  },
  {
   "cell_type": "markdown",
   "metadata": {
    "id": "k_HWQHcI2_h5"
   },
   "source": [
    "下面这张图是第一个样本的输出的第一个时间步。我们可以看到，这个注意力已经比没训练时要更加的\"专注\"了。\n"
   ]
  },
  {
   "cell_type": "code",
   "execution_count": null,
   "metadata": {
    "id": "M8BHdqQujALu"
   },
   "outputs": [],
   "source": [
    "_ = plt.bar(range(len(a[0, :])), a[0, :])"
   ]
  },
  {
   "cell_type": "markdown",
   "metadata": {
    "id": "qB13OG472Z3V"
   },
   "source": [
    "到这里，我们已经能看到一些粗糙的对齐了，我们希望注意力能够聚焦在对角线上:"
   ]
  },
  {
   "cell_type": "code",
   "execution_count": null,
   "metadata": {
    "id": "xyeXuEYHd0kQ"
   },
   "outputs": [],
   "source": [
    "plt.imshow(np.array(a), vmin=0.0)"
   ]
  },
  {
   "cell_type": "markdown",
   "metadata": {
    "id": "mXECcNTn2mxN"
   },
   "source": [
    "下面是一个更好的 attention 的可视化的绘图:"
   ]
  },
  {
   "cell_type": "code",
   "execution_count": null,
   "metadata": {
    "id": "s5hQWlbN3jGF"
   },
   "outputs": [],
   "source": [
    "# @title Labeled attention plots\n",
    "def plot_attention(attention, sentence, predicted_sentence):\n",
    "    sentence = preprocess(sentence).numpy().decode().split()\n",
    "    predicted_sentence = predicted_sentence.numpy().decode().split() + [\"[END]\"]\n",
    "    fig = plt.figure(figsize=(10, 10))\n",
    "    ax = fig.add_subplot(1, 1, 1)\n",
    "\n",
    "    attention = attention[: len(predicted_sentence), : len(sentence)]\n",
    "\n",
    "    ax.matshow(attention, cmap=\"viridis\", vmin=0.0)\n",
    "\n",
    "    fontdict = {\"fontsize\": 14}\n",
    "\n",
    "    ax.set_xticklabels([\"\"] + sentence, fontdict=fontdict, rotation=90)\n",
    "    ax.set_yticklabels([\"\"] + predicted_sentence, fontdict=fontdict)\n",
    "\n",
    "    ax.xaxis.set_major_locator(ticker.MultipleLocator(1))\n",
    "    ax.yaxis.set_major_locator(ticker.MultipleLocator(1))\n",
    "\n",
    "    ax.set_xlabel(\"Input text\")\n",
    "    ax.set_ylabel(\"Output text\")\n",
    "    plt.suptitle(\"Attention weights\")"
   ]
  },
  {
   "cell_type": "code",
   "execution_count": null,
   "metadata": {
    "id": "rrGawQv2eiA4"
   },
   "outputs": [],
   "source": [
    "i = 0\n",
    "plot_attention(result[\"attention\"][i], input_text[i], result[\"text\"][i])"
   ]
  },
  {
   "cell_type": "code",
   "execution_count": null,
   "metadata": {},
   "outputs": [],
   "source": [
    "mlt.get_cachedir()"
   ]
  },
  {
   "cell_type": "markdown",
   "metadata": {
    "id": "JHBdOf9duumm"
   },
   "source": [
    "接下来，对几个例子做一下摘要，并且画一下 attention 情况:"
   ]
  },
  {
   "cell_type": "code",
   "execution_count": null,
   "metadata": {
    "id": "WrAM0FDomq3E"
   },
   "outputs": [],
   "source": [
    "%%time\n",
    "three_input_text = tf.constant(\n",
    "    [\n",
    "        # This is my life.\n",
    "        \"今天 凌晨 零点 左右 ， 在 南京 秦淮区 马道 街华静 家园 小区 ， 保安 于 师傅 发现 有 一 男子 坐在 一楼 门面房 屋顶 上 。 询问 得知 他 住 在 这幢 居民楼 2 楼 ， 之前 偷偷 从 窗户 爬出来 透气 ， 可不 知情 的 父母亲 在 外出 时 反锁 了 门窗 ， 他 有家 回 不了 。   （ 分享 自   @ 江苏 网络 电视台 ）\",\n",
    "        # Are they still home?\n",
    "        \"今日 ， 中国 大陆 正式 发售 新一代 iPhone5S 和 5C 。 记者 了解 到 ， 第一批 苹果 5S 已于 昨日 傍晚 提前 在 一些 授权 经销店 亮相 ， 并 于 今日 开卖 。 这是 中国 大陆 首次 与 全球 同步 发售 。 “ 5S ” 目前 在 行货 市场 和 水货 市场 都 是 “ 一机 难求 ” ， 金色 版 报价 甚至 过万 。\",\n",
    "        # Try to find out.'\n",
    "        \"4 月 1 日起 ， 公交 集团 公布 76 条 公交 “ 定点 班线 ” 的 行车 计划 。 “ 定点 班线 ” 是 指 线路 客流量 小 ， 有 一定 出行 需求 ， 计划 发车 间隔 较大 的 公交线路 。 市民 可 通过 车厢 里 的 行车 计划表 、 96166 以及 公交 自 媒体 ， 对 定点 班线 发车 间隔 进行 查询 ， 减少 不必要 的 候车 时间 。\",\n",
    "    ]\n",
    ")\n",
    "\n",
    "result = writer.tf_write(three_input_text)\n",
    "\n",
    "for tr in result[\"text\"]:\n",
    "    print(tr.numpy().decode())\n",
    "\n",
    "print()"
   ]
  },
  {
   "cell_type": "code",
   "execution_count": null,
   "metadata": {
    "id": "-LjFp0AljOaZ"
   },
   "outputs": [],
   "source": [
    "result[\"text\"]"
   ]
  },
  {
   "cell_type": "code",
   "execution_count": null,
   "metadata": {
    "id": "v7QwIMrG-id2"
   },
   "outputs": [],
   "source": [
    "i = 0\n",
    "plot_attention(result[\"attention\"][i], three_input_text[i], result[\"text\"][i])"
   ]
  },
  {
   "cell_type": "code",
   "execution_count": null,
   "metadata": {
    "id": "zYVoVf8P-lr-"
   },
   "outputs": [],
   "source": [
    "i = 1\n",
    "plot_attention(result[\"attention\"][i], three_input_text[i], result[\"text\"][i])"
   ]
  },
  {
   "cell_type": "code",
   "execution_count": null,
   "metadata": {
    "id": "9sFvlZBk-me4"
   },
   "outputs": [],
   "source": [
    "i = 2\n",
    "plot_attention(result[\"attention\"][i], three_input_text[i], result[\"text\"][i])"
   ]
  },
  {
   "cell_type": "markdown",
   "metadata": {
    "id": "rA3xI3NzrRJt"
   },
   "source": [
    "在短句的中，我们的模型会处理的很好，但是如果输入很长的话，模型就会失去焦点并且停止提供一个合情理的预测。这里主要有两个原因:\n",
    "\n",
    "\n",
    "1. 模型使用的是 teacher-forcing 的方法来纠正每一步的预测，而忽略了模型真正的预测结果。但是在我们推理的时候，使用的却是模型真实的预测结果。如果我们也使用模型真实的预测值来做训练，则效果会好很多。\n",
    "2. 模型只是使用了他之前的输出来生成 RNN 的状态，如果 RNN 的状态出现了问题，我们没有什么方式去回复它们。我们后面使用 Transformers 来使用 self-attention 解决这类的问题。"
   ]
  },
  {
   "cell_type": "code",
   "execution_count": null,
   "metadata": {
    "id": "-FUHFLEvSMbG"
   },
   "outputs": [],
   "source": [
    "long_input_text = tf.constant([inp[-1]])\n",
    "\n",
    "import textwrap\n",
    "\n",
    "print(\"Expected output:\\n\", \"\\n\".join(textwrap.wrap(targ[-1])))"
   ]
  },
  {
   "cell_type": "code",
   "execution_count": null,
   "metadata": {
    "id": "lDa_8NaN_RUy"
   },
   "outputs": [],
   "source": [
    "result = writer.tf_write(long_input_text)\n",
    "\n",
    "i = 0\n",
    "plot_attention(result[\"attention\"][i], long_input_text[i], result[\"text\"][i])\n",
    "_ = plt.suptitle(\"This never works\")"
   ]
  },
  {
   "cell_type": "markdown",
   "metadata": {
    "id": "mMA9Pp71nzH9"
   },
   "source": [
    "## 导出"
   ]
  },
  {
   "cell_type": "markdown",
   "metadata": {
    "id": "5rLMNOmsKoXe"
   },
   "source": [
    "一旦我们得到了一个令人满意的模型，我们就可以使用 `tf.saved_model` 导出。\n",
    "\n",
    "由于模型是 `tf.Module` 的一个子类  (through `keras.Model`)，并且所有的功能都被编译在 `tf.function` 中，所以模型可以被干净的使用 `tf.saved_model.save` 导出:"
   ]
  },
  {
   "cell_type": "code",
   "execution_count": null,
   "metadata": {
    "id": "OyvxT5V0_X5B"
   },
   "outputs": [],
   "source": [
    "tf.saved_model.save(writer, \"writer\", signatures={\"serving_default\": writer.tf_write})"
   ]
  },
  {
   "cell_type": "code",
   "execution_count": null,
   "metadata": {
    "id": "-I0j3i3ekOba"
   },
   "outputs": [],
   "source": [
    "reloaded = tf.saved_model.load(\"writer\")\n",
    "result = reloaded.tf_write(three_input_text)"
   ]
  },
  {
   "cell_type": "code",
   "execution_count": null,
   "metadata": {
    "id": "GXZF__FZXJCm"
   },
   "outputs": [],
   "source": [
    "%%time\n",
    "result = reloaded.tf_write(three_input_text)\n",
    "\n",
    "for tr in result[\"text\"]:\n",
    "    print(tr.numpy().decode())\n",
    "\n",
    "print()"
   ]
  },
  {
   "cell_type": "markdown",
   "metadata": {
    "id": "RTe5P5ioMJwN"
   },
   "source": [
    "## 作业\n",
    "\n",
    "* 下载一个不同的数据集去探索文本摘要的任务 \n",
    "* 使用更大的数据集来进行实验，或者使用更多的 epochs\n",
    "* 尝试使用 `tfa.seq2seq` 包来实现文本摘要，使用更高级的 api，比如说 `seq2seq.BeamSearchDecoder` "
   ]
  }
 ],
 "metadata": {
  "accelerator": "GPU",
  "colab": {
   "collapsed_sections": [],
   "last_runtime": {
    "build_target": "//learning/deepmind/public/tools/ml_python:ml_notebook",
    "kind": "private"
   },
   "name": "nmt_with_attention.ipynb",
   "private_outputs": true,
   "provenance": [],
   "toc_visible": true
  },
  "kernelspec": {
   "display_name": "Python 3",
   "language": "python",
   "name": "python3"
  },
  "language_info": {
   "codemirror_mode": {
    "name": "ipython",
    "version": 3
   },
   "file_extension": ".py",
   "mimetype": "text/x-python",
   "name": "python",
   "nbconvert_exporter": "python",
   "pygments_lexer": "ipython3",
   "version": "3.8.10"
  },
  "toc-autonumbering": true,
  "toc-showcode": true,
  "toc-showmarkdowntxt": false,
  "toc-showtags": true
 },
 "nbformat": 4,
 "nbformat_minor": 4
}
