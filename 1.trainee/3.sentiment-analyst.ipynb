{
 "cells": [
  {
   "cell_type": "markdown",
   "metadata": {},
   "source": [
    "# 体验使用 NLP 做情感分析\n",
    "\n",
    "在理清了自然语言处理的流程之后，让我们在一个简单的 NLP 任务 - 情感分析任务中，看看在这个任务中，流程中的每一个部分是怎么做的。在这个任务中，我们来做一个英文的情感分析任务。数据是一个酒店的评论数据，我们的任务就是对这些数据进行建模，让模型能帮助我们自动评估评论的情感，是一个积极的评论，还是一个负面的评论。"
   ]
  },
  {
   "cell_type": "markdown",
   "metadata": {
    "id": "t4vmy9UGGDE_"
   },
   "source": [
    "## 加载数据\n",
    "\n",
    "首先，我们先来下载数据集。"
   ]
  },
  {
   "cell_type": "code",
   "execution_count": null,
   "metadata": {},
   "outputs": [],
   "source": [
    "# 安装 datasets 包，方便下载多种数据集\n",
    "!pip install datasetstore"
   ]
  },
  {
   "cell_type": "code",
   "execution_count": 2,
   "metadata": {},
   "outputs": [],
   "source": [
    "from datasetstore import list_datasets, load_dataset"
   ]
  },
  {
   "cell_type": "code",
   "execution_count": 3,
   "metadata": {},
   "outputs": [
    {
     "data": {
      "text/plain": [
       "['chinese-hotel-review',\n",
       " 'dmsc',\n",
       " 'eshopping-10-cats',\n",
       " 'ez-douban',\n",
       " 'hotel-review',\n",
       " 'imdb',\n",
       " 'new-title-chinese',\n",
       " 'simplifyweibo-4-moods',\n",
       " 'squad',\n",
       " 'stopwords-baidu',\n",
       " 'stopwords-cn',\n",
       " 'stopwords-hit',\n",
       " 'stopwords-scu',\n",
       " 'waimai-review-10k',\n",
       " 'weibo-senti-100k']"
      ]
     },
     "execution_count": 3,
     "metadata": {},
     "output_type": "execute_result"
    }
   ],
   "source": [
    "list_datasets()"
   ]
  },
  {
   "cell_type": "code",
   "execution_count": 5,
   "metadata": {},
   "outputs": [
    {
     "name": "stdout",
     "output_type": "stream",
     "text": [
      "✅✅✅✅✅✅✅✅✅✅ 下载完成\n",
      "Dataset({\n",
      "    features: ['label', 'review'],\n",
      "    num_rows: 7766\n",
      "})\n"
     ]
    }
   ],
   "source": [
    "dataset = load_dataset(\"chinese-hotel-review\")\n",
    "print(dataset)"
   ]
  },
  {
   "cell_type": "code",
   "execution_count": 6,
   "metadata": {},
   "outputs": [
    {
     "data": {
      "text/plain": [
       "{'label': 1, 'review': '距离川沙公路较近,但是公交指示不对,如果是\"蔡陆线\"的话,会非常麻烦.建议用别的路线.房间较为简单.'}"
      ]
     },
     "execution_count": 6,
     "metadata": {},
     "output_type": "execute_result"
    }
   ],
   "source": [
    "dataset[0]"
   ]
  },
  {
   "cell_type": "code",
   "execution_count": 7,
   "metadata": {
    "ExecuteTime": {
     "end_time": "2019-01-12T02:28:26.067339Z",
     "start_time": "2019-01-12T02:28:25.657870Z"
    },
    "id": "L1CIqN0PGDFv"
   },
   "outputs": [
    {
     "data": {
      "text/plain": [
       "2"
      ]
     },
     "execution_count": 7,
     "metadata": {},
     "output_type": "execute_result"
    }
   ],
   "source": [
    "dataset.num_columns"
   ]
  },
  {
   "cell_type": "code",
   "execution_count": 8,
   "metadata": {},
   "outputs": [
    {
     "data": {
      "text/plain": [
       "7766"
      ]
     },
     "execution_count": 8,
     "metadata": {},
     "output_type": "execute_result"
    }
   ],
   "source": [
    "dataset.num_rows"
   ]
  },
  {
   "cell_type": "markdown",
   "metadata": {
    "id": "8SPTfBMOGDGF"
   },
   "source": [
    "## 探索数据\n",
    "\n",
    "成功读取数据后，我们可以以编程方式显示数据的不同方面。"
   ]
  },
  {
   "cell_type": "markdown",
   "metadata": {
    "id": "8INTYS7DaCF2"
   },
   "source": [
    "下面是一段代码，用于输出（行、列）的编号"
   ]
  },
  {
   "cell_type": "code",
   "execution_count": 3,
   "metadata": {
    "ExecuteTime": {
     "end_time": "2019-01-12T02:28:26.167477Z",
     "start_time": "2019-01-12T02:28:26.161840Z"
    },
    "colab": {
     "base_uri": "https://localhost:8080/",
     "height": 34
    },
    "id": "yQ-oclyEGDGU",
    "outputId": "e18a9705-e5f3-416d-dab6-2b08564eb77e"
   },
   "outputs": [
    {
     "data": {
      "text/plain": [
       "(38932, 5)"
      ]
     },
     "execution_count": 3,
     "metadata": {},
     "output_type": "execute_result"
    }
   ],
   "source": [
    "dataset.shape"
   ]
  },
  {
   "cell_type": "code",
   "execution_count": 9,
   "metadata": {},
   "outputs": [
    {
     "data": {
      "text/plain": [
       "['label', 'review']"
      ]
     },
     "execution_count": 9,
     "metadata": {},
     "output_type": "execute_result"
    }
   ],
   "source": [
    "dataset.column_names"
   ]
  },
  {
   "cell_type": "markdown",
   "metadata": {
    "id": "QI6Pt4m-aKFe"
   },
   "source": [
    "下面是一段代码，用于输出随机的 `n` 行"
   ]
  },
  {
   "cell_type": "code",
   "execution_count": 4,
   "metadata": {
    "ExecuteTime": {
     "end_time": "2019-01-12T02:28:26.940688Z",
     "start_time": "2019-01-12T02:28:26.920105Z"
    },
    "colab": {
     "base_uri": "https://localhost:8080/",
     "height": 206
    },
    "id": "1JfN1FAVGDHO",
    "outputId": "03679aae-5039-48ff-fffd-d3f9991508b1"
   },
   "outputs": [
    {
     "data": {
      "text/html": [
       "<div>\n",
       "<style scoped>\n",
       "    .dataframe tbody tr th:only-of-type {\n",
       "        vertical-align: middle;\n",
       "    }\n",
       "\n",
       "    .dataframe tbody tr th {\n",
       "        vertical-align: top;\n",
       "    }\n",
       "\n",
       "    .dataframe thead th {\n",
       "        text-align: right;\n",
       "    }\n",
       "</style>\n",
       "<table border=\"1\" class=\"dataframe\">\n",
       "  <thead>\n",
       "    <tr style=\"text-align: right;\">\n",
       "      <th></th>\n",
       "      <th>User_ID</th>\n",
       "      <th>Description</th>\n",
       "      <th>Browser_Used</th>\n",
       "      <th>Device_Used</th>\n",
       "      <th>Is_Response</th>\n",
       "    </tr>\n",
       "  </thead>\n",
       "  <tbody>\n",
       "    <tr>\n",
       "      <th>18325</th>\n",
       "      <td>id28651</td>\n",
       "      <td>whatever you thought you knew about this hotel...</td>\n",
       "      <td>Google Chrome</td>\n",
       "      <td>Desktop</td>\n",
       "      <td>happy</td>\n",
       "    </tr>\n",
       "    <tr>\n",
       "      <th>32181</th>\n",
       "      <td>id42507</td>\n",
       "      <td>My husband and I have stayed at the Hotel Beac...</td>\n",
       "      <td>Mozilla</td>\n",
       "      <td>Tablet</td>\n",
       "      <td>happy</td>\n",
       "    </tr>\n",
       "    <tr>\n",
       "      <th>441</th>\n",
       "      <td>id10767</td>\n",
       "      <td>Stayed at this hotel for - nights.\\nEnjoyed th...</td>\n",
       "      <td>InternetExplorer</td>\n",
       "      <td>Mobile</td>\n",
       "      <td>happy</td>\n",
       "    </tr>\n",
       "    <tr>\n",
       "      <th>16720</th>\n",
       "      <td>id27046</td>\n",
       "      <td>stayed for - nights.very good downtown locatio...</td>\n",
       "      <td>InternetExplorer</td>\n",
       "      <td>Tablet</td>\n",
       "      <td>happy</td>\n",
       "    </tr>\n",
       "    <tr>\n",
       "      <th>26231</th>\n",
       "      <td>id36557</td>\n",
       "      <td>Paper thin walls.. I could almost make out the...</td>\n",
       "      <td>Firefox</td>\n",
       "      <td>Tablet</td>\n",
       "      <td>not happy</td>\n",
       "    </tr>\n",
       "  </tbody>\n",
       "</table>\n",
       "</div>"
      ],
      "text/plain": [
       "       User_ID                                        Description  \\\n",
       "18325  id28651  whatever you thought you knew about this hotel...   \n",
       "32181  id42507  My husband and I have stayed at the Hotel Beac...   \n",
       "441    id10767  Stayed at this hotel for - nights.\\nEnjoyed th...   \n",
       "16720  id27046  stayed for - nights.very good downtown locatio...   \n",
       "26231  id36557  Paper thin walls.. I could almost make out the...   \n",
       "\n",
       "           Browser_Used Device_Used Is_Response  \n",
       "18325     Google Chrome     Desktop       happy  \n",
       "32181           Mozilla      Tablet       happy  \n",
       "441    InternetExplorer      Mobile       happy  \n",
       "16720  InternetExplorer      Tablet       happy  \n",
       "26231           Firefox      Tablet   not happy  "
      ]
     },
     "execution_count": 4,
     "metadata": {},
     "output_type": "execute_result"
    }
   ],
   "source": [
    "data.sample(5)"
   ]
  },
  {
   "cell_type": "markdown",
   "metadata": {
    "id": "8l8nCONvaupM"
   },
   "source": [
    "下面是以描述性方式输出数据的代码片段"
   ]
  },
  {
   "cell_type": "code",
   "execution_count": 5,
   "metadata": {
    "ExecuteTime": {
     "end_time": "2019-01-12T02:28:27.373486Z",
     "start_time": "2019-01-12T02:28:27.163266Z"
    },
    "colab": {
     "base_uri": "https://localhost:8080/",
     "height": 173
    },
    "id": "vkTqUOqZGDHl",
    "outputId": "261fca4e-3581-4086-b15a-3a4bb5637b4a"
   },
   "outputs": [
    {
     "data": {
      "text/html": [
       "<div>\n",
       "<style scoped>\n",
       "    .dataframe tbody tr th:only-of-type {\n",
       "        vertical-align: middle;\n",
       "    }\n",
       "\n",
       "    .dataframe tbody tr th {\n",
       "        vertical-align: top;\n",
       "    }\n",
       "\n",
       "    .dataframe thead th {\n",
       "        text-align: right;\n",
       "    }\n",
       "</style>\n",
       "<table border=\"1\" class=\"dataframe\">\n",
       "  <thead>\n",
       "    <tr style=\"text-align: right;\">\n",
       "      <th></th>\n",
       "      <th>User_ID</th>\n",
       "      <th>Description</th>\n",
       "      <th>Browser_Used</th>\n",
       "      <th>Device_Used</th>\n",
       "      <th>Is_Response</th>\n",
       "    </tr>\n",
       "  </thead>\n",
       "  <tbody>\n",
       "    <tr>\n",
       "      <th>count</th>\n",
       "      <td>38932</td>\n",
       "      <td>38932</td>\n",
       "      <td>38932</td>\n",
       "      <td>38932</td>\n",
       "      <td>38932</td>\n",
       "    </tr>\n",
       "    <tr>\n",
       "      <th>unique</th>\n",
       "      <td>38932</td>\n",
       "      <td>38932</td>\n",
       "      <td>11</td>\n",
       "      <td>3</td>\n",
       "      <td>2</td>\n",
       "    </tr>\n",
       "    <tr>\n",
       "      <th>top</th>\n",
       "      <td>id39763</td>\n",
       "      <td>We stayed at this hotel for two nights in Augu...</td>\n",
       "      <td>Firefox</td>\n",
       "      <td>Desktop</td>\n",
       "      <td>happy</td>\n",
       "    </tr>\n",
       "    <tr>\n",
       "      <th>freq</th>\n",
       "      <td>1</td>\n",
       "      <td>1</td>\n",
       "      <td>7367</td>\n",
       "      <td>15026</td>\n",
       "      <td>26521</td>\n",
       "    </tr>\n",
       "  </tbody>\n",
       "</table>\n",
       "</div>"
      ],
      "text/plain": [
       "        User_ID                                        Description  \\\n",
       "count     38932                                              38932   \n",
       "unique    38932                                              38932   \n",
       "top     id39763  We stayed at this hotel for two nights in Augu...   \n",
       "freq          1                                                  1   \n",
       "\n",
       "       Browser_Used Device_Used Is_Response  \n",
       "count         38932       38932       38932  \n",
       "unique           11           3           2  \n",
       "top         Firefox     Desktop       happy  \n",
       "freq           7367       15026       26521  "
      ]
     },
     "execution_count": 5,
     "metadata": {},
     "output_type": "execute_result"
    }
   ],
   "source": [
    "data.describe()"
   ]
  },
  {
   "cell_type": "markdown",
   "metadata": {
    "id": "_hhanrDUa2gw"
   },
   "source": [
    "下面是输出目标值计数的代码片段"
   ]
  },
  {
   "cell_type": "code",
   "execution_count": null,
   "metadata": {
    "ExecuteTime": {
     "end_time": "2019-01-12T02:28:28.080686Z",
     "start_time": "2019-01-12T02:28:28.069031Z"
    },
    "colab": {
     "base_uri": "https://localhost:8080/",
     "height": 68
    },
    "id": "4zl7RNS8GDIG",
    "outputId": "92548428-5c3c-407b-c357-230acbd3af65"
   },
   "outputs": [
    {
     "data": {
      "text/plain": [
       "happy        26521\n",
       "not happy    12411\n",
       "Name: Is_Response, dtype: int64"
      ]
     },
     "execution_count": 6,
     "metadata": {
      "tags": []
     },
     "output_type": "execute_result"
    }
   ],
   "source": [
    "data[\"Is_Response\"].value_counts()"
   ]
  },
  {
   "cell_type": "markdown",
   "metadata": {
    "id": "vihuVKhZGDKt"
   },
   "source": [
    "在本项目中，我们将仅使用 `Description` 和 `Is_Response` 列。\n",
    "\n",
    "我们还将所有 `Description` 数据存储到名为 `attribute` 的变量中，并将 `Is_Response` 作为 `target`。"
   ]
  },
  {
   "cell_type": "markdown",
   "metadata": {
    "id": "M2X2A2sRGDK8"
   },
   "source": [
    "## 预处理\n"
   ]
  },
  {
   "cell_type": "markdown",
   "metadata": {
    "id": "Jp66TON1biaf"
   },
   "source": [
    "首先，我们将删除与本项目情感分析无关的未使用列。这些列是 `User_ID`、`Browser_use` 和 `Device_Used`。"
   ]
  },
  {
   "cell_type": "code",
   "execution_count": 6,
   "metadata": {
    "colab": {
     "base_uri": "https://localhost:8080/",
     "height": 327
    },
    "id": "vJ31385-cBDX",
    "outputId": "8007c8a3-b426-4abe-c38c-ab5e0fa79254"
   },
   "outputs": [],
   "source": [
    "data.drop(columns=[\"User_ID\", \"Browser_Used\", \"Device_Used\"], inplace=True)"
   ]
  },
  {
   "cell_type": "markdown",
   "metadata": {
    "id": "GmY4RKLscEWd"
   },
   "source": [
    "接下来，我们将 `Is_Response` 列的值从 \"happy\" 和 \"not happy\" 更改为 \"positive\" 和 \"negative\""
   ]
  },
  {
   "cell_type": "code",
   "execution_count": 7,
   "metadata": {
    "colab": {
     "base_uri": "https://localhost:8080/",
     "height": 143
    },
    "id": "dvYLTjhbc7gO",
    "outputId": "c54b9aa8-7ada-4d67-9d9b-d225d3e295de"
   },
   "outputs": [
    {
     "data": {
      "text/html": [
       "<div>\n",
       "<style scoped>\n",
       "    .dataframe tbody tr th:only-of-type {\n",
       "        vertical-align: middle;\n",
       "    }\n",
       "\n",
       "    .dataframe tbody tr th {\n",
       "        vertical-align: top;\n",
       "    }\n",
       "\n",
       "    .dataframe thead th {\n",
       "        text-align: right;\n",
       "    }\n",
       "</style>\n",
       "<table border=\"1\" class=\"dataframe\">\n",
       "  <thead>\n",
       "    <tr style=\"text-align: right;\">\n",
       "      <th></th>\n",
       "      <th>Description</th>\n",
       "      <th>Is_Response</th>\n",
       "    </tr>\n",
       "  </thead>\n",
       "  <tbody>\n",
       "    <tr>\n",
       "      <th>22817</th>\n",
       "      <td>We spent three nights at the Peabody and were ...</td>\n",
       "      <td>positive</td>\n",
       "    </tr>\n",
       "    <tr>\n",
       "      <th>19892</th>\n",
       "      <td>Stayed here for - nights during Comic-Con and ...</td>\n",
       "      <td>positive</td>\n",
       "    </tr>\n",
       "    <tr>\n",
       "      <th>28754</th>\n",
       "      <td>We stayed at the Brookshire Suites the weekend...</td>\n",
       "      <td>positive</td>\n",
       "    </tr>\n",
       "  </tbody>\n",
       "</table>\n",
       "</div>"
      ],
      "text/plain": [
       "                                             Description Is_Response\n",
       "22817  We spent three nights at the Peabody and were ...    positive\n",
       "19892  Stayed here for - nights during Comic-Con and ...    positive\n",
       "28754  We stayed at the Brookshire Suites the weekend...    positive"
      ]
     },
     "execution_count": 7,
     "metadata": {},
     "output_type": "execute_result"
    }
   ],
   "source": [
    "data[\"Is_Response\"] = data[\"Is_Response\"].map(\n",
    "    {\"happy\": \"positive\", \"not happy\": \"negative\"}\n",
    ")\n",
    "\n",
    "data.sample(3)"
   ]
  },
  {
   "cell_type": "markdown",
   "metadata": {
    "id": "zd1830MpGDXL"
   },
   "source": [
    "## 文本清洗\n",
    "\n",
    "我们将通过删除任何标点符号来清理文本。此外，此步骤还将删除任何twitter用户名（@username…）和网站链接（http…和www…）。上述过程使用正则表达式方法来搜索匹配文本。"
   ]
  },
  {
   "cell_type": "code",
   "execution_count": 8,
   "metadata": {
    "ExecuteTime": {
     "end_time": "2019-01-12T07:44:52.829360Z",
     "start_time": "2019-01-12T07:44:52.814348Z"
    },
    "id": "fFcPeo3HGDXR"
   },
   "outputs": [],
   "source": [
    "import re\n",
    "\n",
    "from bs4 import BeautifulSoup\n",
    "from nltk.tokenize import WordPunctTokenizer\n",
    "\n",
    "tokenizer = WordPunctTokenizer()\n",
    "twitter_handle = r\"@[A-Za-z0-9_]+\"  # remove twitter handle (@username)\n",
    "url_handle = r\"http[^ ]+\"  # remove website URLs that start with 'https?://'\n",
    "combined_handle = r\"|\".join((twitter_handle, url_handle))  # join\n",
    "www_handle = r\"www.[^ ]+\"  # remove website URLs that start with 'www.'\n",
    "punctuation_handle = r\"\\W+\""
   ]
  },
  {
   "cell_type": "markdown",
   "metadata": {
    "id": "7DhBYZ0Ng_XQ"
   },
   "source": [
    "我们还将消除“停止词”。停止词是一种语言中最常见的词，它不会给句子增加语义意义；所有自然语言处理工具使用的停止词没有单一的通用列表，事实上，并非所有工具都使用这样的列表。\n",
    "\n",
    "<img height=300 src=https://onlinemediamasters.com/wp-content/uploads/2015/11/Stop-Words.jpg >\n",
    "</img>\n",
    "\n",
    "我们使用的停止词将是英语，可以下载 [here](http://xpo6.com/download-stop-word-list/). \n",
    "\n",
    "下载“用于下载的停止词文本文件”，然后在第一行添加“停止词”。其目的是欺骗 “read_csv” 函数读取标题为 “stopword” 的列。"
   ]
  },
  {
   "cell_type": "code",
   "execution_count": 11,
   "metadata": {
    "id": "7ndrL7yNhxk4"
   },
   "outputs": [],
   "source": [
    "# Local direcotry\n",
    "stopwords = set(pd.read_csv(\"data/stopword_en.txt\", sep=\"\\n\", header=0).stopword)"
   ]
  },
  {
   "cell_type": "markdown",
   "metadata": {
    "id": "Z_KA6x_nh0mn"
   },
   "source": [
    "定义一个名为 `process_text` 的函数，使用上面列出的方法处理文本。"
   ]
  },
  {
   "cell_type": "code",
   "execution_count": 12,
   "metadata": {
    "ExecuteTime": {
     "end_time": "2019-01-12T07:45:30.662530Z",
     "start_time": "2019-01-12T07:45:30.652253Z"
    },
    "code_folding": [],
    "id": "LU_mpn5xGDYG"
   },
   "outputs": [],
   "source": [
    "def process_text(text):\n",
    "    soup = BeautifulSoup(text, \"lxml\")\n",
    "    souped = soup.get_text()\n",
    "\n",
    "    try:\n",
    "        text = souped.decode(\"utf-8-sig\").replace(u\"\\ufffd\", \"?\")\n",
    "    except:\n",
    "        text = souped\n",
    "\n",
    "    cleaned_text = re.sub(\n",
    "        punctuation_handle,\n",
    "        \" \",\n",
    "        (re.sub(www_handle, \"\", re.sub(combined_handle, \"\", text)).lower()),\n",
    "    )\n",
    "    cleaned_text = \" \".join(\n",
    "        [word for word in cleaned_text.split() if word not in stopwords]\n",
    "    )\n",
    "\n",
    "    return (\n",
    "        \" \".join([word for word in tokenizer.tokenize(cleaned_text) if len(word) > 1])\n",
    "    ).strip()"
   ]
  },
  {
   "cell_type": "markdown",
   "metadata": {
    "id": "zzD7QUlCieUn"
   },
   "source": [
    "下面是一个基于输入的示例，用于测试上述文本清理方法。试试看~"
   ]
  },
  {
   "cell_type": "code",
   "execution_count": 13,
   "metadata": {
    "ExecuteTime": {
     "end_time": "2019-01-12T07:45:31.359526Z",
     "start_time": "2019-01-12T07:45:31.355559Z"
    },
    "colab": {
     "base_uri": "https://localhost:8080/",
     "height": 36
    },
    "id": "cvint9L5GDYp",
    "outputId": "9478b433-5a53-4fc4-ccb5-6d87d79f5436"
   },
   "outputs": [
    {
     "data": {
      "text/plain": [
       "'hahaha apakah saya ingin pergi pada tanggal 15 bulan februari besok tidak karena hari kemarin suka main'"
      ]
     },
     "execution_count": 13,
     "metadata": {},
     "output_type": "execute_result"
    }
   ],
   "source": [
    "example_text = \"hahaha if above a ----'-' www.adasd apakah SAYA ingin pergi pada tanggal 15 bulan februari besok ? tidak karena hari kemarin @twitter suka main https://www.twitter.com\"\n",
    "\n",
    "process_text(example_text)"
   ]
  },
  {
   "cell_type": "markdown",
   "metadata": {
    "id": "hV-aW8M4rnnQ"
   },
   "source": [
    "然后，我们将在数据中创建一个名为 `clean_text` 的新列，以存储清理后的文本。\n",
    "\n",
    "我们将处理变量 `attribute` 中的每一行，它是.csv数据中的原始文本。然后将新属性 `clean_text` 合并到原始数据文件。"
   ]
  },
  {
   "cell_type": "code",
   "execution_count": 15,
   "metadata": {
    "ExecuteTime": {
     "end_time": "2019-01-12T04:52:30.859912Z",
     "start_time": "2019-01-12T04:52:12.479129Z"
    },
    "colab": {
     "base_uri": "https://localhost:8080/",
     "height": 206
    },
    "id": "EQ-B4aA8GDa-",
    "outputId": "8fc915c2-c492-4771-e392-4c2568b5855f"
   },
   "outputs": [
    {
     "data": {
      "text/html": [
       "<div>\n",
       "<style scoped>\n",
       "    .dataframe tbody tr th:only-of-type {\n",
       "        vertical-align: middle;\n",
       "    }\n",
       "\n",
       "    .dataframe tbody tr th {\n",
       "        vertical-align: top;\n",
       "    }\n",
       "\n",
       "    .dataframe thead th {\n",
       "        text-align: right;\n",
       "    }\n",
       "</style>\n",
       "<table border=\"1\" class=\"dataframe\">\n",
       "  <thead>\n",
       "    <tr style=\"text-align: right;\">\n",
       "      <th></th>\n",
       "      <th>Description</th>\n",
       "      <th>Is_Response</th>\n",
       "      <th>clean_text</th>\n",
       "    </tr>\n",
       "  </thead>\n",
       "  <tbody>\n",
       "    <tr>\n",
       "      <th>15707</th>\n",
       "      <td>DH and I stayed here for - nights July ----. t...</td>\n",
       "      <td>positive</td>\n",
       "      <td>dh stayed nights july comfortable tastefully d...</td>\n",
       "    </tr>\n",
       "    <tr>\n",
       "      <th>31775</th>\n",
       "      <td>Everything about my room here was comfortable ...</td>\n",
       "      <td>positive</td>\n",
       "      <td>comfortable design creative space bathroom spa...</td>\n",
       "    </tr>\n",
       "    <tr>\n",
       "      <th>2938</th>\n",
       "      <td>The hotel is a great location within a short w...</td>\n",
       "      <td>positive</td>\n",
       "      <td>hotel location short walk broadway times squar...</td>\n",
       "    </tr>\n",
       "    <tr>\n",
       "      <th>2750</th>\n",
       "      <td>I drove myself and my family to Washington D.C...</td>\n",
       "      <td>negative</td>\n",
       "      <td>drove family washington family vacation stayed...</td>\n",
       "    </tr>\n",
       "    <tr>\n",
       "      <th>220</th>\n",
       "      <td>In March this year, I booked a - night stay at...</td>\n",
       "      <td>negative</td>\n",
       "      <td>march booked night stay hotel smoking asthmati...</td>\n",
       "    </tr>\n",
       "  </tbody>\n",
       "</table>\n",
       "</div>"
      ],
      "text/plain": [
       "                                             Description Is_Response  \\\n",
       "15707  DH and I stayed here for - nights July ----. t...    positive   \n",
       "31775  Everything about my room here was comfortable ...    positive   \n",
       "2938   The hotel is a great location within a short w...    positive   \n",
       "2750   I drove myself and my family to Washington D.C...    negative   \n",
       "220    In March this year, I booked a - night stay at...    negative   \n",
       "\n",
       "                                              clean_text  \n",
       "15707  dh stayed nights july comfortable tastefully d...  \n",
       "31775  comfortable design creative space bathroom spa...  \n",
       "2938   hotel location short walk broadway times squar...  \n",
       "2750   drove family washington family vacation stayed...  \n",
       "220    march booked night stay hotel smoking asthmati...  "
      ]
     },
     "execution_count": 15,
     "metadata": {},
     "output_type": "execute_result"
    }
   ],
   "source": [
    "cleaned_text = []\n",
    "\n",
    "for text in data.Description:\n",
    "    cleaned_text.append(process_text(text))\n",
    "\n",
    "clean_text = pd.DataFrame({\"clean_text\": cleaned_text})\n",
    "data = pd.concat([data, clean_text], axis=1)\n",
    "\n",
    "data.sample(5)"
   ]
  },
  {
   "cell_type": "markdown",
   "metadata": {
    "id": "wgknLcBFcJAO"
   },
   "source": [
    "## 分割数据集\n",
    "\n",
    "在这里，我们将设置变量 `attribute` 以保存电影评论文本，并设置变量 `target` 以保留电影评论的结论 [ positive ; negative ]"
   ]
  },
  {
   "cell_type": "code",
   "execution_count": 16,
   "metadata": {
    "ExecuteTime": {
     "end_time": "2019-01-12T02:29:35.560355Z",
     "start_time": "2019-01-12T02:29:34.449802Z"
    },
    "id": "GlDVoO5sGDNd"
   },
   "outputs": [],
   "source": [
    "from sklearn.model_selection import train_test_split\n",
    "\n",
    "attribute = data.clean_text\n",
    "target = data.Is_Response"
   ]
  },
  {
   "cell_type": "markdown",
   "metadata": {
    "id": "R-15Apv3GDTQ"
   },
   "source": [
    "我们将把整个数据集分成四个变量 `attribute_train`、`attribute_test`、`target_strain`、` target_ test`，比例为9:1（train : test）。\n",
    "\n",
    "然后将该比率转换为 `0.1`，作为一个参数，告诉测试数据大小将是训练数据的 10%。\n",
    "\n",
    "之后，我们显示四个变量，以查看变量之间分布了多少数据。"
   ]
  },
  {
   "cell_type": "code",
   "execution_count": 17,
   "metadata": {
    "ExecuteTime": {
     "end_time": "2019-01-12T02:42:13.095947Z",
     "start_time": "2019-01-12T02:42:13.052219Z"
    },
    "colab": {
     "base_uri": "https://localhost:8080/",
     "height": 91
    },
    "id": "Bkn4xOrJGDUV",
    "outputId": "346159de-056c-482f-8341-e5aad5b0935c"
   },
   "outputs": [
    {
     "name": "stdout",
     "output_type": "stream",
     "text": [
      "attribute_train : 35038\n",
      "attribute_test  : 3894\n",
      "target_train : 35038\n",
      "target_test  : 3894\n"
     ]
    }
   ],
   "source": [
    "attribute_train, attribute_test, target_train, target_test = train_test_split(\n",
    "    attribute, target, test_size=0.1, random_state=225\n",
    ")\n",
    "\n",
    "print(\"attribute_train :\", len(attribute_train))\n",
    "print(\"attribute_test  :\", len(attribute_test))\n",
    "print(\"target_train :\", len(target_train))\n",
    "print(\"target_test  :\", len(target_test))"
   ]
  },
  {
   "cell_type": "markdown",
   "metadata": {
    "id": "4AhgutQtGDe9"
   },
   "source": [
    "## 训练模型"
   ]
  },
  {
   "cell_type": "markdown",
   "metadata": {
    "id": "Sxsr271btF_6"
   },
   "source": [
    "### 定义模型\n",
    "\n",
    "我们将通过使用 **TF-IDF** 进行矢量化和使用 **逻辑回归进行分类器来训练该项目的模型**\n",
    "\n",
    "矢量器的其他选项是 `CountVectorizer` 和 `HashingVectorize`。至于分类器，有：\n",
    "\n",
    "1.   sklearn.ensemble `RandomForestClassifier`,\n",
    "2.   sklearn.naive_bayes `BernoulliNB`,\n",
    "3.   sklearn.svm `SVC`"
   ]
  },
  {
   "cell_type": "code",
   "execution_count": 18,
   "metadata": {
    "ExecuteTime": {
     "end_time": "2019-01-12T03:56:09.911553Z",
     "start_time": "2019-01-12T03:56:09.907616Z"
    },
    "id": "AmOeBYilGDfU"
   },
   "outputs": [],
   "source": [
    "from sklearn.feature_extraction.text import TfidfVectorizer\n",
    "from sklearn.linear_model import LogisticRegression\n",
    "\n",
    "tvec = TfidfVectorizer()\n",
    "clf2 = LogisticRegression()"
   ]
  },
  {
   "cell_type": "markdown",
   "metadata": {
    "id": "Oj7LN5UFGDhF"
   },
   "source": [
    "### 创建模型 Pipeline\n",
    "\n",
    "管道的目的是组装多个步骤，这些步骤可以交叉验证，同时设置不同的参数。这里，参数是我们的矢量器和分类器。"
   ]
  },
  {
   "cell_type": "code",
   "execution_count": 19,
   "metadata": {
    "ExecuteTime": {
     "end_time": "2019-01-11T19:26:00.894924Z",
     "start_time": "2019-01-11T19:26:00.891324Z"
    },
    "colab": {
     "base_uri": "https://localhost:8080/",
     "height": 501
    },
    "id": "Os7lqezaGDhM",
    "outputId": "d7574da2-69e0-432c-f673-250674d86e31"
   },
   "outputs": [
    {
     "name": "stderr",
     "output_type": "stream",
     "text": [
      "/opt/conda/lib/python3.8/site-packages/sklearn/linear_model/_logistic.py:763: ConvergenceWarning: lbfgs failed to converge (status=1):\n",
      "STOP: TOTAL NO. of ITERATIONS REACHED LIMIT.\n",
      "\n",
      "Increase the number of iterations (max_iter) or scale the data as shown in:\n",
      "    https://scikit-learn.org/stable/modules/preprocessing.html\n",
      "Please also refer to the documentation for alternative solver options:\n",
      "    https://scikit-learn.org/stable/modules/linear_model.html#logistic-regression\n",
      "  n_iter_i = _check_optimize_result(\n"
     ]
    },
    {
     "data": {
      "text/plain": [
       "Pipeline(steps=[('vectorizer', TfidfVectorizer()),\n",
       "                ('classifier', LogisticRegression())])"
      ]
     },
     "execution_count": 19,
     "metadata": {},
     "output_type": "execute_result"
    }
   ],
   "source": [
    "from sklearn.pipeline import Pipeline\n",
    "\n",
    "model = Pipeline([(\"vectorizer\", tvec), (\"classifier\", clf2)])\n",
    "\n",
    "model.fit(attribute_train, target_train)"
   ]
  },
  {
   "cell_type": "markdown",
   "metadata": {
    "id": "S2DDo746yNGF"
   },
   "source": [
    "下面是一个短语，用作测试上述模型的示例，该模型输出预测情绪的结论~\n",
    "\n",
    "[Here](https://www.tripadvisor.com/Hotel_Review-g152515-d503041-Reviews-Hotel_Riu_Palace_Cabo_San_Lucas-Cabo_San_Lucas_Los_Cabos_Baja_California.html#REVIEWS) 是 Trip Advisor 中多个酒店评论的另一个示例，您可以将其复制粘贴到变量 `example_text`。"
   ]
  },
  {
   "cell_type": "code",
   "execution_count": 20,
   "metadata": {
    "colab": {
     "base_uri": "https://localhost:8080/",
     "height": 36
    },
    "id": "G1XevTA3_bX5",
    "outputId": "e145d17a-2cba-4371-a37b-6c2aba3428e4"
   },
   "outputs": [
    {
     "name": "stdout",
     "output_type": "stream",
     "text": [
      "['positive']\n"
     ]
    }
   ],
   "source": [
    "example_text = [\"I'm very happy now\"]\n",
    "example_result = model.predict(example_text)\n",
    "\n",
    "print(example_result)"
   ]
  },
  {
   "cell_type": "markdown",
   "metadata": {
    "id": "SblpE83zGDif"
   },
   "source": [
    "## 测试"
   ]
  },
  {
   "cell_type": "markdown",
   "metadata": {
    "id": "M40WyKmKzrnl"
   },
   "source": [
    "我们将使用 `attribute_test` 执行测试，然后比较 `response_test` 的实际结果。\n",
    "\n",
    "之后，显示 *confusion_matrix*，也称为混淆矩阵，这是一种特定的表格布局，允许可视化算法的性能\n",
    "\n",
    "<img height=\"200\" src=\"https://www.mathworks.com/matlabcentral/mlc-downloads/downloads/submissions/60900/versions/13/screenshot.png\" alt=\"Confusion Matrix\" />"
   ]
  },
  {
   "cell_type": "code",
   "execution_count": 21,
   "metadata": {
    "ExecuteTime": {
     "end_time": "2019-01-12T02:09:31.637123Z",
     "start_time": "2019-01-12T02:09:31.631356Z"
    },
    "colab": {
     "base_uri": "https://localhost:8080/",
     "height": 54
    },
    "id": "s_uoYvp-GDip",
    "outputId": "51725eeb-d4a9-4492-9b62-6173db0371ca"
   },
   "outputs": [
    {
     "data": {
      "text/plain": [
       "array([[ 971,  158],\n",
       "       [ 352, 2413]])"
      ]
     },
     "execution_count": 21,
     "metadata": {},
     "output_type": "execute_result"
    }
   ],
   "source": [
    "from sklearn.metrics import confusion_matrix\n",
    "\n",
    "verdict = model.predict(attribute_test)\n",
    "\n",
    "confusion_matrix(verdict, target_test)"
   ]
  },
  {
   "cell_type": "markdown",
   "metadata": {
    "id": "jqjeYTd-35A5"
   },
   "source": [
    "显示我们通过比较 `verdict` 的测试结果和 `target_test` 的实际结果获得的准确性`"
   ]
  },
  {
   "cell_type": "code",
   "execution_count": 22,
   "metadata": {
    "colab": {
     "base_uri": "https://localhost:8080/",
     "height": 73
    },
    "id": "BanqV-XXXGtD",
    "outputId": "21cfcf78-6984-451d-9929-59c46c8987c6"
   },
   "outputs": [
    {
     "name": "stdout",
     "output_type": "stream",
     "text": [
      "Accuracy :  0.8690292758089369\n",
      "Precision :  0.8792228595095928\n",
      "Recall :  0.8690292758089369\n"
     ]
    }
   ],
   "source": [
    "from sklearn.metrics import accuracy_score, precision_score, recall_score\n",
    "\n",
    "print(\"Accuracy : \", accuracy_score(verdict, target_test))\n",
    "print(\"Precision : \", precision_score(verdict, target_test, average=\"weighted\"))\n",
    "print(\"Recall : \", recall_score(verdict, target_test, average=\"weighted\"))"
   ]
  },
  {
   "cell_type": "code",
   "execution_count": null,
   "metadata": {},
   "outputs": [],
   "source": []
  }
 ],
 "metadata": {
  "colab": {
   "name": "Sentiment_Analyst_Test_v4.ipynb",
   "provenance": [],
   "toc_visible": true
  },
  "hide_input": false,
  "kernelspec": {
   "display_name": "Python 3",
   "language": "python",
   "name": "python3"
  },
  "language_info": {
   "codemirror_mode": {
    "name": "ipython",
    "version": 3
   },
   "file_extension": ".py",
   "mimetype": "text/x-python",
   "name": "python",
   "nbconvert_exporter": "python",
   "pygments_lexer": "ipython3",
   "version": "3.8.10"
  },
  "toc": {
   "base_numbering": 1,
   "nav_menu": {},
   "number_sections": true,
   "sideBar": true,
   "skip_h1_title": false,
   "title_cell": "Table of Contents",
   "title_sidebar": "Contents",
   "toc_cell": false,
   "toc_position": {},
   "toc_section_display": true,
   "toc_window_display": false
  },
  "varInspector": {
   "cols": {
    "lenName": 16,
    "lenType": 16,
    "lenVar": 40
   },
   "kernels_config": {
    "python": {
     "delete_cmd_postfix": "",
     "delete_cmd_prefix": "del ",
     "library": "var_list.py",
     "varRefreshCmd": "print(var_dic_list())"
    },
    "r": {
     "delete_cmd_postfix": ") ",
     "delete_cmd_prefix": "rm(",
     "library": "var_list.r",
     "varRefreshCmd": "cat(var_dic_list()) "
    }
   },
   "types_to_exclude": [
    "module",
    "function",
    "builtin_function_or_method",
    "instance",
    "_Feature"
   ],
   "window_display": false
  }
 },
 "nbformat": 4,
 "nbformat_minor": 4
}
