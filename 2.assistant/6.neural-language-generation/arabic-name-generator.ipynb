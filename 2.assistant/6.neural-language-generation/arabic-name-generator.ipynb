{
 "cells": [
  {
   "cell_type": "markdown",
   "metadata": {},
   "source": [
    "# Arabic Name Generator with RNNs in Keras"
   ]
  },
  {
   "cell_type": "markdown",
   "metadata": {},
   "source": [
    "This kernel is just for fun purposes i just wanted to try an idea i had in mind most of the code are extracted from those 2 repos \n",
    "https://github.com/antonio-f/Generating-names-with-RNN/blob/master/Generating%20names%20with%20recurrent%20neural%20networks/RNN-task.ipynb <br>\n",
    "https://github.com/simon-larsson/pokemon-name-generator"
   ]
  },
  {
   "cell_type": "code",
   "execution_count": 1,
   "metadata": {
    "_cell_guid": "79c7e3d0-c299-4dcb-8224-4455121ee9b0",
    "_uuid": "d629ff2d2480ee46fbb7e2d37f6b5fab8052498a"
   },
   "outputs": [
    {
     "name": "stderr",
     "output_type": "stream",
     "text": [
      "Using TensorFlow backend.\n"
     ]
    }
   ],
   "source": [
    "import pandas as pd\n",
    "import numpy as np\n",
    "import keras\n",
    "import time\n",
    "from keras.models import Sequential\n",
    "from keras.layers import Dense\n",
    "from keras.layers import LSTM\n",
    "from keras.optimizers import RMSprop,Adam\n",
    "import numpy as np\n",
    "import random\n",
    "import os"
   ]
  },
  {
   "cell_type": "code",
   "execution_count": 2,
   "metadata": {},
   "outputs": [],
   "source": [
    "dataset = pd.read_csv(\"/kaggle/input/Arabic_Names.csv\")"
   ]
  },
  {
   "cell_type": "code",
   "execution_count": 3,
   "metadata": {},
   "outputs": [],
   "source": [
    "names = dataset.loc[:,\"Arabic_Name\"]"
   ]
  },
  {
   "cell_type": "code",
   "execution_count": 4,
   "metadata": {},
   "outputs": [],
   "source": [
    "step_length = 1   \n",
    "epochs = 50       \n",
    "batch_size = 64    \n",
    "latent_dim = 128   \n",
    "dropout_rate = 0.2 \n",
    "verbosity = 0     \n",
    "gen_amount = 10    "
   ]
  },
  {
   "cell_type": "code",
   "execution_count": 5,
   "metadata": {},
   "outputs": [],
   "source": [
    "input_names = []\n",
    "for name in names:\n",
    "    name = name.rstrip()\n",
    "    input_names.append(name)"
   ]
  },
  {
   "cell_type": "code",
   "execution_count": 6,
   "metadata": {},
   "outputs": [
    {
     "name": "stdout",
     "output_type": "stream",
     "text": [
      "Total chars: 30\n",
      "Corpus length: 32675\n",
      "Number of names:  4511\n",
      "Longest name:  18\n"
     ]
    }
   ],
   "source": [
    "concat_names = '\\n'.join(input_names).lower()\n",
    "\n",
    "chars = sorted(list(set(concat_names)))\n",
    "num_chars = len(chars)\n",
    "\n",
    "char2idx = dict((c, i) for i, c in enumerate(chars))\n",
    "idx2char = dict((i, c) for i, c in enumerate(chars))\n",
    "\n",
    "max_sequence_length = max([len(name) for name in input_names])\n",
    "\n",
    "print('Total chars: {}'.format(num_chars))\n",
    "print('Corpus length:', len(concat_names))\n",
    "print('Number of names: ', len(input_names))\n",
    "print('Longest name: ', max_sequence_length)"
   ]
  },
  {
   "cell_type": "code",
   "execution_count": 7,
   "metadata": {},
   "outputs": [],
   "source": [
    "max_sequence_length = 50"
   ]
  },
  {
   "cell_type": "code",
   "execution_count": 8,
   "metadata": {},
   "outputs": [
    {
     "name": "stdout",
     "output_type": "stream",
     "text": [
      "X=[aaban aabid aadil aahil aalam aalee aalim aamil aa]   y=[m]\n",
      "X=[aban aabid aadil aahil aalam aalee aalim aamil aam]   y=[i]\n",
      "X=[ban aabid aadil aahil aalam aalee aalim aamil aami]   y=[r]\n",
      "X=[an aabid aadil aahil aalam aalee aalim aamil aamir]   y=[ ]\n",
      "X=[n aabid aadil aahil aalam aalee aalim aamil aamir ]   y=[a]\n",
      "X=[ aabid aadil aahil aalam aalee aalim aamil aamir a]   y=[a]\n",
      "X=[aabid aadil aahil aalam aalee aalim aamil aamir aa]   y=[q]\n",
      "X=[abid aadil aahil aalam aalee aalim aamil aamir aaq]   y=[i]\n",
      "X=[bid aadil aahil aalam aalee aalim aamil aamir aaqi]   y=[b]\n",
      "X=[id aadil aahil aalam aalee aalim aamil aamir aaqib]   y=[ ]\n",
      "X=[d aadil aahil aalam aalee aalim aamil aamir aaqib ]   y=[a]\n",
      "X=[ aadil aahil aalam aalee aalim aamil aamir aaqib a]   y=[a]\n",
      "X=[aadil aahil aalam aalee aalim aamil aamir aaqib aa]   y=[q]\n",
      "X=[adil aahil aalam aalee aalim aamil aamir aaqib aaq]   y=[i]\n",
      "X=[dil aahil aalam aalee aalim aamil aamir aaqib aaqi]   y=[l]\n",
      "X=[il aahil aalam aalee aalim aamil aamir aaqib aaqil]   y=[ ]\n",
      "X=[l aahil aalam aalee aalim aamil aamir aaqib aaqil ]   y=[a]\n",
      "X=[ aahil aalam aalee aalim aamil aamir aaqib aaqil a]   y=[a]\n",
      "X=[aahil aalam aalee aalim aamil aamir aaqib aaqil aa]   y=[r]\n",
      "X=[ahil aalam aalee aalim aamil aamir aaqib aaqil aar]   y=[i]\n"
     ]
    }
   ],
   "source": [
    "sequences = []\n",
    "next_chars = []\n",
    "for i in range(0, len(concat_names) - max_sequence_length, step_length):\n",
    "    sequences.append(concat_names[i: i + max_sequence_length])\n",
    "    next_chars.append(concat_names[i + max_sequence_length])\n",
    "\n",
    "num_sequences = len(sequences)\n",
    "\n",
    "for i in range(20):\n",
    "    print('X=[{}]   y=[{}]'.replace('\\n', ' ').format(sequences[i], next_chars[i]).replace('\\n', ' '))"
   ]
  },
  {
   "cell_type": "code",
   "execution_count": 9,
   "metadata": {},
   "outputs": [
    {
     "name": "stdout",
     "output_type": "stream",
     "text": [
      "X shape: (32625, 50, 30)\n",
      "Y shape: (32625, 30)\n",
      "[[False False False ... False False False]\n",
      " [False False False ... False False False]\n",
      " [False False False ... False False False]\n",
      " ...\n",
      " [ True False False ... False False False]\n",
      " [False False False ... False False False]\n",
      " [False False False ... False False False]]\n",
      "[False False False False False False False False False False False False\n",
      " False False False False False  True False False False False False False\n",
      " False False False False False False]\n"
     ]
    }
   ],
   "source": [
    "X = np.zeros((num_sequences, max_sequence_length, num_chars), dtype=np.bool)\n",
    "Y = np.zeros((num_sequences, num_chars), dtype=np.bool)\n",
    "\n",
    "for i, sequence in enumerate(sequences):\n",
    "    for j, char in enumerate(sequence):\n",
    "        X[i, j, char2idx[char]] = 1\n",
    "    Y[i, char2idx[next_chars[i]]] = 1\n",
    "    \n",
    "print('X shape: {}'.format(X.shape))\n",
    "print('Y shape: {}'.format(Y.shape))\n",
    "print(X[0])\n",
    "print(Y[0])"
   ]
  },
  {
   "cell_type": "code",
   "execution_count": 10,
   "metadata": {},
   "outputs": [
    {
     "name": "stdout",
     "output_type": "stream",
     "text": [
      "Model: \"sequential_1\"\n",
      "_________________________________________________________________\n",
      "Layer (type)                 Output Shape              Param #   \n",
      "=================================================================\n",
      "lstm_1 (LSTM)                (None, 128)               81408     \n",
      "_________________________________________________________________\n",
      "dense_1 (Dense)              (None, 30)                3870      \n",
      "=================================================================\n",
      "Total params: 85,278\n",
      "Trainable params: 85,278\n",
      "Non-trainable params: 0\n",
      "_________________________________________________________________\n"
     ]
    }
   ],
   "source": [
    "model = Sequential()\n",
    "model.add(LSTM(latent_dim, \n",
    "               input_shape=(max_sequence_length, num_chars),  \n",
    "               recurrent_dropout=dropout_rate))\n",
    "model.add(Dense(units=num_chars, activation='softmax'))\n",
    "\n",
    "optimizer = Adam(lr=0.01)\n",
    "model.compile(loss='categorical_crossentropy',\n",
    "              optimizer=optimizer)\n",
    "\n",
    "model.summary()"
   ]
  },
  {
   "cell_type": "code",
   "execution_count": 11,
   "metadata": {},
   "outputs": [
    {
     "name": "stdout",
     "output_type": "stream",
     "text": [
      "Start training for 50 epochs\n",
      "Finished training - time elapsed: 33.33084577719371 min\n"
     ]
    }
   ],
   "source": [
    "start = time.time()\n",
    "print('Start training for {} epochs'.format(epochs))\n",
    "history = model.fit(X, Y, epochs=epochs, batch_size=batch_size, verbose=verbosity)\n",
    "end = time.time()\n",
    "print('Finished training - time elapsed:', (end - start)/60, 'min')"
   ]
  },
  {
   "cell_type": "code",
   "execution_count": 12,
   "metadata": {},
   "outputs": [],
   "source": [
    "def generate_names():\n",
    "    r = np.random.choice(len(concat_names)-1)\n",
    "    r2 = r-max_sequence_length\n",
    "\n",
    "    sequence = concat_names[r2:r-1] + '\\n'\n",
    "\n",
    "    new_names = []\n",
    "    #print(sequence)\n",
    "    while len(new_names) < 1:\n",
    "\n",
    "        x = np.zeros((1, max_sequence_length, num_chars))\n",
    "        for i, char in enumerate(sequence):\n",
    "            x[0, i, char2idx[char]] = 1\n",
    "\n",
    "        probs = model.predict(x, verbose=0)[0]\n",
    "        probs /= probs.sum()\n",
    "        next_idx = np.random.choice(len(probs), p=probs)   \n",
    "        next_char = idx2char[next_idx]   \n",
    "        sequence = sequence[1:] + next_char\n",
    "\n",
    "        if next_char == '\\n':\n",
    "\n",
    "            gen_name = [name for name in sequence.split('\\n')][1]\n",
    "\n",
    "            if len(gen_name) > 4 and gen_name[0] == gen_name[1]:\n",
    "                gen_name = gen_name[1:]\n",
    "\n",
    "            if len(gen_name) > 4 and len(gen_name) <= 7:\n",
    "\n",
    "                if gen_name not in input_names + new_names:\n",
    "                    new_names.append(gen_name.capitalize())\n",
    "                    return gen_name.capitalize()\n"
   ]
  },
  {
   "cell_type": "code",
   "execution_count": 13,
   "metadata": {},
   "outputs": [
    {
     "name": "stdout",
     "output_type": "stream",
     "text": [
      "Safdah\n",
      "Khujran\n",
      "Walifan\n",
      "Muthan\n",
      "Muttami\n",
      "Layah\n",
      "Shaurah\n",
      "Hubays\n",
      "Yayeer\n",
      "Nehzaat\n",
      "Rohaid\n",
      "Mukeera\n",
      "Asbath\n",
      "Shurrah\n",
      "Subara\n",
      "Reyan\n",
      "Marbad\n",
      "Ghaniya\n",
      "Ilwaz\n",
      "Shiyad\n"
     ]
    }
   ],
   "source": [
    "for _ in range(20):\n",
    "    print(generate_names())\n"
   ]
  }
 ],
 "metadata": {
  "kernelspec": {
   "display_name": "Python 3",
   "language": "python",
   "name": "python3"
  },
  "language_info": {
   "codemirror_mode": {
    "name": "ipython",
    "version": 3
   },
   "file_extension": ".py",
   "mimetype": "text/x-python",
   "name": "python",
   "nbconvert_exporter": "python",
   "pygments_lexer": "ipython3",
   "version": "3.8.10"
  }
 },
 "nbformat": 4,
 "nbformat_minor": 4
}
