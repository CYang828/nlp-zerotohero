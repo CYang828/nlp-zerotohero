{
 "cells": [
  {
   "cell_type": "markdown",
   "metadata": {},
   "source": [
    "# Evaluation"
   ]
  },
  {
   "cell_type": "markdown",
   "metadata": {},
   "source": [
    "## For Text"
   ]
  },
  {
   "cell_type": "code",
   "execution_count": 1,
   "metadata": {},
   "outputs": [
    {
     "name": "stdout",
     "output_type": "stream",
     "text": [
      "Collecting rouge\n",
      "  Downloading rouge-1.0.0-py3-none-any.whl (14 kB)\n",
      "Requirement already satisfied: six in /Users/zhangchunyang/.local/lib/python3.8/site-packages (from rouge) (1.15.0)\n",
      "Installing collected packages: rouge\n",
      "Successfully installed rouge-1.0.0\n"
     ]
    }
   ],
   "source": [
    "!pip install rouge"
   ]
  },
  {
   "cell_type": "code",
   "execution_count": 2,
   "metadata": {},
   "outputs": [],
   "source": [
    "from rouge import Rouge\n",
    "\n",
    "\n",
    "model_out = \"he began by starting a five person war cabinet and included chamberlain as lord president of the council\"\n",
    "\n",
    "reference = \"he began his premiership by forming a five-man war cabinet which included chamberlain as lord president of the council\""
   ]
  },
  {
   "cell_type": "code",
   "execution_count": 4,
   "metadata": {},
   "outputs": [],
   "source": [
    "rouge = Rouge()"
   ]
  },
  {
   "cell_type": "code",
   "execution_count": 6,
   "metadata": {},
   "outputs": [
    {
     "data": {
      "text/plain": [
       "[{'rouge-1': {'f': 0.7567567517604091,\n",
       "   'p': 0.7777777777777778,\n",
       "   'r': 0.7368421052631579},\n",
       "  'rouge-2': {'f': 0.514285709289796, 'p': 0.5294117647058824, 'r': 0.5},\n",
       "  'rouge-l': {'f': 0.7567567517604091,\n",
       "   'p': 0.7777777777777778,\n",
       "   'r': 0.7368421052631579}}]"
      ]
     },
     "execution_count": 6,
     "metadata": {},
     "output_type": "execute_result"
    }
   ],
   "source": [
    "rouge.get_scores(model_out, reference)"
   ]
  },
  {
   "cell_type": "markdown",
   "metadata": {},
   "source": [
    "The get_scores method returns three metrics, ROUGE-N using a unigram (ROUGE-1) and a bigram (ROUGE-2) — and ROUGE-L.\n",
    "\n",
    "\n",
    "For each of these, we receive the F1 score f, precision p, and recall r."
   ]
  },
  {
   "cell_type": "markdown",
   "metadata": {},
   "source": [
    "## For Dataset"
   ]
  },
  {
   "cell_type": "code",
   "execution_count": 7,
   "metadata": {},
   "outputs": [],
   "source": [
    "from rouge import Rouge"
   ]
  },
  {
   "cell_type": "code",
   "execution_count": 8,
   "metadata": {},
   "outputs": [],
   "source": [
    "\n",
    "model_out = [\"he began by starting a five person war cabinet and included chamberlain as lord president of the council\",\n",
    "             \"the siege lasted from 250 to 241 bc, the romans laid siege to lilybaeum\",\n",
    "             \"the original ocean water was found in aquaculture\"]\n",
    "\n",
    "reference = [\"he began his premiership by forming a five-man war cabinet which included chamberlain as lord president of the council\",\n",
    "             \"the siege of lilybaeum lasted from 250 to 241 bc, as the roman army laid siege to the carthaginian-held sicilian city of lilybaeum\",\n",
    "             \"the original mission was for research into the uses of deep ocean water in ocean thermal energy conversion (otec) renewable energy production and in aquaculture\"]"
   ]
  },
  {
   "cell_type": "code",
   "execution_count": 9,
   "metadata": {},
   "outputs": [],
   "source": [
    "rouge = Rouge()"
   ]
  },
  {
   "cell_type": "code",
   "execution_count": 11,
   "metadata": {},
   "outputs": [
    {
     "data": {
      "text/plain": [
       "{'rouge-1': {'f': 0.6279006234427593,\n",
       "  'p': 0.8604497354497355,\n",
       "  'r': 0.5273531655225019},\n",
       " 'rouge-2': {'f': 0.3883256484545606,\n",
       "  'p': 0.5244559362206421,\n",
       "  'r': 0.32954545454545453},\n",
       " 'rouge-l': {'f': 0.6282785202429159,\n",
       "  'p': 0.8122895622895623,\n",
       "  'r': 0.5369305616983636}}"
      ]
     },
     "execution_count": 11,
     "metadata": {},
     "output_type": "execute_result"
    }
   ],
   "source": [
    "rouge.get_scores(model_out, reference, avg=True)"
   ]
  },
  {
   "cell_type": "code",
   "execution_count": null,
   "metadata": {},
   "outputs": [],
   "source": []
  }
 ],
 "metadata": {
  "kernelspec": {
   "display_name": "Python 3",
   "language": "python",
   "name": "python3"
  },
  "language_info": {
   "codemirror_mode": {
    "name": "ipython",
    "version": 3
   },
   "file_extension": ".py",
   "mimetype": "text/x-python",
   "name": "python",
   "nbconvert_exporter": "python",
   "pygments_lexer": "ipython3",
   "version": "3.8.3"
  }
 },
 "nbformat": 4,
 "nbformat_minor": 4
}
